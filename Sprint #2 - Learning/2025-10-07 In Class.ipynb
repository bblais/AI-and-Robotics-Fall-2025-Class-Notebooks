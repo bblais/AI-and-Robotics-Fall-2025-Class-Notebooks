{
 "cells": [
  {
   "cell_type": "code",
   "execution_count": 1,
   "id": "d028deb0-a3b1-4735-8931-0d796f517ef4",
   "metadata": {},
   "outputs": [
    {
     "name": "stdout",
     "output_type": "stream",
     "text": [
      "Version:  0.3.15\n"
     ]
    }
   ],
   "source": [
    "from Game import *"
   ]
  },
  {
   "cell_type": "code",
   "execution_count": 2,
   "id": "25303bc3-0a6f-4649-92fb-b984eedb5c47",
   "metadata": {},
   "outputs": [],
   "source": [
    "b1=Board(3,3)\n",
    "b1.board=list(range(9))\n",
    "b2=Board(3,3)\n",
    "b2.board=list(range(10,19))\n",
    "\n",
    "b3=Board(3,3)\n",
    "b3.board=list(range(20,29))"
   ]
  },
  {
   "cell_type": "code",
   "execution_count": 3,
   "id": "230dcb35-8cbf-4702-8555-07c027399042",
   "metadata": {},
   "outputs": [
    {
     "data": {
      "text/plain": [
       "' 0  1  2 \\n 3  4  5 \\n 6  7  8 \\n'"
      ]
     },
     "execution_count": 3,
     "metadata": {},
     "output_type": "execute_result"
    }
   ],
   "source": [
    "str(b1)"
   ]
  },
  {
   "cell_type": "code",
   "execution_count": 4,
   "id": "c6497857-832f-42f2-b171-841638bd51cb",
   "metadata": {},
   "outputs": [],
   "source": [
    "def combine_boards(b1,b2,b3):\n",
    "    s1=str(b1)[:-1]\n",
    "    s2=str(b2)[:-1]\n",
    "    s3=str(b3)[:-1]\n",
    "\n",
    "    S=''\n",
    "    for l1,l2,l3 in zip(s1.split('\\n'),s2.split('\\n'),s3.split('\\n')):\n",
    "        S+=l1+\"| \"+l2+\"| \"+l3+\"\\n\"\n",
    "\n",
    "    return S\n",
    "\n",
    "        "
   ]
  },
  {
   "cell_type": "code",
   "execution_count": 5,
   "id": "12a466cb-45e3-4de7-8574-45ec91852293",
   "metadata": {},
   "outputs": [
    {
     "name": "stdout",
     "output_type": "stream",
     "text": [
      " 0  1  2 | 10 11 12 | 20 21 22 \n",
      " 3  4  5 | 13 14 15 | 23 24 25 \n",
      " 6  7  8 | 16 17 18 | 26 27 28 \n",
      "\n"
     ]
    }
   ],
   "source": [
    "print(combine_boards(b1,b2,b3))"
   ]
  },
  {
   "cell_type": "code",
   "execution_count": null,
   "id": "e1fa9a98-5261-4e87-806f-8eb477bd7a89",
   "metadata": {},
   "outputs": [],
   "source": []
  },
  {
   "cell_type": "code",
   "execution_count": 7,
   "id": "62a7c58c-29dc-4835-8291-4a4a6b7b8f43",
   "metadata": {},
   "outputs": [
    {
     "ename": "NameError",
     "evalue": "name 'state' is not defined",
     "output_type": "error",
     "traceback": [
      "\u001b[31m---------------------------------------------------------------------------\u001b[39m",
      "\u001b[31mNameError\u001b[39m                                 Traceback (most recent call last)",
      "\u001b[36mCell\u001b[39m\u001b[36m \u001b[39m\u001b[32mIn[7]\u001b[39m\u001b[32m, line 1\u001b[39m\n\u001b[32m----> \u001b[39m\u001b[32m1\u001b[39m \u001b[43mstate\u001b[49m[\u001b[32m4\u001b[39m]\n",
      "\u001b[31mNameError\u001b[39m: name 'state' is not defined"
     ]
    }
   ],
   "source": [
    "state[4]"
   ]
  },
  {
   "cell_type": "code",
   "execution_count": 8,
   "id": "b1f8dcc4-48db-431c-8afc-0c9c867ad64d",
   "metadata": {},
   "outputs": [],
   "source": [
    "def show_state(state):\n",
    "\n",
    "    S=\"\"\n",
    "    for r in range(3):\n",
    "        S1=\"\"\n",
    "        for c in range(3):\n",
    "            b=state[r,c]\n",
    "            b_str=str(b)\n",
    "            \n",
    "    S=''\n",
    "    for l1,l2 in zip(s1.split('\\n'),s2.split('\\n')):\n",
    "        S+=l1+\"| \"+l2+\"\\n\"\n",
    "\n",
    "    return S\n",
    "\n"
   ]
  },
  {
   "cell_type": "code",
   "execution_count": 28,
   "id": "7003903e-b82a-47ea-9187-a2c51e0e9606",
   "metadata": {},
   "outputs": [],
   "source": [
    "def initial_state():\n",
    "    board=Board(3,3)\n",
    "    board[0]=1\n",
    "    board[2]=11\n",
    "    board[8]=2\n",
    "    board[6]=22\n",
    "\n",
    "    moves_list=[]\n",
    "    return board,moves_list"
   ]
  },
  {
   "cell_type": "code",
   "execution_count": 29,
   "id": "78cfa101-5ea4-45ad-9637-e223ed46c2d5",
   "metadata": {},
   "outputs": [
    {
     "data": {
      "text/plain": [
       "( 1  0 11 \n",
       "  0  0  0 \n",
       " 22  0  2 ,\n",
       " [])"
      ]
     },
     "execution_count": 29,
     "metadata": {},
     "output_type": "execute_result"
    }
   ],
   "source": [
    "state=initial_state()\n",
    "state"
   ]
  },
  {
   "cell_type": "code",
   "execution_count": 12,
   "id": "69b35f02-498c-400c-b0f5-30e660a91495",
   "metadata": {},
   "outputs": [],
   "source": [
    "def valid_moves(state,player):\n",
    "\n",
    "    board,moves_list=state\n",
    "\n",
    "    if len(moves_list)==3:\n",
    "        return [  [-1,-1]  ]   # this is the end-turn move\n",
    "    \n",
    "    if player==1:\n",
    "        if 11 in moves_list:  # only a player move\n",
    "            moves=state.moves(1,\"n\",\"s\",\"e\",\"w\")\n",
    "        else:\n",
    "            moves=state.moves(1,\"n\",\"s\",\"e\",\"w\")+state.moves(11,\"n\",\"s\",\"e\",\"w\")\n",
    "    elif player==2:\n",
    "        if 22 in moves_list:\n",
    "            moves=state.moves(2,\"n\",\"s\",\"e\",\"w\")\n",
    "        else:\n",
    "            moves=state.moves(2,\"n\",\"s\",\"e\",\"w\")+state.moves(22,\"n\",\"s\",\"e\",\"w\")\n",
    "    else:\n",
    "        raise ValueError(\"You can't get there from here\")\n",
    "\n",
    "    moves.append([-1,-1])\n",
    "    return moves"
   ]
  },
  {
   "cell_type": "code",
   "execution_count": 13,
   "id": "77bfd854-71d8-4e16-9562-11770d068de0",
   "metadata": {},
   "outputs": [
    {
     "data": {
      "text/plain": [
       "[[8, 5], [8, 7], [6, 3], [6, 7]]"
      ]
     },
     "execution_count": 13,
     "metadata": {},
     "output_type": "execute_result"
    }
   ],
   "source": [
    "valid_moves(state,2)"
   ]
  },
  {
   "cell_type": "code",
   "execution_count": 14,
   "id": "a2ce37ef-efd8-4609-841f-f0da568ddfe0",
   "metadata": {},
   "outputs": [],
   "source": [
    "def win_status(state,player):\n",
    "    other_player=3-player\n",
    "    if not valid_moves(state,other_player):\n",
    "        return \"win\""
   ]
  },
  {
   "cell_type": "code",
   "execution_count": 23,
   "id": "9af8cd73-808c-407d-8eae-4e3f1c3c4621",
   "metadata": {},
   "outputs": [],
   "source": [
    "def update_state(state,player,move):\n",
    "    board,moves_list=state\n",
    "    start,end=move\n",
    "\n",
    "    if end<=0:\n",
    "        return board,[]\n",
    "\n",
    "    \n",
    "    board[end]=board[start]\n",
    "    board[start]=0\n",
    "    moves_list.append(board[end])\n",
    "\n",
    "    return board,moves_list"
   ]
  },
  {
   "cell_type": "code",
   "execution_count": 24,
   "id": "14d05f34-36fd-49af-a12d-6fcdfb9781ca",
   "metadata": {},
   "outputs": [],
   "source": [
    "def show_state(state,player):\n",
    "    print(state)"
   ]
  },
  {
   "cell_type": "code",
   "execution_count": 25,
   "id": "736ccbe6-8fd0-425e-adc7-9df85871124f",
   "metadata": {},
   "outputs": [],
   "source": [
    "def repeat_move(state,player,move):\n",
    "    board,moves_list=state  \n",
    "    start,end=move\n",
    "\n",
    "    if end<=0:\n",
    "        return False\n",
    "    \n",
    "    if len(moves_list)<3:\n",
    "        return True\n",
    "    else:\n",
    "        return False"
   ]
  },
  {
   "cell_type": "code",
   "execution_count": 26,
   "id": "6261690c-b434-4399-93cf-3a6dd8f72ec7",
   "metadata": {},
   "outputs": [],
   "source": [
    "def random_move(state,player):\n",
    "    return random.choice(valid_moves(state,player))\n",
    "random_agent=Agent(random_move)"
   ]
  },
  {
   "cell_type": "code",
   "execution_count": 27,
   "id": "16612779-aa0d-4848-b095-08a41ba30d88",
   "metadata": {},
   "outputs": [
    {
     "name": "stdout",
     "output_type": "stream",
     "text": [
      "====\n",
      "Game  1\n",
      " 1  0 11 \n",
      " 0  0  0 \n",
      "22  0  2 \n",
      "\n",
      "Player 1 moves [0, 3]\n",
      "repeat\n",
      " 0  0 11 \n",
      " 1  0  0 \n",
      "22  0  2 \n",
      "\n"
     ]
    },
    {
     "ename": "ValueError",
     "evalue": "",
     "output_type": "error",
     "traceback": [
      "\u001b[31m---------------------------------------------------------------------------\u001b[39m",
      "\u001b[31mValueError\u001b[39m                                Traceback (most recent call last)",
      "\u001b[36mCell\u001b[39m\u001b[36m \u001b[39m\u001b[32mIn[27]\u001b[39m\u001b[32m, line 2\u001b[39m\n\u001b[32m      1\u001b[39m g=Game()\n\u001b[32m----> \u001b[39m\u001b[32m2\u001b[39m \u001b[43mg\u001b[49m\u001b[43m.\u001b[49m\u001b[43mrun\u001b[49m\u001b[43m(\u001b[49m\u001b[43mrandom_agent\u001b[49m\u001b[43m,\u001b[49m\u001b[43mrandom_agent\u001b[49m\u001b[43m)\u001b[49m\n",
      "\u001b[36mFile \u001b[39m\u001b[32m~/venvs/work/lib/python3.12/site-packages/Game/game.py:367\u001b[39m, in \u001b[36mGame.run\u001b[39m\u001b[34m(self, agent1, agent2)\u001b[39m\n\u001b[32m    365\u001b[39m \u001b[38;5;28;01mif\u001b[39;00m new_state \u001b[38;5;129;01mis\u001b[39;00m \u001b[38;5;28;01mNone\u001b[39;00m:\n\u001b[32m    366\u001b[39m     \u001b[38;5;28;01mraise\u001b[39;00m \u001b[38;5;167;01mValueError\u001b[39;00m(\u001b[33m\"\u001b[39m\u001b[33mupdate_state returned None - Did you forget to return the state?\u001b[39m\u001b[33m\"\u001b[39m)\n\u001b[32m--> \u001b[39m\u001b[32m367\u001b[39m repeat=\u001b[38;5;28;43mself\u001b[39;49m\u001b[43m.\u001b[49m\u001b[43mrepeat_move\u001b[49m\u001b[43m(\u001b[49m\u001b[43mdeepcopy\u001b[49m\u001b[43m(\u001b[49m\u001b[43mnew_state\u001b[49m\u001b[43m)\u001b[49m\u001b[43m,\u001b[49m\u001b[43mplayer\u001b[49m\u001b[43m,\u001b[49m\u001b[43mmove\u001b[49m\u001b[43m)\u001b[49m\n\u001b[32m    369\u001b[39m \u001b[38;5;28mself\u001b[39m.state=new_state\n\u001b[32m    370\u001b[39m \u001b[38;5;28;01mif\u001b[39;00m \u001b[38;5;28mself\u001b[39m.save_states:\n",
      "\u001b[36mCell\u001b[39m\u001b[36m \u001b[39m\u001b[32mIn[25]\u001b[39m\u001b[32m, line 4\u001b[39m, in \u001b[36mrepeat_move\u001b[39m\u001b[34m(state, player, move)\u001b[39m\n\u001b[32m      2\u001b[39m \u001b[38;5;28mprint\u001b[39m(\u001b[33m\"\u001b[39m\u001b[33mrepeat\u001b[39m\u001b[33m\"\u001b[39m)\n\u001b[32m      3\u001b[39m \u001b[38;5;28mprint\u001b[39m(state)\n\u001b[32m----> \u001b[39m\u001b[32m4\u001b[39m \u001b[38;5;28;01mraise\u001b[39;00m \u001b[38;5;167;01mValueError\u001b[39;00m\n",
      "\u001b[31mValueError\u001b[39m: "
     ]
    }
   ],
   "source": [
    "g=Game()\n",
    "g.run(random_agent,random_agent)"
   ]
  },
  {
   "cell_type": "code",
   "execution_count": 31,
   "id": "873a326a-ebf9-41bf-b1e7-863dc477a2c7",
   "metadata": {},
   "outputs": [
    {
     "name": "stdout",
     "output_type": "stream",
     "text": [
      "win\n"
     ]
    }
   ],
   "source": [
    "state=Board(4,5)\n",
    "state[0]=state[6]=state[12]=1\n",
    "board=Board(4,5)\n",
    "board.board=list(range(20))\n",
    "\n",
    "player=1\n",
    "for a,b,c in board.diags(3):\n",
    "    if state[a]==player and state[b]==player and state[c]==player:\n",
    "        print(\"win\")\n"
   ]
  },
  {
   "cell_type": "code",
   "execution_count": 32,
   "id": "ee94a184-3d29-47c0-ad6f-26738b882192",
   "metadata": {},
   "outputs": [
    {
     "name": "stdout",
     "output_type": "stream",
     "text": [
      "win\n"
     ]
    }
   ],
   "source": [
    "for a,b,c in state.diags(3):\n",
    "    if a==player and b==player and c==player:\n",
    "        print(\"win\")"
   ]
  },
  {
   "cell_type": "code",
   "execution_count": 33,
   "id": "b7c32eed-c1fd-4be5-ad4a-57d6c81e5d0d",
   "metadata": {},
   "outputs": [
    {
     "name": "stdout",
     "output_type": "stream",
     "text": [
      " 0  1  2  3  4 \n",
      " 5  6  7  8  9 \n",
      "10 11 12 13 14 \n",
      "15 16 17 18 19 \n",
      "\n"
     ]
    }
   ],
   "source": [
    "state=Board(4,5)\n",
    "state.show_locations()"
   ]
  },
  {
   "cell_type": "code",
   "execution_count": 35,
   "id": "98bd55fb-5863-4cb4-88f8-ce4352691018",
   "metadata": {},
   "outputs": [
    {
     "data": {
      "text/plain": [
       "0"
      ]
     },
     "execution_count": 35,
     "metadata": {},
     "output_type": "execute_result"
    }
   ],
   "source": [
    "i=16\n",
    "player=0\n",
    "row,col=state.row(i),state.col(i)\n",
    "row,col\n",
    "\n",
    "state[row,col]\n",
    "    "
   ]
  },
  {
   "cell_type": "code",
   "execution_count": 36,
   "id": "d565314f-e535-48d6-908b-be2d12a8b69f",
   "metadata": {},
   "outputs": [],
   "source": [
    "def initial_state():\n",
    "    state=Board(3,3)\n",
    "    for i in [0,1,2]:\n",
    "        state[i]=1\n",
    "    for i in [6,7,8]:\n",
    "        state[i]=2\n",
    "\n",
    "    return state\n",
    "        "
   ]
  },
  {
   "cell_type": "code",
   "execution_count": 39,
   "id": "7ec79336-59aa-4c57-87ca-dae82eaa24ce",
   "metadata": {},
   "outputs": [
    {
     "data": {
      "text/plain": [
       " 1  1  1 \n",
       " 0  0  0 \n",
       " 2  2  2 "
      ]
     },
     "execution_count": 39,
     "metadata": {},
     "output_type": "execute_result"
    }
   ],
   "source": [
    "state=initial_state()\n",
    "state"
   ]
  },
  {
   "cell_type": "code",
   "execution_count": 41,
   "id": "fb5ed328-8566-4e60-9104-3de76545ce9b",
   "metadata": {},
   "outputs": [],
   "source": [
    "def show_state(state,player):\n",
    "    print(state)"
   ]
  },
  {
   "cell_type": "code",
   "execution_count": 42,
   "id": "177d9792-e419-4bcf-aed0-1be467d452c8",
   "metadata": {},
   "outputs": [],
   "source": [
    "def update_state(state,player,move):\n",
    "    start,end=move\n",
    "\n",
    "    state[start]=0\n",
    "    state[end]=player\n",
    "\n",
    "    return state"
   ]
  },
  {
   "cell_type": "code",
   "execution_count": 43,
   "id": "b04d9650-0564-47cc-b161-6c0ba9255fc1",
   "metadata": {},
   "outputs": [
    {
     "name": "stdout",
     "output_type": "stream",
     "text": [
      " 1  1  1 \n",
      " 0  0  0 \n",
      " 2  2  2 \n",
      "\n"
     ]
    }
   ],
   "source": [
    "state=initial_state()\n",
    "show_state(state,1)"
   ]
  },
  {
   "cell_type": "code",
   "execution_count": 45,
   "id": "726e56b5-b46e-4458-81c4-7d906e463e40",
   "metadata": {},
   "outputs": [
    {
     "name": "stdout",
     "output_type": "stream",
     "text": [
      " 1  0  1 \n",
      " 0  1  0 \n",
      " 2  2  2 \n",
      "\n"
     ]
    }
   ],
   "source": [
    "state=update_state(state,1, [1,4])\n",
    "show_state(state,1)"
   ]
  },
  {
   "cell_type": "code",
   "execution_count": 46,
   "id": "f7afd60a-a69f-4c2c-adde-270c6df2ee9f",
   "metadata": {},
   "outputs": [
    {
     "name": "stdout",
     "output_type": "stream",
     "text": [
      " 0  1  2 \n",
      " 3  4  5 \n",
      " 6  7  8 \n",
      "\n"
     ]
    }
   ],
   "source": [
    "state.show_locations()"
   ]
  },
  {
   "cell_type": "code",
   "execution_count": null,
   "id": "76d6d0f7-79f2-45c2-9d59-4706dac04350",
   "metadata": {},
   "outputs": [],
   "source": [
    "if state[start]==1 and state[start+5]==0:\n",
    "    moves.append( [start,start+5]  )"
   ]
  }
 ],
 "metadata": {
  "kernelspec": {
   "display_name": "Python 3 (ipykernel)",
   "language": "python",
   "name": "python3"
  },
  "language_info": {
   "codemirror_mode": {
    "name": "ipython",
    "version": 3
   },
   "file_extension": ".py",
   "mimetype": "text/x-python",
   "name": "python",
   "nbconvert_exporter": "python",
   "pygments_lexer": "ipython3",
   "version": "3.12.6"
  }
 },
 "nbformat": 4,
 "nbformat_minor": 5
}
