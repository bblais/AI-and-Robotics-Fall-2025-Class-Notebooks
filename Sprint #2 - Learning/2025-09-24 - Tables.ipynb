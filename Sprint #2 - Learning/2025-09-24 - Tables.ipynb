{
 "cells": [
  {
   "cell_type": "code",
   "execution_count": 1,
   "id": "3f2fb566-7282-44ad-86c6-89b603603313",
   "metadata": {},
   "outputs": [
    {
     "name": "stdout",
     "output_type": "stream",
     "text": [
      "Version:  0.3.15\n"
     ]
    }
   ],
   "source": [
    "from Game import *"
   ]
  },
  {
   "cell_type": "code",
   "execution_count": 2,
   "id": "2ab84f7c-e408-4dab-8bff-8c30d78a32e1",
   "metadata": {},
   "outputs": [
    {
     "data": {
      "text/plain": [
       "{6: {3: 3, 2: 3, 1: 3}, 5: {3: 3, 2: 3, 1: 3}}"
      ]
     },
     "execution_count": 2,
     "metadata": {},
     "output_type": "execute_result"
    }
   ],
   "source": [
    "T=Table()\n",
    "\n",
    "state=6\n",
    "T[state]=Table()\n",
    "T[state][3]=3\n",
    "T[state][2]=3\n",
    "T[state][1]=3\n",
    "\n",
    "state=5\n",
    "T[state]=Table()\n",
    "T[state][3]=3\n",
    "T[state][2]=3\n",
    "T[state][1]=3\n",
    "\n",
    "T"
   ]
  },
  {
   "cell_type": "code",
   "execution_count": 3,
   "id": "6934d71d-af98-497f-b023-f89f5aa8e923",
   "metadata": {},
   "outputs": [
    {
     "data": {
      "text/plain": [
       " 0  0  0 \n",
       " 0  0  0 \n",
       " 0  0  0 "
      ]
     },
     "execution_count": 3,
     "metadata": {},
     "output_type": "execute_result"
    }
   ],
   "source": [
    "state=Board(3,3)\n",
    "state\n"
   ]
  },
  {
   "cell_type": "code",
   "execution_count": 21,
   "id": "e7da922e-c4b6-4449-aed1-6a9e1cfc8bc1",
   "metadata": {},
   "outputs": [],
   "source": [
    "T=Table()\n",
    "\n",
    "T[state]=Table()\n",
    "T[state][3]=3\n",
    "T[state][2]=3\n",
    "T[state][1]=3\n",
    "\n",
    "state[2]=1\n",
    "\n",
    "T[state]=Table()\n",
    "T[state][3]=3\n",
    "T[state][2]=30\n",
    "T[state][1]=3\n"
   ]
  },
  {
   "cell_type": "code",
   "execution_count": 22,
   "id": "3777455e-7d6b-45e8-ba8c-b6b36eaede5b",
   "metadata": {},
   "outputs": [
    {
     "data": {
      "text/plain": [
       "{(0, 0, 1, 0, 0, 0, 0, 0, 0): {3: 3, 2: 30, 1: 3}}"
      ]
     },
     "execution_count": 22,
     "metadata": {},
     "output_type": "execute_result"
    }
   ],
   "source": [
    "T"
   ]
  },
  {
   "cell_type": "code",
   "execution_count": 23,
   "id": "bbe1faca-400b-40bf-9538-d3107f1adb8c",
   "metadata": {},
   "outputs": [
    {
     "name": "stdout",
     "output_type": "stream",
     "text": [
      "[2, 2, 2, 2, 2, 1, 2, 3, 2, 2, 2, 2, 3, 2, 2, 2, 2, 1, 2, 2, 3, 2, 3, 2, 2, 2, 2, 3, 2, 2, 3, 2, 2, 2, 2, 3, 2, 3, 1, 2, 2, 2, 2, 2, 1, 2, 2, 2, 2, 2, 2, 2, 1, 2, 2, 1, 3, 2, 2, 2]\n"
     ]
    }
   ],
   "source": [
    "print([weighted_choice(T[state]) for _ in range(60)])"
   ]
  },
  {
   "cell_type": "code",
   "execution_count": null,
   "id": "760634e5-4635-4980-9660-0596cb993531",
   "metadata": {},
   "outputs": [],
   "source": []
  }
 ],
 "metadata": {
  "kernelspec": {
   "display_name": "Python 3 (ipykernel)",
   "language": "python",
   "name": "python3"
  },
  "language_info": {
   "codemirror_mode": {
    "name": "ipython",
    "version": 3
   },
   "file_extension": ".py",
   "mimetype": "text/x-python",
   "name": "python",
   "nbconvert_exporter": "python",
   "pygments_lexer": "ipython3",
   "version": "3.12.6"
  }
 },
 "nbformat": 4,
 "nbformat_minor": 5
}
