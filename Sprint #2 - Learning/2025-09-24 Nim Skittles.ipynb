{
 "cells": [
  {
   "cell_type": "markdown",
   "id": "a08331f3-ad68-4b88-9346-945cb1f8dcc2",
   "metadata": {},
   "source": [
    "# Nim (21 Sticks Variant)\n",
    "\n",
    "## Setup\n",
    "- Start with **21 sticks** (or counters, stones, matches, etc.).  \n",
    "- Two players take turns.  \n",
    "\n",
    "---\n",
    "\n",
    "## Rules\n",
    "1. On your turn, you must take **1, 2, or 3 sticks** from the pile.  \n",
    "2. Players alternate turns.  \n",
    "3. **The player forced to take the last stick loses.**  \n",
    "\n",
    "---\n",
    "\n",
    "## Example Play\n",
    "- Start: 21 sticks.  \n",
    "- Player A takes 2 → 19 left.  \n",
    "- Player B takes 3 → 16 left.  \n",
    "- Player A takes 1 → 15 left.  \n",
    "- … and so on, until one player is forced to take the last stick and loses.  \n",
    "\n"
   ]
  },
  {
   "cell_type": "code",
   "execution_count": 1,
   "id": "704da284-8129-43b0-a46c-fa57e816406d",
   "metadata": {},
   "outputs": [
    {
     "name": "stdout",
     "output_type": "stream",
     "text": [
      "Version:  0.3.15\n"
     ]
    }
   ],
   "source": [
    "from Game import *"
   ]
  },
  {
   "cell_type": "code",
   "execution_count": 2,
   "id": "724fd135-c663-4a22-aee6-387dc9f9374e",
   "metadata": {},
   "outputs": [],
   "source": [
    "def initial_state():\n",
    "    return 21"
   ]
  },
  {
   "cell_type": "code",
   "execution_count": 3,
   "id": "8fb2bf0d-b6c7-4d7a-b077-fbfefe82cfe3",
   "metadata": {},
   "outputs": [],
   "source": [
    "def show_state(state,player):\n",
    "    print(\"Player\",player)\n",
    "    print(f\"Sticks remaining: {state}\")"
   ]
  },
  {
   "cell_type": "code",
   "execution_count": 4,
   "id": "376beea4-7f3b-41fa-8079-9ee55203a89b",
   "metadata": {},
   "outputs": [],
   "source": [
    "def valid_moves(state,player):\n",
    "    # return a **list** of moves that are valid\n",
    "\n",
    "    if state==1:\n",
    "        return [1]\n",
    "    elif state==2:\n",
    "        return [1,2]\n",
    "    else:\n",
    "        return [1,2,3]\n",
    "    "
   ]
  },
  {
   "cell_type": "code",
   "execution_count": 5,
   "id": "3812a130-f239-4ec5-8ec2-9dd1047bfec2",
   "metadata": {},
   "outputs": [],
   "source": [
    "def update_state(state,player,move):\n",
    "    new_state = state - move\n",
    "    return new_state"
   ]
  },
  {
   "cell_type": "code",
   "execution_count": 6,
   "id": "e38073f2-cc73-499c-a0e5-25d3fa4b1bdc",
   "metadata": {},
   "outputs": [],
   "source": [
    "def win_status(state,player):\n",
    "    # return None if the game is not over\n",
    "    # return 'win' if player has won\n",
    "    # return 'lose' if player has lost\n",
    "    # return 'stalemate' if player has stalemate\n",
    "\n",
    "    if player==1:\n",
    "        other_player=2\n",
    "    else:\n",
    "        other_player=1\n",
    "\n",
    "    if state==0:\n",
    "        return 'lose'\n",
    "    else:\n",
    "        return None"
   ]
  },
  {
   "cell_type": "markdown",
   "id": "6957956e-8dfc-423d-a4d8-72aa28a05199",
   "metadata": {},
   "source": [
    "## Agents"
   ]
  },
  {
   "cell_type": "code",
   "execution_count": 7,
   "id": "65ca12a7-7c1b-4836-996f-5fe458cf8004",
   "metadata": {},
   "outputs": [],
   "source": [
    "def human_move(state,player):\n",
    "    move = int(input(\"Enter your move (1, 2, or 3): \"))\n",
    "    while move not in valid_moves(state,player):\n",
    "        print(\"Invalid move. Try again.\")\n",
    "        move = int(input(\"Enter your move (1, 2, or 3): \"))\n",
    "    return move\n",
    "\n",
    "human_agent=Agent(human_move)"
   ]
  },
  {
   "cell_type": "code",
   "execution_count": 8,
   "id": "81ba1c4c-51a3-4c66-8efa-c53ae9d545da",
   "metadata": {},
   "outputs": [],
   "source": [
    "def random_move(state,player):\n",
    "    return random.choice(valid_moves(state,player))\n",
    "\n",
    "random_agent=Agent(random_move)"
   ]
  },
  {
   "cell_type": "code",
   "execution_count": 9,
   "id": "8de75183-ebbb-4c5e-a1eb-94ca09fcd9d1",
   "metadata": {},
   "outputs": [],
   "source": [
    "from Game.minimax import *\n",
    "def minimax_move(state,player):\n",
    "    values,actions = minimax_values(state,player,display=False)\n",
    "    return top_choice(actions,values)\n",
    "minimax_agent=Agent(minimax_move)"
   ]
  },
  {
   "cell_type": "markdown",
   "id": "7ffb9dae-7ac2-4f2a-a170-15a5a33c922f",
   "metadata": {},
   "source": [
    "## Skittle Agent"
   ]
  },
  {
   "cell_type": "code",
   "execution_count": 10,
   "id": "8b6eea6f-c629-454f-9ffb-a10392928808",
   "metadata": {},
   "outputs": [],
   "source": [
    "def skittles_move(state,player,info):\n",
    "    T=info.T   # table for the skittles\n",
    "    learning=info.learning\n",
    "    last_state=info.last_state\n",
    "    last_action=info.last_action\n",
    "    \n",
    "\n",
    "    # if we haven't seen this state before, initialize it\n",
    "    if state not in T:\n",
    "        actions=valid_moves(state,player)\n",
    "        T[state]=Table()\n",
    "        for action in actions:\n",
    "            T[state][action]=2  # start with 1 skittle for each action\n",
    "\n",
    "    move=weighted_choice(T[state])\n",
    "\n",
    "    if move is None:\n",
    "        move=random_move(state,player)\n",
    "\n",
    "        if learning:\n",
    "            if last_state:\n",
    "                T[last_state][last_action]-=1  # punish last action == remove one skittle\n",
    "                if T[last_state][last_action]<0:\n",
    "                    T[last_state][last_action]=0  # don't go below zero\n",
    "    \n",
    "    return move\n",
    "\n",
    "\n",
    "def skittles_after(status,player,info):\n",
    "    T=info.T   # table for the skittles\n",
    "    learning=info.learning\n",
    "    last_state=info.last_state\n",
    "    last_action=info.last_action\n",
    "\n",
    "    if learning:\n",
    "        if status=='lose':\n",
    "            T[last_state][last_action]-=1  # punish last action == remove one skittle\n",
    "            if T[last_state][last_action]<0:\n",
    "                T[last_state][last_action]=0  # don't go below zero\n"
   ]
  },
  {
   "cell_type": "code",
   "execution_count": 11,
   "id": "318bcc5f-1087-4874-b6b6-07848e138d99",
   "metadata": {},
   "outputs": [],
   "source": [
    "skittles_agent=Agent(skittles_move)\n",
    "skittles_agent.T=Table()  # starts off empty\n",
    "skittles_agent.post=skittles_after\n",
    "skittles_agent.learning=True"
   ]
  },
  {
   "cell_type": "markdown",
   "id": "4fbaaf92-c231-4e8b-be57-a270c0f20c3c",
   "metadata": {},
   "source": [
    "## Running the Game"
   ]
  },
  {
   "cell_type": "code",
   "execution_count": 12,
   "id": "a33568a2-0e8b-4090-b1fb-7d0036f10d9d",
   "metadata": {},
   "outputs": [
    {
     "name": "stdout",
     "output_type": "stream",
     "text": [
      "====\n",
      "Game  1\n",
      "Player 1\n",
      "Sticks remaining: 21\n",
      "Player 1 moves 3\n",
      "Player 2\n",
      "Sticks remaining: 18\n",
      "Player 2 moves 2\n",
      "Player 1\n",
      "Sticks remaining: 16\n",
      "Player 1 moves 3\n",
      "Player 2\n",
      "Sticks remaining: 13\n",
      "Player 2 moves 2\n",
      "Player 1\n",
      "Sticks remaining: 11\n",
      "Player 1 moves 2\n",
      "Player 2\n",
      "Sticks remaining: 9\n",
      "Player 2 moves 1\n",
      "Player 1\n",
      "Sticks remaining: 8\n",
      "Player 1 moves 3\n",
      "Player 2\n",
      "Sticks remaining: 5\n",
      "Player 2 moves 2\n",
      "Player 1\n",
      "Sticks remaining: 3\n",
      "Player 1 moves 2\n",
      "Player 2\n",
      "Sticks remaining: 1\n",
      "Player 2 moves 1\n",
      "Player 2\n",
      "Sticks remaining: 0\n",
      "Player  1 won.\n"
     ]
    },
    {
     "data": {
      "text/plain": [
       "[1]"
      ]
     },
     "execution_count": 12,
     "metadata": {},
     "output_type": "execute_result"
    }
   ],
   "source": [
    "g=Game()\n",
    "g.run(minimax_agent,skittles_agent)"
   ]
  },
  {
   "cell_type": "code",
   "execution_count": 15,
   "id": "b8658bcb-c406-452c-94e5-804f01a38cb1",
   "metadata": {},
   "outputs": [
    {
     "data": {
      "text/plain": [
       "{'move': <function __main__.skittles_move(state, player, info)>,\n",
       " 'update': <function Game.game.no_update(observation, action, reward, done, memory)>,\n",
       " 'memory': {},\n",
       " 'T': {18: {1: 2, 2: 2, 3: 2},\n",
       "  13: {1: 2, 2: 2, 3: 2},\n",
       "  9: {1: 2, 2: 2, 3: 2},\n",
       "  5: {1: 2, 2: 2, 3: 2},\n",
       "  1: {1: 1}},\n",
       " 'post': <function __main__.skittles_after(status, player, info)>,\n",
       " 'learning': True,\n",
       " 'states': [18, 13, 9, 5, 1],\n",
       " 'actions': [2, 2, 1, 2, 1],\n",
       " 'last_action': 1,\n",
       " 'last_state': 1,\n",
       " 'last_player': 2,\n",
       " 'move_args': 3,\n",
       " 'move_count': 10}"
      ]
     },
     "execution_count": 15,
     "metadata": {},
     "output_type": "execute_result"
    }
   ],
   "source": [
    "skittles_agent.stuff"
   ]
  },
  {
   "cell_type": "code",
   "execution_count": 16,
   "id": "eec56975-3156-494a-88c9-f29e3f3e5869",
   "metadata": {},
   "outputs": [
    {
     "data": {
      "text/plain": [
       "10"
      ]
     },
     "execution_count": 16,
     "metadata": {},
     "output_type": "execute_result"
    }
   ],
   "source": [
    "skittles_agent.move_count"
   ]
  },
  {
   "cell_type": "code",
   "execution_count": 29,
   "id": "96a6b849-0105-4d24-b6a5-a0489812afda",
   "metadata": {},
   "outputs": [
    {
     "name": "stdout",
     "output_type": "stream",
     "text": [
      "[1, 1, 1, 1, 1, 1, 1, 1, 1, 1, 1, 1, 1, 1, 1, 1, 1, 1, 1, 1, 1, 1, 1, 1, 1, 1, 1, 1, 1, 1, 1, 1, 1, 1, 1, 1, 1, 1, 1, 1, 2, 1, 1, 1, 1, 1, 2, 1, 1, 2, 1, 1, 1, 1, 1, 2, 1, 1, 1, 1, 1, 1, 1, 1, 1, 1, 1, 2, 2, 1, 1, 1, 1, 1, 1, 1, 1, 1, 2, 2, 1, 1, 1, 1, 2, 2, 1, 1, 2, 2, 2, 1, 2, 2, 2, 2, 1, 2, 2, 1, 2, 1, 2, 2, 1, 1, 2, 2, 2, 2, 2, 2, 2, 2, 2, 2, 2, 2, 2, 2, 2, 2, 2, 2, 2, 2, 2, 2, 2, 2, 2, 2, 2, 2, 2, 2, 2, 2, 2, 2, 2, 2, 2, 2, 2, 2, 2, 2, 2, 2, 2, 2, 2, 2, 2, 2, 2, 2, 2, 2, 2, 2, 2, 2, 2, 2, 2, 2, 2, 2, 2, 2, 2, 2, 2, 2, 2, 2, 2, 2, 2, 2, 2, 2, 2, 2, 2, 2, 2, 2, 2, 2, 2, 2, 2, 2, 2, 2, 2, 2, 2, 2, 2, 2, 2, 2, 2, 2, 2, 2, 2, 2, 2, 2, 2, 2, 2, 2, 2, 2, 2, 2, 2, 2, 2, 2, 2, 2, 2, 2, 2, 2, 2, 2, 2, 2, 2, 2, 2, 2, 2, 2, 2, 2, 2, 2, 2, 2, 2, 2, 2, 2, 2, 2, 2, 2, 2, 2, 2, 2, 2, 2, 2, 2, 2, 2, 2, 2, 2, 2, 2, 2, 2, 2, 2, 2, 2, 2, 2, 2, 2, 2, 2, 2, 2, 2, 2, 2, 2, 2, 2, 2, 2, 2, 2, 2, 2, 2, 2, 2, 2, 2, 2, 2, 2, 2, 2, 2, 2, 2, 2, 2, 2, 2, 2, 2, 2, 2, 2, 2, 2, 2, 2, 2, 2, 2, 2, 2, 2, 2, 2, 2, 2, 2, 2, 2, 2, 2, 2, 2, 2, 2, 2, 2, 2, 2, 2, 2, 2, 2, 2, 2, 2, 2, 2, 2, 2, 2, 2, 2, 2, 2, 2, 2, 2, 2, 2, 2, 2, 2, 2, 2, 2, 2, 2, 2, 2, 2, 2, 2, 2, 2, 2, 2, 2, 2, 2, 2, 2, 2, 2, 2, 2, 2, 2, 2, 2, 2, 2, 2, 2, 2, 2, 2, 2, 2, 2, 2, 2, 2, 2, 2, 2, 2, 2, 2, 2, 2, 2, 2, 2, 2, 2, 2, 2, 2, 2, 2, 2, 2, 2, 2, 2, 2, 2, 2, 2, 2, 2, 2, 2, 2, 2, 2, 2, 2, 2, 2, 2, 2, 2, 2, 2, 2, 2, 2, 2, 2, 2, 2, 2, 2, 2, 2, 2, 2, 2, 2, 2, 2, 2, 2, 2, 2, 2, 2, 2, 2, 2, 2, 2, 2, 2, 2, 2, 2, 2, 2, 2, 2, 2, 2, 2, 2, 2, 2, 2, 2, 2, 2]\n"
     ]
    }
   ],
   "source": [
    "g=Game(number_of_games=500)\n",
    "g.display=False\n",
    "result=g.run(minimax_agent,skittles_agent)\n",
    "print(result)"
   ]
  },
  {
   "cell_type": "code",
   "execution_count": 30,
   "id": "316811c8-8a31-44ca-baac-ed76913a8736",
   "metadata": {},
   "outputs": [
    {
     "data": {
      "text/plain": [
       "{18: {1: 2, 2: 0, 3: 0},\n",
       " 16: {1: 0, 2: 0, 3: 2},\n",
       " 13: {1: 0, 2: 0, 3: 0},\n",
       " 9: {1: 0, 2: 0, 3: 0},\n",
       " 5: {1: 0, 2: 0, 3: 0},\n",
       " 1: {1: 0},\n",
       " 20: {1: 0, 2: 0, 3: 2},\n",
       " 17: {1: 0, 2: 0, 3: 0},\n",
       " 14: {1: 2, 2: 0, 3: 0},\n",
       " 19: {1: 0, 2: 2, 3: 0},\n",
       " 15: {1: 0, 2: 2, 3: 0},\n",
       " 10: {1: 2, 2: 0, 3: 0},\n",
       " 7: {1: 0, 2: 2, 3: 0},\n",
       " 12: {1: 0, 2: 0, 3: 2},\n",
       " 11: {1: 0, 2: 2, 3: 0},\n",
       " 2: {1: 2, 2: 0},\n",
       " 3: {1: 0, 2: 2, 3: 0},\n",
       " 8: {1: 0, 2: 0, 3: 2},\n",
       " 6: {1: 2, 2: 0, 3: 0},\n",
       " 4: {1: 0, 2: 0, 3: 2}}"
      ]
     },
     "execution_count": 30,
     "metadata": {},
     "output_type": "execute_result"
    }
   ],
   "source": [
    "skittles_agent.T"
   ]
  },
  {
   "cell_type": "code",
   "execution_count": 31,
   "id": "4652f1b5-32d4-46c3-9c8a-7731294b59f8",
   "metadata": {},
   "outputs": [],
   "source": [
    "SaveTable(skittles_agent.T,'Nim21_Skittles.json')"
   ]
  },
  {
   "cell_type": "code",
   "execution_count": null,
   "id": "677e88c2-6254-4c91-85e2-66067e01bae1",
   "metadata": {},
   "outputs": [],
   "source": []
  }
 ],
 "metadata": {
  "kernelspec": {
   "display_name": "Python 3 (ipykernel)",
   "language": "python",
   "name": "python3"
  },
  "language_info": {
   "codemirror_mode": {
    "name": "ipython",
    "version": 3
   },
   "file_extension": ".py",
   "mimetype": "text/x-python",
   "name": "python",
   "nbconvert_exporter": "python",
   "pygments_lexer": "ipython3",
   "version": "3.12.6"
  }
 },
 "nbformat": 4,
 "nbformat_minor": 5
}
