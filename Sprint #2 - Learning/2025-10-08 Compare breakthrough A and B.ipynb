{
 "cells": [
  {
   "cell_type": "code",
   "execution_count": 1,
   "id": "975beee6-cd3f-44ca-8a35-67260cee7775",
   "metadata": {},
   "outputs": [
    {
     "name": "stdout",
     "output_type": "stream",
     "text": [
      "Version:  0.3.15\n"
     ]
    }
   ],
   "source": [
    "from Game import *"
   ]
  },
  {
   "cell_type": "code",
   "execution_count": 2,
   "id": "b3cf903c-0d6c-421b-be4d-8c330b4ae63e",
   "metadata": {},
   "outputs": [],
   "source": [
    "import breakthrough as B\n",
    "import breakthrough_A as A"
   ]
  },
  {
   "cell_type": "code",
   "execution_count": 7,
   "id": "f669698d-893b-4848-b2eb-d775fc01f01e",
   "metadata": {},
   "outputs": [
    {
     "data": {
      "text/plain": [
       "([2, 2, 2, 2, 0, 0, 0, 0, 0, 0, 0, 0, 1, 1, 1, 1],\n",
       " [2, 2, 2, 2, 0, 0, 0, 0, 0, 0, 0, 0, 1, 1, 1, 1])"
      ]
     },
     "execution_count": 7,
     "metadata": {},
     "output_type": "execute_result"
    }
   ],
   "source": [
    "states=[_.initial_state() for _ in [A,B]]\n",
    "states[0].board,states[1].board"
   ]
  },
  {
   "cell_type": "code",
   "execution_count": 9,
   "id": "01e5a94d-ec1c-4e67-a724-ffb3dc4e643e",
   "metadata": {},
   "outputs": [
    {
     "data": {
      "text/plain": [
       "True"
      ]
     },
     "execution_count": 9,
     "metadata": {},
     "output_type": "execute_result"
    }
   ],
   "source": [
    "states[0]==states[1]"
   ]
  },
  {
   "cell_type": "code",
   "execution_count": 13,
   "id": "00a0b729-e501-49c7-9d93-1a7f61a224f7",
   "metadata": {},
   "outputs": [
    {
     "data": {
      "text/plain": [
       "[[12, 8],\n",
       " [12, 9],\n",
       " [13, 8],\n",
       " [13, 9],\n",
       " [13, 10],\n",
       " [14, 9],\n",
       " [14, 10],\n",
       " [14, 11],\n",
       " [15, 10],\n",
       " [15, 11]]"
      ]
     },
     "execution_count": 13,
     "metadata": {},
     "output_type": "execute_result"
    }
   ],
   "source": [
    "moves_A=A.valid_moves(states[0],1)\n",
    "moves_A\n"
   ]
  },
  {
   "cell_type": "code",
   "execution_count": 14,
   "id": "795469de-eb1e-4475-98dd-717f62d938aa",
   "metadata": {},
   "outputs": [
    {
     "data": {
      "text/plain": [
       "[[12, 8], [13, 9], [14, 10], [15, 11]]"
      ]
     },
     "execution_count": 14,
     "metadata": {},
     "output_type": "execute_result"
    }
   ],
   "source": [
    "moves_B=B.valid_moves(states[0],1)\n",
    "moves_B\n"
   ]
  },
  {
   "cell_type": "code",
   "execution_count": 15,
   "id": "e87c5cac-85cb-422f-904c-dd33c6560be7",
   "metadata": {},
   "outputs": [
    {
     "name": "stdout",
     "output_type": "stream",
     "text": [
      " 0  1  2  3 \n",
      " 4  5  6  7 \n",
      " 8  9 10 11 \n",
      "12 13 14 15 \n",
      "\n"
     ]
    }
   ],
   "source": [
    "states[0].show_locations()"
   ]
  },
  {
   "cell_type": "code",
   "execution_count": null,
   "id": "c4899d6b-272d-4da3-bc43-8fec426af5c5",
   "metadata": {},
   "outputs": [],
   "source": []
  }
 ],
 "metadata": {
  "kernelspec": {
   "display_name": "Python 3 (ipykernel)",
   "language": "python",
   "name": "python3"
  },
  "language_info": {
   "codemirror_mode": {
    "name": "ipython",
    "version": 3
   },
   "file_extension": ".py",
   "mimetype": "text/x-python",
   "name": "python",
   "nbconvert_exporter": "python",
   "pygments_lexer": "ipython3",
   "version": "3.12.6"
  }
 },
 "nbformat": 4,
 "nbformat_minor": 5
}
