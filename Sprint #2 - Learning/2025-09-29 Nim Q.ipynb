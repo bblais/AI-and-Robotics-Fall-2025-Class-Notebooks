{
 "cells": [
  {
   "cell_type": "markdown",
   "id": "a08331f3-ad68-4b88-9346-945cb1f8dcc2",
   "metadata": {},
   "source": [
    "# Nim (21 Sticks Variant)\n",
    "\n",
    "## Setup\n",
    "- Start with **21 sticks** (or counters, stones, matches, etc.).  \n",
    "- Two players take turns.  \n",
    "\n",
    "---\n",
    "\n",
    "## Rules\n",
    "1. On your turn, you must take **1, 2, or 3 sticks** from the pile.  \n",
    "2. Players alternate turns.  \n",
    "3. **The player forced to take the last stick loses.**  \n",
    "\n",
    "---\n",
    "\n",
    "## Example Play\n",
    "- Start: 21 sticks.  \n",
    "- Player A takes 2 → 19 left.  \n",
    "- Player B takes 3 → 16 left.  \n",
    "- Player A takes 1 → 15 left.  \n",
    "- … and so on, until one player is forced to take the last stick and loses.  \n",
    "\n"
   ]
  },
  {
   "cell_type": "code",
   "execution_count": 1,
   "id": "704da284-8129-43b0-a46c-fa57e816406d",
   "metadata": {},
   "outputs": [
    {
     "name": "stdout",
     "output_type": "stream",
     "text": [
      "Version:  0.3.15\n"
     ]
    }
   ],
   "source": [
    "from Game import *"
   ]
  },
  {
   "cell_type": "code",
   "execution_count": 2,
   "id": "724fd135-c663-4a22-aee6-387dc9f9374e",
   "metadata": {},
   "outputs": [],
   "source": [
    "def initial_state():\n",
    "    return 21"
   ]
  },
  {
   "cell_type": "code",
   "execution_count": 3,
   "id": "8fb2bf0d-b6c7-4d7a-b077-fbfefe82cfe3",
   "metadata": {},
   "outputs": [],
   "source": [
    "def show_state(state,player):\n",
    "    print(\"Player\",player)\n",
    "    print(f\"Sticks remaining: {state}\")"
   ]
  },
  {
   "cell_type": "code",
   "execution_count": 4,
   "id": "376beea4-7f3b-41fa-8079-9ee55203a89b",
   "metadata": {},
   "outputs": [],
   "source": [
    "def valid_moves(state,player):\n",
    "    # return a **list** of moves that are valid\n",
    "\n",
    "    if state==1:\n",
    "        return [1]\n",
    "    elif state==2:\n",
    "        return [1,2]\n",
    "    else:\n",
    "        return [1,2,3]\n",
    "    "
   ]
  },
  {
   "cell_type": "code",
   "execution_count": 5,
   "id": "3812a130-f239-4ec5-8ec2-9dd1047bfec2",
   "metadata": {},
   "outputs": [],
   "source": [
    "def update_state(state,player,move):\n",
    "    new_state = state - move\n",
    "    return new_state"
   ]
  },
  {
   "cell_type": "code",
   "execution_count": 6,
   "id": "e38073f2-cc73-499c-a0e5-25d3fa4b1bdc",
   "metadata": {},
   "outputs": [],
   "source": [
    "def win_status(state,player):\n",
    "    # return None if the game is not over\n",
    "    # return 'win' if player has won\n",
    "    # return 'lose' if player has lost\n",
    "    # return 'stalemate' if player has stalemate\n",
    "\n",
    "    if player==1:\n",
    "        other_player=2\n",
    "    else:\n",
    "        other_player=1\n",
    "\n",
    "    if state==0:\n",
    "        return 'lose'\n",
    "    else:\n",
    "        return None"
   ]
  },
  {
   "cell_type": "markdown",
   "id": "6957956e-8dfc-423d-a4d8-72aa28a05199",
   "metadata": {},
   "source": [
    "## Agents"
   ]
  },
  {
   "cell_type": "code",
   "execution_count": 7,
   "id": "65ca12a7-7c1b-4836-996f-5fe458cf8004",
   "metadata": {},
   "outputs": [],
   "source": [
    "def human_move(state,player):\n",
    "    move = int(input(\"Enter your move (1, 2, or 3): \"))\n",
    "    while move not in valid_moves(state,player):\n",
    "        print(\"Invalid move. Try again.\")\n",
    "        move = int(input(\"Enter your move (1, 2, or 3): \"))\n",
    "    return move\n",
    "\n",
    "human_agent=Agent(human_move)"
   ]
  },
  {
   "cell_type": "code",
   "execution_count": 8,
   "id": "81ba1c4c-51a3-4c66-8efa-c53ae9d545da",
   "metadata": {},
   "outputs": [],
   "source": [
    "def random_move(state,player):\n",
    "    return random.choice(valid_moves(state,player))\n",
    "\n",
    "random_agent=Agent(random_move)"
   ]
  },
  {
   "cell_type": "code",
   "execution_count": 9,
   "id": "8de75183-ebbb-4c5e-a1eb-94ca09fcd9d1",
   "metadata": {},
   "outputs": [],
   "source": [
    "from Game.minimax import *\n",
    "def minimax_move(state,player):\n",
    "    values,actions = minimax_values(state,player,display=False)\n",
    "    return top_choice(actions,values)\n",
    "minimax_agent=Agent(minimax_move)"
   ]
  },
  {
   "cell_type": "markdown",
   "id": "7ffb9dae-7ac2-4f2a-a170-15a5a33c922f",
   "metadata": {},
   "source": [
    "## Skittle Agent"
   ]
  },
  {
   "cell_type": "code",
   "execution_count": 10,
   "id": "8b6eea6f-c629-454f-9ffb-a10392928808",
   "metadata": {},
   "outputs": [],
   "source": [
    "def skittles_move(state,player,info):\n",
    "    T=info.T   # table for the skittles\n",
    "    learning=info.learning\n",
    "    last_state=info.last_state\n",
    "    last_action=info.last_action\n",
    "    \n",
    "\n",
    "    # if we haven't seen this state before, initialize it\n",
    "    if state not in T:\n",
    "        actions=valid_moves(state,player)\n",
    "        T[state]=Table()\n",
    "        for action in actions:\n",
    "            T[state][action]=2  # start with 1 skittle for each action\n",
    "\n",
    "    move=weighted_choice(T[state])\n",
    "\n",
    "    if move is None:\n",
    "        move=random_move(state,player)\n",
    "\n",
    "        if learning:\n",
    "            if last_state:\n",
    "                T[last_state][last_action]-=1  # punish last action == remove one skittle\n",
    "                if T[last_state][last_action]<0:\n",
    "                    T[last_state][last_action]=0  # don't go below zero\n",
    "    \n",
    "    return move\n",
    "\n",
    "\n",
    "def skittles_after(status,player,info):\n",
    "    T=info.T   # table for the skittles\n",
    "    learning=info.learning\n",
    "    last_state=info.last_state\n",
    "    last_action=info.last_action\n",
    "\n",
    "    if learning:\n",
    "        if status=='lose':\n",
    "            T[last_state][last_action]-=1  # punish last action == remove one skittle\n",
    "            if T[last_state][last_action]<0:\n",
    "                T[last_state][last_action]=0  # don't go below zero\n"
   ]
  },
  {
   "cell_type": "code",
   "execution_count": 11,
   "id": "318bcc5f-1087-4874-b6b6-07848e138d99",
   "metadata": {},
   "outputs": [],
   "source": [
    "skittles_agent=Agent(skittles_move)\n",
    "skittles_agent.T=Table()  # starts off empty\n",
    "skittles_agent.post=skittles_after\n",
    "skittles_agent.learning=True"
   ]
  },
  {
   "cell_type": "markdown",
   "id": "0008f083-7dcb-4126-9dd0-e3070d752b6b",
   "metadata": {},
   "source": [
    "## Q-Learning Agent"
   ]
  },
  {
   "cell_type": "code",
   "execution_count": 12,
   "id": "b7666a7f-ecc2-4248-8b0c-edf28bedc079",
   "metadata": {},
   "outputs": [],
   "source": [
    "def Q_move(state,player,info):\n",
    "    Q=info.Q   # Q-table\n",
    "    learning=info.learning\n",
    "    last_state=info.last_state\n",
    "    last_action=info.last_action\n",
    "    α=info.α  # learning rate\n",
    "    γ=info.γ  # discount factor\n",
    "    ϵ=info.ϵ  # random games sometimes for exploration\n",
    "\n",
    "    # if we haven't seen this state before, initialize it\n",
    "    if state not in Q:\n",
    "        actions=valid_moves(state,player)\n",
    "        Q[state]=Table()\n",
    "        for action in actions:\n",
    "            Q[state][action]=0  # start with Q-value=0\n",
    "\n",
    "    if learning and random.random()<ϵ:\n",
    "        move=random_move(state,player)\n",
    "    else:\n",
    "        move=top_choice(Q[state])\n",
    "\n",
    "    if not last_action is None:\n",
    "        reward=0  # mid-game reward\n",
    "\n",
    "        if learning:\n",
    "            Q[last_state][last_action]+=α*(reward + \n",
    "                                          γ*max([Q[state][a] for a in Q[state]]) - Q[last_state][last_action])\n",
    "\n",
    "    return move\n"
   ]
  },
  {
   "cell_type": "code",
   "execution_count": 13,
   "id": "11a27a9a-405b-4f07-8f09-1cb6dddfc66d",
   "metadata": {},
   "outputs": [],
   "source": [
    "def Q_after(status,player,info):\n",
    "    Q=info.Q   # Q-table\n",
    "    learning=info.learning\n",
    "    last_state=info.last_state\n",
    "    last_action=info.last_action\n",
    "    α=info.α  # learning rate\n",
    "    γ=info.γ  # discount factor\n",
    "    ϵ=info.ϵ  # random games sometimes for exploration\n",
    "\n",
    "\n",
    "    if status=='lose':\n",
    "        reward=-1\n",
    "    elif status=='win':\n",
    "        reward=1\n",
    "    elif status=='stalemate':\n",
    "        reward=0.5\n",
    "    else:\n",
    "        reward=0\n",
    "\n",
    "    if learning:\n",
    "        Q[last_state][last_action]+=α*(reward - Q[last_state][last_action])\n",
    "\n",
    "    "
   ]
  },
  {
   "cell_type": "code",
   "execution_count": 14,
   "id": "0dd54893-ec45-453b-80e0-0a679597039e",
   "metadata": {},
   "outputs": [],
   "source": [
    "Q1_agent=Agent(Q_move)\n",
    "Q1_agent.post=Q_after\n",
    "Q1_agent.Q=Table()\n",
    "Q1_agent.learning=True\n",
    "\n",
    "Q1_agent.α=0.3  # learning rate\n",
    "Q1_agent.γ=0.9  # discount factor\n",
    "Q1_agent.ϵ=0.1  # random games sometimes for exploration\n"
   ]
  },
  {
   "cell_type": "code",
   "execution_count": 15,
   "id": "8ed99e02-ee81-47b1-a8e0-43df95ca91aa",
   "metadata": {},
   "outputs": [],
   "source": [
    "Q2_agent=Agent(Q_move)\n",
    "Q2_agent.post=Q_after\n",
    "Q2_agent.Q=Table()\n",
    "Q2_agent.learning=True\n",
    "\n",
    "Q2_agent.α=0.3  # learning rate\n",
    "Q2_agent.γ=0.9  # discount factor\n",
    "Q2_agent.ϵ=0.1  # random games sometimes for exploration\n"
   ]
  },
  {
   "cell_type": "code",
   "execution_count": null,
   "id": "640c23ab-3f3b-42b6-9c69-a0f27f047d24",
   "metadata": {},
   "outputs": [],
   "source": []
  },
  {
   "cell_type": "markdown",
   "id": "4fbaaf92-c231-4e8b-be57-a270c0f20c3c",
   "metadata": {},
   "source": [
    "## Running the Game"
   ]
  },
  {
   "cell_type": "code",
   "execution_count": 16,
   "id": "a33568a2-0e8b-4090-b1fb-7d0036f10d9d",
   "metadata": {},
   "outputs": [
    {
     "name": "stdout",
     "output_type": "stream",
     "text": [
      "====\n",
      "Game  1\n",
      "Player 1\n",
      "Sticks remaining: 21\n",
      "Player 1 moves 2\n",
      "Player 2\n",
      "Sticks remaining: 19\n",
      "Player 2 moves 3\n",
      "Player 1\n",
      "Sticks remaining: 16\n",
      "Player 1 moves 3\n",
      "Player 2\n",
      "Sticks remaining: 13\n",
      "Player 2 moves 1\n",
      "Player 1\n",
      "Sticks remaining: 12\n",
      "Player 1 moves 3\n",
      "Player 2\n",
      "Sticks remaining: 9\n",
      "Player 2 moves 3\n",
      "Player 1\n",
      "Sticks remaining: 6\n",
      "Player 1 moves 1\n",
      "Player 2\n",
      "Sticks remaining: 5\n",
      "Player 2 moves 2\n",
      "Player 1\n",
      "Sticks remaining: 3\n",
      "Player 1 moves 2\n",
      "Player 2\n",
      "Sticks remaining: 1\n",
      "Player 2 moves 1\n",
      "Player 2\n",
      "Sticks remaining: 0\n",
      "Player  1 won.\n"
     ]
    },
    {
     "data": {
      "text/plain": [
       "[1]"
      ]
     },
     "execution_count": 16,
     "metadata": {},
     "output_type": "execute_result"
    }
   ],
   "source": [
    "g=Game()\n",
    "g.run(minimax_agent,Q2_agent)"
   ]
  },
  {
   "cell_type": "code",
   "execution_count": 17,
   "id": "b8658bcb-c406-452c-94e5-804f01a38cb1",
   "metadata": {},
   "outputs": [
    {
     "data": {
      "text/plain": [
       "{19: {1: 0, 2: 0, 3: 0.0},\n",
       " 13: {1: 0.0, 2: 0, 3: 0},\n",
       " 9: {1: 0, 2: 0, 3: 0.0},\n",
       " 5: {1: 0, 2: 0.0, 3: 0},\n",
       " 1: {1: -0.3}}"
      ]
     },
     "execution_count": 17,
     "metadata": {},
     "output_type": "execute_result"
    }
   ],
   "source": [
    "Q2_agent.Q"
   ]
  },
  {
   "cell_type": "code",
   "execution_count": 18,
   "id": "96a6b849-0105-4d24-b6a5-a0489812afda",
   "metadata": {},
   "outputs": [
    {
     "name": "stdout",
     "output_type": "stream",
     "text": [
      "[1, 1, 1, 1, 1, 1, 1, 1, 1, 1, 1, 1, 1, 1, 1, 1, 1, 1, 1, 1, 1, 1, 1, 1, 1, 1, 1, 2, 1, 2, 2, 1, 1, 2, 1, 1, 2, 2, 1, 2, 2, 2, 2, 1, 2, 2, 2, 1, 2, 2, 1, 1, 2, 2, 1, 2, 1, 1, 2, 2, 2, 1, 2, 1, 2, 2, 2, 1, 2, 2, 1, 2, 2, 2, 2, 2, 2, 1, 2, 2, 2, 2, 2, 2, 1, 2, 2, 2, 2, 1, 2, 1, 1, 2, 2, 2, 1, 1, 1, 1, 2, 1, 2, 2, 1, 1, 2, 2, 2, 1, 1, 1, 1, 2, 2, 2, 2, 2, 1, 2, 1, 2, 2, 2, 1, 2, 1, 2, 2, 1, 1, 2, 2, 2, 2, 2, 2, 1, 2, 2, 1, 2, 2, 2, 1, 2, 1, 2, 1, 1, 1, 2, 2, 2, 2, 1, 2, 2, 1, 2, 1, 2, 1, 1, 2, 2, 1, 2, 2, 2, 2, 2, 2, 2, 2, 2, 2, 1, 1, 2, 1, 2, 2, 1, 1, 2, 2, 1, 1, 2, 1, 2, 2, 2, 2, 2, 2, 1, 2, 1, 2, 2, 2, 1, 2, 1, 1, 2, 1, 2, 2, 2, 2, 2, 2, 1, 1, 1, 2, 2, 2, 1, 2, 2, 2, 2, 1, 2, 1, 2, 2, 1, 2, 2, 2, 2, 2, 1, 2, 2, 2, 2, 1, 2, 2, 1, 2, 2, 1, 1, 1, 2, 2, 2, 2, 1, 1, 2, 2, 2, 1, 2, 1, 1, 1, 2, 1, 1, 2, 2, 2, 2, 2, 1, 1, 2, 2, 1, 2, 1, 2, 1, 2, 1, 2, 2, 2, 2, 1, 2, 2, 2, 2, 2, 1, 2, 2, 2, 2, 2, 2, 2, 2, 1, 2, 2, 2, 2, 1, 2, 2, 2, 2, 1, 2, 2, 1, 2, 2, 1, 2, 2, 1, 1, 1, 1, 1, 1, 2, 2, 2, 1, 2, 2, 2, 2, 1, 1, 2, 2, 2, 2, 2, 2, 1, 2, 2, 2, 2, 2, 1, 2, 2, 1, 2, 2, 1, 2, 1, 2, 2, 2, 2, 2, 1, 2, 2, 1, 1, 2, 2, 2, 2, 1, 1, 2, 2, 2, 2, 2, 1, 2, 2, 2, 2, 2, 2, 2, 2, 2, 2, 2, 2, 2, 1, 2, 2, 1, 2, 2, 2, 1, 2, 2, 1, 2, 2, 2, 2, 1, 1, 1, 2, 1, 2, 2, 1, 1, 2, 2, 2, 1, 2, 2, 2, 2, 2, 1, 1, 1, 2, 2, 1, 2, 2, 1, 2, 1, 2, 2, 1, 2, 2, 2, 2, 2, 2, 2, 2, 2, 2, 1, 1, 2, 2, 1, 1, 2, 2, 1, 1, 2, 2, 2, 2, 2, 2, 2, 2, 1, 2, 1, 1, 1, 1, 1, 2, 2, 1, 2, 2, 1, 2, 1, 2, 1, 2, 1, 2, 2, 1, 2, 2, 2, 2, 1, 1, 2, 2, 2]\n"
     ]
    }
   ],
   "source": [
    "g=Game(number_of_games=500)\n",
    "g.display=False\n",
    "result=g.run(minimax_agent,Q2_agent)\n",
    "print(result)"
   ]
  },
  {
   "cell_type": "code",
   "execution_count": 19,
   "id": "316811c8-8a31-44ca-baac-ed76913a8736",
   "metadata": {},
   "outputs": [
    {
     "data": {
      "text/plain": [
       "{19: {1: -0.2409969372625249, 2: 0.6560999999943921, 3: -0.5052881392990498},\n",
       " 13: {1: -0.7254509892395591, 2: -0.7256592119685348, 3: -0.7261262754856049},\n",
       " 9: {1: -0.8099791027509182, 2: -0.8099816107119608, 3: -0.8099755151653689},\n",
       " 5: {1: -0.8999998961680965, 2: -0.8999998760890363, 3: -0.8999998598836073},\n",
       " 1: {1: -0.9999999999999999},\n",
       " 18: {1: 0.6560999999920829, 2: -0.5864554432244878, 3: -0.37896518609649815},\n",
       " 17: {1: -0.5311501816791708, 2: -0.5072057221688832, 3: -0.4899515252534073},\n",
       " 15: {1: -0.47172474640605544, 2: 0.7289999999980666, 3: -0.683377854380203},\n",
       " 12: {1: -0.3767683211426378, 2: -0.6835435591035934, 3: 0.8099999999988688},\n",
       " 11: {1: -0.6296699127509439, 2: 0.8099999999997786, 3: -0.6246702149045036},\n",
       " 20: {1: -0.21864443083473456, 2: -0.2601631477165053, 3: 0.6560999999937779},\n",
       " 10: {1: 0.8099999999995355, 2: -0.7367734983812644, 3: -0.49082160056539564},\n",
       " 16: {1: -0.3919513901806738, 2: -0.5768397611052691, 3: 0.7289999999974048},\n",
       " 7: {1: -0.6130780326598458, 2: 0.8999999999999692, 3: -0.8481080683368031},\n",
       " 4: {1: -0.6838846529867151, 2: -0.5912992840326716, 3: 0.9999999999999999},\n",
       " 6: {1: 0.8999999999999423, 2: -0.8745761899463812, 3: -0.6838975803555684},\n",
       " 2: {1: 0.9999999999999999, 2: -0.9802267325699999},\n",
       " 14: {1: 0.7289999999975159, 2: -0.6368480278279729, 3: -0.4788036781511336},\n",
       " 8: {1: -0.7142054874068281, 2: -0.7078579259002726, 3: 0.899999999999862},\n",
       " 3: {1: -0.4589957400627865, 2: 0.9999999999999944, 3: -0.9176457}}"
      ]
     },
     "execution_count": 19,
     "metadata": {},
     "output_type": "execute_result"
    }
   ],
   "source": [
    "Q2_agent.Q"
   ]
  },
  {
   "cell_type": "code",
   "execution_count": 20,
   "id": "eb07b017-0cfd-4d9a-ba57-698ea612ac71",
   "metadata": {},
   "outputs": [
    {
     "name": "stdout",
     "output_type": "stream",
     "text": [
      "[2, 2, 2, 2, 2, 2, 2, 2, 2, 2, 2, 2, 2, 2, 2, 2, 2, 2, 2, 2, 2, 2, 2, 2, 2, 2, 2, 2, 2, 2, 2, 2, 2, 2, 2, 2, 2, 2, 2, 2, 2, 2, 2, 2, 2, 2, 2, 2, 2, 2, 2, 2, 2, 2, 2, 2, 2, 2, 2, 2, 2, 2, 2, 2, 2, 2, 2, 2, 2, 2, 2, 2, 2, 2, 2, 2, 2, 2, 2, 2, 2, 2, 2, 2, 2, 2, 2, 2, 2, 2, 2, 2, 2, 2, 2, 2, 2, 2, 2, 2, 2, 2, 2, 2, 2, 2, 2, 2, 2, 2, 2, 2, 2, 2, 2, 2, 2, 2, 2, 2, 2, 2, 2, 2, 2, 2, 2, 2, 2, 2, 2, 2, 2, 2, 2, 2, 2, 2, 2, 2, 2, 2, 2, 2, 2, 2, 2, 2, 2, 2, 2, 2, 2, 2, 2, 2, 2, 2, 2, 2, 2, 2, 2, 2, 2, 2, 2, 2, 2, 2, 2, 2, 2, 2, 2, 2, 2, 2, 2, 2, 2, 2, 2, 2, 2, 2, 2, 2, 2, 2, 2, 2, 2, 2, 2, 2, 2, 2, 2, 2, 2, 2, 2, 2, 2, 2, 2, 2, 2, 2, 2, 2, 2, 2, 2, 2, 2, 2, 2, 2, 2, 2, 2, 2, 2, 2, 2, 2, 2, 2, 2, 2, 2, 2, 2, 2, 2, 2, 2, 2, 2, 2, 2, 2, 2, 2, 2, 2, 2, 2, 2, 2, 2, 2, 2, 2, 2, 2, 2, 2, 2, 2, 2, 2, 2, 2, 2, 2, 2, 2, 2, 2, 2, 2, 2, 2, 2, 2, 2, 2, 2, 2, 2, 2, 2, 2, 2, 2, 2, 2, 2, 2, 2, 2, 2, 2, 2, 2, 2, 2, 2, 2, 2, 2, 2, 2, 2, 2, 2, 2, 2, 2, 2, 2, 2, 2, 2, 2, 2, 2, 2, 2, 2, 2, 2, 2, 2, 2, 2, 2, 2, 2, 2, 2, 2, 2, 2, 2, 2, 2, 2, 2, 2, 2, 2, 2, 2, 2, 2, 2, 2, 2, 2, 2, 2, 2, 2, 2, 2, 2, 2, 2, 2, 2, 2, 2, 2, 2, 2, 2, 2, 2, 2, 2, 2, 2, 2, 2, 2, 2, 2, 2, 2, 2, 2, 2, 2, 2, 2, 2, 2, 2, 2, 2, 2, 2, 2, 2, 2, 2, 2, 2, 2, 2, 2, 2, 2, 2, 2, 2, 2, 2, 2, 2, 2, 2, 2, 2, 2, 2, 2, 2, 2, 2, 2, 2, 2, 2, 2, 2, 2, 2, 2, 2, 2, 2, 2, 2, 2, 2, 2, 2, 2, 2, 2, 2, 2, 2, 2, 2, 2, 2, 2, 2, 2, 2, 2, 2, 2, 2, 2, 2, 2, 2, 2, 2, 2, 2, 2, 2, 2, 2, 2, 2, 2, 2, 2, 2, 2, 2, 2, 2, 2, 2, 2, 2, 2, 2, 2, 2, 2, 2, 2, 2, 2, 2, 2, 2, 2, 2]\n"
     ]
    }
   ],
   "source": [
    "g=Game(number_of_games=500)\n",
    "g.display=False\n",
    "Q2_agent.learning=False\n",
    "result=g.run(minimax_agent,Q2_agent)\n",
    "print(result)"
   ]
  },
  {
   "cell_type": "code",
   "execution_count": null,
   "id": "65f4c6ad-bf17-4704-b095-36662911c7a9",
   "metadata": {},
   "outputs": [],
   "source": []
  },
  {
   "cell_type": "code",
   "execution_count": null,
   "id": "be374e33-be3a-464e-937a-b63cb054b896",
   "metadata": {},
   "outputs": [],
   "source": []
  },
  {
   "cell_type": "code",
   "execution_count": null,
   "id": "6e65fbba-1ba0-4b30-99f9-28ec1bb102ce",
   "metadata": {},
   "outputs": [],
   "source": []
  },
  {
   "cell_type": "code",
   "execution_count": 21,
   "id": "4652f1b5-32d4-46c3-9c8a-7731294b59f8",
   "metadata": {},
   "outputs": [],
   "source": [
    "SaveTable(Q2_agent.Q,'Nim21_Q2.json')"
   ]
  },
  {
   "cell_type": "code",
   "execution_count": null,
   "id": "677e88c2-6254-4c91-85e2-66067e01bae1",
   "metadata": {},
   "outputs": [],
   "source": []
  },
  {
   "cell_type": "markdown",
   "id": "7e94e41c-fa71-4cef-a227-fea93c1f946f",
   "metadata": {},
   "source": [
    "# Stages of training\n",
    "\n",
    "- training stage == learning, changing # of skittles\n",
    "- testing stage == fixed # of skittles, see how well it does\n",
    "- epoch -- number of training games before testing\n"
   ]
  },
  {
   "cell_type": "code",
   "execution_count": 28,
   "id": "fe902699-e507-4d14-9a97-208507bf9ede",
   "metadata": {},
   "outputs": [],
   "source": [
    "iteration_count=0\n",
    "percentage_won_player1=[]\n",
    "percentage_won_player2=[]\n",
    "percentage_stalemate=[]\n",
    "number_of_iterations=[]"
   ]
  },
  {
   "cell_type": "code",
   "execution_count": 29,
   "id": "14322eab-f2ae-4e91-af5d-de2968d4eb6a",
   "metadata": {},
   "outputs": [],
   "source": [
    "Q1_agent=Agent(Q_move)\n",
    "Q1_agent.post=Q_after\n",
    "Q1_agent.Q=Table()\n",
    "Q1_agent.learning=True\n",
    "\n",
    "Q1_agent.α=0.3  # learning rate\n",
    "Q1_agent.γ=0.9  # discount factor\n",
    "Q1_agent.ϵ=0.1  # random games sometimes for exploration\n",
    "\n",
    "Q2_agent=Agent(Q_move)\n",
    "Q2_agent.post=Q_after\n",
    "Q2_agent.Q=Table()\n",
    "Q2_agent.learning=True\n",
    "\n",
    "Q2_agent.α=0.3  # learning rate\n",
    "Q2_agent.γ=0.9  # discount factor\n",
    "Q2_agent.ϵ=0.1  # random games sometimes for exploration\n",
    "\n",
    "agent1=Q1_agent\n",
    "agent2=Q2_agent"
   ]
  },
  {
   "cell_type": "code",
   "execution_count": null,
   "id": "bbd28683-149a-4dcc-8c68-67ce80f5e3bc",
   "metadata": {},
   "outputs": [],
   "source": []
  },
  {
   "cell_type": "code",
   "execution_count": 30,
   "id": "ea27721b-a298-4739-94f3-8b30911eae60",
   "metadata": {},
   "outputs": [
    {
     "data": {
      "text/plain": [
       "300"
      ]
     },
     "execution_count": 30,
     "metadata": {},
     "output_type": "execute_result"
    }
   ],
   "source": [
    "epoch_number=300  # play  games, learning, and then test\n",
    "N_test=100  # play  games, fixed skittles, see how well it does\n",
    "N_train=1  # play  epochs, learning, changing skittles\n",
    "\n",
    "total_number_of_games=epoch_number*N_train\n",
    "total_number_of_games"
   ]
  },
  {
   "cell_type": "code",
   "execution_count": 31,
   "id": "99f892a2-5d9c-4e56-a6af-888ef154a319",
   "metadata": {},
   "outputs": [],
   "source": [
    "from tqdm.notebook import tqdm\n",
    "from IPython.display import display,clear_output"
   ]
  },
  {
   "cell_type": "code",
   "execution_count": 32,
   "id": "04768527-a54e-4963-9c9c-9e04df516b80",
   "metadata": {},
   "outputs": [],
   "source": [
    "from matplotlib import pyplot as plt"
   ]
  },
  {
   "cell_type": "code",
   "execution_count": 34,
   "id": "00279dbb-59a7-410e-82fe-505afe909e19",
   "metadata": {},
   "outputs": [
    {
     "data": {
      "image/png": "[encoded data removed]",
      "text/plain": [
       "<Figure size 600x400 with 1 Axes>"
      ]
     },
     "metadata": {},
     "output_type": "display_data"
    }
   ],
   "source": [
    "plt.close('all')\n",
    "fig, ax = plt.subplots(figsize=(6, 4))\n",
    "#plt.show(block=False)\n",
    "\n",
    "for i in tqdm(range(epoch_number), desc=\"Updating plot\", leave=True):\n",
    "    try:\n",
    "        # training step\n",
    "        agent1.learning=True\n",
    "        agent2.learning=True\n",
    "    \n",
    "        g=Game(number_of_games=N_train)\n",
    "        g.display=False\n",
    "        result=g.run(agent1,agent2)\n",
    "    \n",
    "        # testing step\n",
    "        agent1.learning=False\n",
    "        agent2.learning=False\n",
    "    \n",
    "        g=Game(number_of_games=N_test)\n",
    "        g.display=False\n",
    "        result=g.run(minimax_agent,agent2)\n",
    "    \n",
    "        iteration_count+=N_train\n",
    "    \n",
    "    \n",
    "        percentage_won_player1.append(result.count(1)/N_test*100)\n",
    "        percentage_won_player2.append(result.count(2)/N_test*100)\n",
    "        percentage_stalemate.append(result.count(0)/N_test*100)\n",
    "        number_of_iterations.append(iteration_count)\n",
    "    \n",
    "        clear_output(wait=True)\n",
    "        ax.cla()\n",
    "        ax.grid(True)\n",
    "        \n",
    "        ax.plot(number_of_iterations,percentage_won_player1,'-o',label=\"Player 1\")\n",
    "        ax.plot(number_of_iterations,percentage_won_player2,'-x',label=\"Player 2\")\n",
    "        ax.plot(number_of_iterations,percentage_stalemate,'-s',label=\"Stalemate\")\n",
    "        ax.legend()\n",
    "    \n",
    "        fig.canvas.draw()\n",
    "        fig.canvas.flush_events()\n",
    "        plt.show()\n",
    "        display(fig)\n",
    "\n",
    "    except KeyboardInterrupt:\n",
    "        break"
   ]
  },
  {
   "cell_type": "code",
   "execution_count": null,
   "id": "2c9137ca-d2ce-42cd-8ba5-3dd81bf6c91f",
   "metadata": {},
   "outputs": [],
   "source": []
  },
  {
   "cell_type": "code",
   "execution_count": null,
   "id": "d4a1a70d-6061-4421-a075-1f2e9c6ca066",
   "metadata": {},
   "outputs": [],
   "source": []
  }
 ],
 "metadata": {
  "kernelspec": {
   "display_name": "Python 3 (ipykernel)",
   "language": "python",
   "name": "python3"
  },
  "language_info": {
   "codemirror_mode": {
    "name": "ipython",
    "version": 3
   },
   "file_extension": ".py",
   "mimetype": "text/x-python",
   "name": "python",
   "nbconvert_exporter": "python",
   "pygments_lexer": "ipython3",
   "version": "3.12.6"
  }
 },
 "nbformat": 4,
 "nbformat_minor": 5
}
