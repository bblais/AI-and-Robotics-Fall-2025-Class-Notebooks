{
 "cells": [
  {
   "cell_type": "code",
   "execution_count": 2,
   "id": "87081d23-fbee-4ac8-a7d4-26b42546b7dc",
   "metadata": {},
   "outputs": [
    {
     "name": "stdout",
     "output_type": "stream",
     "text": [
      "Version:  0.3.15\n"
     ]
    }
   ],
   "source": [
    "from Game import *"
   ]
  },
  {
   "cell_type": "markdown",
   "id": "0d66c8d0-2b6f-4ae5-8a9a-9acaf9b01675",
   "metadata": {},
   "source": [
    "Four functions to do:\n",
    "\n",
    "1. `initial_state()`   return the state for the start of the game\n",
    "2. `valid_moves(state,player)` return a list of valid moves\n",
    "3. `update_state(state, player, move )` return the new state\n",
    "4. `win_status(state,player)` returns one of `\"win\"`,`\"lose\"`,`\"stalemate\"` or `None`"
   ]
  },
  {
   "cell_type": "code",
   "execution_count": 3,
   "id": "85fbf297-bcdc-4884-8468-33c7721db5e6",
   "metadata": {},
   "outputs": [],
   "source": [
    "def initial_state():\n",
    "    state=Board(3,3)\n",
    "    state.pieces=[\".\",\"X\",\"O\"]\n",
    "    return state"
   ]
  },
  {
   "cell_type": "code",
   "execution_count": 4,
   "id": "711b95c2-fd51-4922-ba36-83526fd982db",
   "metadata": {},
   "outputs": [],
   "source": [
    "def valid_moves(state,player):\n",
    "    \n",
    "    moves=[]\n",
    "    \n",
    "    for location in range(9): \n",
    "        if state[location]==0:\n",
    "            moves.append(location)\n",
    "       \n",
    "    return moves\n",
    "    "
   ]
  },
  {
   "cell_type": "code",
   "execution_count": 5,
   "id": "2670773b-ded7-449a-9be6-82743be80892",
   "metadata": {},
   "outputs": [],
   "source": [
    "def update_state(state,player,move):\n",
    "    new_state=state\n",
    "    new_state[move]=player\n",
    "        \n",
    "    return new_state"
   ]
  },
  {
   "cell_type": "code",
   "execution_count": 6,
   "id": "ed87054b-3405-4e4f-a670-02a2364a7ecd",
   "metadata": {},
   "outputs": [],
   "source": [
    "def win_status(state,player):\n",
    "    # 0  1  2 \n",
    "    # 3  4  5 \n",
    "    # 6  7  8 \n",
    "\n",
    "    if player==1:\n",
    "        other_player=2\n",
    "    else:\n",
    "        other_player=1\n",
    "    \n",
    "    if state[0]==state[1]==state[2]==player:\n",
    "        return \"win\"\n",
    "    if state[3]==state[4]==state[5]==player:\n",
    "        return \"win\"\n",
    "    if state[6]==state[7]==state[8]==player:\n",
    "        return \"win\"\n",
    "    if state[0]==state[3]==state[6]==player:\n",
    "        return \"win\"\n",
    "    if state[1]==state[4]==state[7]==player:\n",
    "        return \"win\"\n",
    "    if state[2]==state[5]==state[8]==player:\n",
    "        return \"win\"\n",
    "    if state[0]==state[4]==state[8]==player:\n",
    "        return \"win\"\n",
    "    if state[6]==state[4]==state[2]==player:\n",
    "        return \"win\"\n",
    "    \n",
    "    if not valid_moves(state,other_player):\n",
    "        return \"stalemate\"\n",
    "    \n",
    "    return None"
   ]
  },
  {
   "cell_type": "code",
   "execution_count": 7,
   "id": "2914f60b-6d43-43e4-b6ba-78b9ee488344",
   "metadata": {},
   "outputs": [],
   "source": [
    "def human_move(state,player):\n",
    "    print(\"Locations:\")\n",
    "    state.show_locations()\n",
    "    print(\"Valid Moves:\")\n",
    "    print(valid_moves(state,player))\n",
    "    \n",
    "    while True:\n",
    "        move=eval(input(\"Enter your move\"))\n",
    "\n",
    "        if move not in valid_moves(state,player):\n",
    "            print(\"That is not a valid move\")\n",
    "        else:\n",
    "            break\n",
    "    \n",
    "    return move\n",
    "\n",
    "human_agent=Agent(human_move)"
   ]
  },
  {
   "cell_type": "code",
   "execution_count": 8,
   "id": "a6fe03f9-a382-43ce-b90a-44ee85a96ac3",
   "metadata": {},
   "outputs": [],
   "source": [
    "def show_state(state,player):\n",
    "    print(state)"
   ]
  },
  {
   "cell_type": "code",
   "execution_count": 9,
   "id": "a4dba9c8-b717-46b5-828b-b6b359d084cf",
   "metadata": {},
   "outputs": [],
   "source": [
    "def random_move(state,player):\n",
    "    return random.choice(valid_moves(state,player))\n",
    "random_agent=Agent(random_move)"
   ]
  },
  {
   "cell_type": "code",
   "execution_count": 10,
   "id": "363490d7-f0b4-4660-bfc4-f9cc8fbd1808",
   "metadata": {},
   "outputs": [],
   "source": [
    "from Game.minimax import *\n",
    "def minimax_move(state,player):\n",
    "    values,actions=minimax_values(state,player,display=False)\n",
    "    return top_choice(actions,values)\n",
    "minimax_agent=Agent(minimax_move)"
   ]
  },
  {
   "cell_type": "code",
   "execution_count": 11,
   "id": "e12b143c-6c7e-4455-abf2-0e2670f2fb04",
   "metadata": {},
   "outputs": [],
   "source": [
    "def table_move(state,player,info):\n",
    "    T=info.T   # table for the skittles\n",
    "    \n",
    "    # if we haven't seen this state before, do random\n",
    "    if state not in T:\n",
    "        move=random_move(state,player)\n",
    "        return move\n",
    "\n",
    "    move=weighted_choice(T[state])\n",
    "\n",
    "    if move is None:\n",
    "        move=random_move(state,player)\n",
    "\n",
    "    return move\n",
    "\n"
   ]
  },
  {
   "cell_type": "code",
   "execution_count": 12,
   "id": "cec1bc57-c9b3-4a50-abe4-4c54cb0c118d",
   "metadata": {},
   "outputs": [],
   "source": [
    "table_agent1=Agent(table_move)\n",
    "table_agent1.T=LoadTable(\"TTT Skittles Agent1\") \n",
    "\n",
    "table_agent2=Agent(table_move)\n",
    "table_agent2.T=LoadTable(\"TTT Skittles Agent2\") "
   ]
  },
  {
   "cell_type": "code",
   "execution_count": 14,
   "id": "4001475b-7d20-40de-a9c6-04a9cd1105be",
   "metadata": {},
   "outputs": [
    {
     "name": "stdout",
     "output_type": "stream",
     "text": [
      "====\n",
      "Game  1\n",
      " .  .  . \n",
      " .  .  . \n",
      " .  .  . \n",
      "\n",
      "Player 1 moves 3\n",
      " .  .  . \n",
      " X  .  . \n",
      " .  .  . \n",
      "\n",
      "Player 2 moves 6\n",
      " .  .  . \n",
      " X  .  . \n",
      " O  .  . \n",
      "\n",
      "Player 1 moves 7\n",
      " .  .  . \n",
      " X  .  . \n",
      " O  X  . \n",
      "\n",
      "Player 2 moves 5\n",
      " .  .  . \n",
      " X  .  O \n",
      " O  X  . \n",
      "\n",
      "Player 1 moves 4\n",
      " .  .  . \n",
      " X  X  O \n",
      " O  X  . \n",
      "\n",
      "Player 2 moves 1\n",
      " .  O  . \n",
      " X  X  O \n",
      " O  X  . \n",
      "\n",
      "Player 1 moves 2\n",
      " .  O  X \n",
      " X  X  O \n",
      " O  X  . \n",
      "\n",
      "Player 2 moves 8\n",
      " .  O  X \n",
      " X  X  O \n",
      " O  X  O \n",
      "\n",
      "Player 1 moves 0\n",
      " X  O  X \n",
      " X  X  O \n",
      " O  X  O \n",
      "\n",
      "Neither player won:  stalemate\n"
     ]
    },
    {
     "data": {
      "text/plain": [
       "[0]"
      ]
     },
     "execution_count": 14,
     "metadata": {},
     "output_type": "execute_result"
    }
   ],
   "source": [
    "g=Game()\n",
    "g.run(table_agent1,minimax_agent)"
   ]
  },
  {
   "cell_type": "code",
   "execution_count": null,
   "id": "e1b2fe07-a874-4804-8242-333d182c17ca",
   "metadata": {},
   "outputs": [],
   "source": []
  }
 ],
 "metadata": {
  "kernelspec": {
   "display_name": "Python 3 (ipykernel)",
   "language": "python",
   "name": "python3"
  },
  "language_info": {
   "codemirror_mode": {
    "name": "ipython",
    "version": 3
   },
   "file_extension": ".py",
   "mimetype": "text/x-python",
   "name": "python",
   "nbconvert_exporter": "python",
   "pygments_lexer": "ipython3",
   "version": "3.12.6"
  }
 },
 "nbformat": 4,
 "nbformat_minor": 5
}
