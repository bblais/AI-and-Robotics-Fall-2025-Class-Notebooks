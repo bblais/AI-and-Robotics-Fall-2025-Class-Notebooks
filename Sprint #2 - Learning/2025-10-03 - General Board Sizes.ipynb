{
 "cells": [
  {
   "cell_type": "code",
   "execution_count": 1,
   "id": "ec46262a-5cbb-484b-a1fb-71a900514c2f",
   "metadata": {},
   "outputs": [
    {
     "name": "stdout",
     "output_type": "stream",
     "text": [
      "Version:  0.3.15\n"
     ]
    }
   ],
   "source": [
    "from Game import *"
   ]
  },
  {
   "cell_type": "code",
   "execution_count": 7,
   "id": "fa812f14-c9ea-4bb1-b850-37a91dd3603e",
   "metadata": {},
   "outputs": [],
   "source": [
    "state=Board(4,4)"
   ]
  },
  {
   "cell_type": "code",
   "execution_count": 5,
   "id": "dddbad50-a7f4-4c74-bcea-518b365fa837",
   "metadata": {},
   "outputs": [
    {
     "data": {
      "text/plain": [
       "(4, 5)"
      ]
     },
     "execution_count": 5,
     "metadata": {},
     "output_type": "execute_result"
    }
   ],
   "source": [
    "state.shape"
   ]
  },
  {
   "cell_type": "code",
   "execution_count": 6,
   "id": "600047cf-d02d-4fa3-b1ec-e1fef4b34fea",
   "metadata": {},
   "outputs": [],
   "source": [
    "number_of_rows,number_of_columns=state.shape"
   ]
  },
  {
   "cell_type": "code",
   "execution_count": null,
   "id": "25f7e7c8-2b73-485d-a861-253ec68c1af7",
   "metadata": {},
   "outputs": [],
   "source": []
  }
 ],
 "metadata": {
  "kernelspec": {
   "display_name": "Python 3 (ipykernel)",
   "language": "python",
   "name": "python3"
  },
  "language_info": {
   "codemirror_mode": {
    "name": "ipython",
    "version": 3
   },
   "file_extension": ".py",
   "mimetype": "text/x-python",
   "name": "python",
   "nbconvert_exporter": "python",
   "pygments_lexer": "ipython3",
   "version": "3.12.6"
  }
 },
 "nbformat": 4,
 "nbformat_minor": 5
}
