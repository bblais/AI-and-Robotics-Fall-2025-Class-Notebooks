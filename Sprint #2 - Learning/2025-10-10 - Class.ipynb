{
 "cells": [
  {
   "cell_type": "code",
   "execution_count": 1,
   "id": "88991c4f-5280-4832-94ec-edcb654906ca",
   "metadata": {},
   "outputs": [
    {
     "name": "stdout",
     "output_type": "stream",
     "text": [
      "Version:  0.3.15\n"
     ]
    }
   ],
   "source": [
    "from Game import *"
   ]
  },
  {
   "cell_type": "code",
   "execution_count": 5,
   "id": "b599bb28-10f8-4192-826e-fd044e30a0ee",
   "metadata": {},
   "outputs": [
    {
     "data": {
      "text/plain": [
       " 0  1  2  3  4  5  6 \n",
       " 7  8  9 10 11 12 13 \n",
       "14 15 16 17 18 19 20 \n",
       "21 22 23 24 25 26 27 \n",
       "28 29 30 31 32 33 34 \n",
       "35 36 37 38 39 40 41 \n",
       "42 43 44 45 46 47 48 "
      ]
     },
     "execution_count": 5,
     "metadata": {},
     "output_type": "execute_result"
    }
   ],
   "source": [
    "state=Board(7,7)\n",
    "state.board=[random.choice([0,1,2,3,4,5]) for _ in range(49)]\n",
    "locations=Board(7,7)\n",
    "locations.board=list(range(49))\n",
    "locations"
   ]
  },
  {
   "cell_type": "code",
   "execution_count": 6,
   "id": "1b5ff834-8d6f-4186-a91c-a8482387f5d4",
   "metadata": {},
   "outputs": [
    {
     "data": {
      "text/plain": [
       " 5  3  0  5  5  2  1 \n",
       " 1  5  4  0  1  5  1 \n",
       " 2  5  5  0  0  5  5 \n",
       " 2  5  1  4  1  5  1 \n",
       " 5  1  5  0  1  1  4 \n",
       " 3  3  4  0  1  5  0 \n",
       " 4  1  2  4  5  2  4 "
      ]
     },
     "execution_count": 6,
     "metadata": {},
     "output_type": "execute_result"
    }
   ],
   "source": [
    "state"
   ]
  },
  {
   "cell_type": "code",
   "execution_count": 10,
   "id": "c06fc008-aeb4-45e5-8053-0dd3142f28f7",
   "metadata": {},
   "outputs": [
    {
     "name": "stdout",
     "output_type": "stream",
     "text": [
      "[5, 5, 5, 4, 1, 5, 4]     [0, 8, 16, 24, 32, 40, 48]\n",
      "[1, 5, 0, 4, 5, 3, 4]     [6, 12, 18, 24, 30, 36, 42]\n"
     ]
    }
   ],
   "source": [
    "for diag,diag_locations in zip(state.diags(7),locations.diags(7)):\n",
    "    print(diag,\"   \",diag_locations)"
   ]
  },
  {
   "cell_type": "code",
   "execution_count": null,
   "id": "2d1cc55e-d7d7-40ea-a7a9-d10330c2e27b",
   "metadata": {},
   "outputs": [],
   "source": []
  }
 ],
 "metadata": {
  "kernelspec": {
   "display_name": "Python 3 (ipykernel)",
   "language": "python",
   "name": "python3"
  },
  "language_info": {
   "codemirror_mode": {
    "name": "ipython",
    "version": 3
   },
   "file_extension": ".py",
   "mimetype": "text/x-python",
   "name": "python",
   "nbconvert_exporter": "python",
   "pygments_lexer": "ipython3",
   "version": "3.12.6"
  }
 },
 "nbformat": 4,
 "nbformat_minor": 5
}
