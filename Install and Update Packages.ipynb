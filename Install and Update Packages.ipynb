{
 "cells": [
  {
   "cell_type": "markdown",
   "metadata": {},
   "source": [
    "## Sprint #1"
   ]
  },
  {
   "cell_type": "code",
   "execution_count": null,
   "metadata": {},
   "outputs": [
    {
     "name": "stdout",
     "output_type": "stream",
     "text": [
      "Collecting git+https://github.com/bblais/Game\n",
      "  Cloning https://github.com/bblais/Game to /Users/bblais/tmp/pip-req-build-m0m1l9v5\n",
      "  Running command git clone --filter=blob:none --quiet https://github.com/bblais/Game /Users/bblais/tmp/pip-req-build-m0m1l9v5\n",
      "  Resolved https://github.com/bblais/Game to commit aae5eb80be89f173183ab2ef1a9958c700d3077e\n",
      "  Preparing metadata (setup.py) ... \u001b[?25ldone\n",
      "\u001b[?25h"
     ]
    }
   ],
   "source": [
    "!pip install \"git+https://github.com/bblais/Game\" --upgrade"
   ]
  },
  {
   "cell_type": "code",
   "execution_count": null,
   "metadata": {},
   "outputs": [
    {
     "name": "stdout",
     "output_type": "stream",
     "text": [
      "Version:  0.3.01\n"
     ]
    }
   ],
   "source": [
    "import Game"
   ]
  },
  {
   "cell_type": "markdown",
   "metadata": {},
   "source": [
    "If you happen the error \"Cannot find command 'git'\", then you need to install git.\n",
    "\n",
    "- open an anaconda prompt\n",
    "- type `conda install -c anaconda git`"
   ]
  },
  {
   "cell_type": "markdown",
   "metadata": {},
   "source": [
    "if you get this error:"
   ]
  },
  {
   "cell_type": "code",
   "execution_count": null,
   "metadata": {},
   "outputs": [
    {
     "ename": "ModuleNotFoundError",
     "evalue": "No module named 'game'",
     "output_type": "error",
     "traceback": [
      "\u001b[0;31m---------------------------------------------------------------------------\u001b[0m",
      "\u001b[0;31mModuleNotFoundError\u001b[0m                       Traceback (most recent call last)",
      "Cell \u001b[0;32mIn[12], line 1\u001b[0m\n\u001b[0;32m----> 1\u001b[0m \u001b[38;5;28;01mfrom\u001b[39;00m \u001b[38;5;21;01mgame\u001b[39;00m \u001b[38;5;28;01mimport\u001b[39;00m \u001b[38;5;241m*\u001b[39m\n",
      "\u001b[0;31mModuleNotFoundError\u001b[0m: No module named 'game'"
     ]
    }
   ],
   "source": [
    "from game import *"
   ]
  },
  {
   "cell_type": "markdown",
   "metadata": {},
   "source": [
    "Remember that `Game` is different than `game`."
   ]
  },
  {
   "cell_type": "code",
   "execution_count": null,
   "metadata": {},
   "outputs": [],
   "source": []
  },
  {
   "cell_type": "markdown",
   "metadata": {},
   "source": [
    "## Sprint #2"
   ]
  },
  {
   "cell_type": "markdown",
   "metadata": {},
   "source": [
    "Run this on the robot to update the software"
   ]
  },
  {
   "cell_type": "code",
   "execution_count": null,
   "metadata": {},
   "outputs": [],
   "source": [
    "pip install \"git+https://github.com/bblais/Robot373\" --upgrade"
   ]
  },
  {
   "cell_type": "markdown",
   "metadata": {},
   "source": [
    "## Sprint #3"
   ]
  },
  {
   "cell_type": "markdown",
   "metadata": {},
   "source": [
    "- Windows comes with ssh\n",
    "- install Cyberduck for file transfer: https://cyberduck.io/"
   ]
  },
  {
   "cell_type": "markdown",
   "metadata": {},
   "source": [
    "## Sprint #4"
   ]
  },
  {
   "cell_type": "code",
   "execution_count": null,
   "metadata": {},
   "outputs": [
    {
     "name": "stdout",
     "output_type": "stream",
     "text": [
      "Requirement already satisfied: scikit-learn in /Users/bblais/opt/anaconda3/lib/python3.9/site-packages (1.0.2)\n",
      "Requirement already satisfied: threadpoolctl>=2.0.0 in /Users/bblais/opt/anaconda3/lib/python3.9/site-packages (from scikit-learn) (2.2.0)\n",
      "Requirement already satisfied: numpy>=1.14.6 in /Users/bblais/opt/anaconda3/lib/python3.9/site-packages (from scikit-learn) (1.21.5)\n",
      "Requirement already satisfied: scipy>=1.1.0 in /Users/bblais/opt/anaconda3/lib/python3.9/site-packages (from scikit-learn) (1.7.3)\n",
      "Requirement already satisfied: joblib>=0.11 in /Users/bblais/opt/anaconda3/lib/python3.9/site-packages (from scikit-learn) (1.1.0)\n"
     ]
    }
   ],
   "source": [
    "!pip install scikit-learn"
   ]
  },
  {
   "cell_type": "code",
   "execution_count": null,
   "metadata": {},
   "outputs": [
    {
     "name": "stdout",
     "output_type": "stream",
     "text": [
      "Collecting git+https://github.com/bblais/classy\n",
      "  Cloning https://github.com/bblais/classy to /Users/bblais/tmp/pip-req-build-2kds5brh\n",
      "  Running command git clone --filter=blob:none --quiet https://github.com/bblais/classy /Users/bblais/tmp/pip-req-build-2kds5brh\n",
      "  Resolved https://github.com/bblais/classy to commit 229d2ef301ebebfd4cf601e01f37df4c14afd257\n",
      "  Preparing metadata (setup.py) ... \u001b[?25ldone\n",
      "\u001b[?25h"
     ]
    }
   ],
   "source": [
    "!pip install \"git+https://github.com/bblais/classy\" --upgrade"
   ]
  },
  {
   "cell_type": "code",
   "execution_count": null,
   "metadata": {},
   "outputs": [
    {
     "name": "stdout",
     "output_type": "stream",
     "text": [
      "Collecting git+https://github.com/bblais/NumpyNet\n",
      "  Cloning https://github.com/bblais/NumpyNet to /Users/bblais/tmp/pip-req-build-ub6tf_2p\n",
      "  Running command git clone -q https://github.com/bblais/NumpyNet /Users/bblais/tmp/pip-req-build-ub6tf_2p\n",
      "Collecting opencv-python<=4.1.2.30\n",
      "  Downloading opencv_python-4.1.2.30-cp38-cp38-macosx_10_9_x86_64.whl (45.2 MB)\n",
      "\u001b[K     |████████████████████████████████| 45.2 MB 2.9 MB/s eta 0:00:01\n",
      "\u001b[?25hRequirement already satisfied: numpy>=1.15 in /Users/bblais/opt/anaconda3/lib/python3.8/site-packages (from NumPyNet==1.0.6) (1.20.1)\n",
      "Requirement already satisfied: pillow in /Users/bblais/opt/anaconda3/lib/python3.8/site-packages (from NumPyNet==1.0.6) (8.2.0)\n",
      "Requirement already satisfied: pytest in /Users/bblais/opt/anaconda3/lib/python3.8/site-packages (from NumPyNet==1.0.6) (6.2.3)\n",
      "Collecting enum34\n",
      "  Downloading enum34-1.1.10-py3-none-any.whl (11 kB)\n",
      "Collecting configparser\n",
      "  Downloading configparser-5.1.0-py3-none-any.whl (19 kB)\n",
      "Requirement already satisfied: tqdm in /Users/bblais/opt/anaconda3/lib/python3.8/site-packages (from NumPyNet==1.0.6) (4.59.0)\n",
      "Requirement already satisfied: attrs>=19.2.0 in /Users/bblais/opt/anaconda3/lib/python3.8/site-packages (from pytest->NumPyNet==1.0.6) (20.3.0)\n",
      "Requirement already satisfied: iniconfig in /Users/bblais/opt/anaconda3/lib/python3.8/site-packages (from pytest->NumPyNet==1.0.6) (1.1.1)\n",
      "Requirement already satisfied: packaging in /Users/bblais/opt/anaconda3/lib/python3.8/site-packages (from pytest->NumPyNet==1.0.6) (20.9)\n",
      "Requirement already satisfied: pluggy<1.0.0a1,>=0.12 in /Users/bblais/opt/anaconda3/lib/python3.8/site-packages (from pytest->NumPyNet==1.0.6) (0.13.1)\n",
      "Requirement already satisfied: py>=1.8.2 in /Users/bblais/opt/anaconda3/lib/python3.8/site-packages (from pytest->NumPyNet==1.0.6) (1.10.0)\n",
      "Requirement already satisfied: toml in /Users/bblais/opt/anaconda3/lib/python3.8/site-packages (from pytest->NumPyNet==1.0.6) (0.10.2)\n",
      "Requirement already satisfied: pyparsing>=2.0.2 in /Users/bblais/opt/anaconda3/lib/python3.8/site-packages (from packaging->pytest->NumPyNet==1.0.6) (2.4.7)\n",
      "Building wheels for collected packages: NumPyNet\n",
      "  Building wheel for NumPyNet (setup.py) ... \u001b[?25ldone\n",
      "\u001b[?25h  Created wheel for NumPyNet: filename=NumPyNet-1.0.6-py3-none-any.whl size=95884 sha256=421a84b9f9333490873456ad48b95ffef3057e2ac1041f92f1fa81ae00f8c2d2\n",
      "  Stored in directory: /Users/bblais/tmp/pip-ephem-wheel-cache-ki6dlpdl/wheels/65/35/4f/b2983231593896658f79cbc5028a95d48579d3ee64a16f2ed2\n",
      "Successfully built NumPyNet\n",
      "Installing collected packages: opencv-python, enum34, configparser, NumPyNet\n",
      "Successfully installed NumPyNet-1.0.6 configparser-5.1.0 enum34-1.1.10 opencv-python-4.1.2.30\n"
     ]
    }
   ],
   "source": [
    "!pip install \"git+https://github.com/bblais/NumpyNet\" --upgrade"
   ]
  },
  {
   "cell_type": "code",
   "execution_count": null,
   "metadata": {},
   "outputs": [
    {
     "name": "stdout",
     "output_type": "stream",
     "text": [
      "Requirement already satisfied: tqdm in /Users/bblais/opt/anaconda3/envs/py3/lib/python3.7/site-packages (4.50.0)\n"
     ]
    }
   ],
   "source": [
    "!pip install tqdm"
   ]
  },
  {
   "cell_type": "markdown",
   "metadata": {},
   "source": [
    "this one is for cv2"
   ]
  },
  {
   "cell_type": "code",
   "execution_count": null,
   "metadata": {},
   "outputs": [
    {
     "name": "stdout",
     "output_type": "stream",
     "text": [
      "Requirement already satisfied: opencv-python in /Users/bblais/opt/anaconda3/lib/python3.9/site-packages (3.4.18.65)\n",
      "Requirement already satisfied: numpy>=1.14.5 in /Users/bblais/opt/anaconda3/lib/python3.9/site-packages (from opencv-python) (1.21.5)\n"
     ]
    }
   ],
   "source": [
    "!pip install opencv-python"
   ]
  },
  {
   "cell_type": "code",
   "execution_count": null,
   "metadata": {},
   "outputs": [],
   "source": []
  }
 ],
 "metadata": {
  "kernelspec": {
   "display_name": "Python 3 (ipykernel)",
   "language": "python",
   "name": "python3"
  },
  "language_info": {
   "codemirror_mode": {
    "name": "ipython",
    "version": 3
   },
   "file_extension": ".py",
   "mimetype": "text/x-python",
   "name": "python",
   "nbconvert_exporter": "python",
   "pygments_lexer": "ipython3",
   "version": "3.12.6"
  }
 },
 "nbformat": 4,
 "nbformat_minor": 4
}
