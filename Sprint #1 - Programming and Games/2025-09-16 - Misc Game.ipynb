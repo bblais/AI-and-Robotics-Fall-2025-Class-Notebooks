{
 "cells": [
  {
   "cell_type": "code",
   "execution_count": 1,
   "id": "add3be4d-6cd6-441c-9246-8fcaa209b40d",
   "metadata": {},
   "outputs": [
    {
     "name": "stdout",
     "output_type": "stream",
     "text": [
      "Version:  0.3.14\n"
     ]
    }
   ],
   "source": [
    "from Game import *"
   ]
  },
  {
   "cell_type": "code",
   "execution_count": 2,
   "id": "3f177e95-8010-4adc-a991-ee948e5f169e",
   "metadata": {},
   "outputs": [
    {
     "data": {
      "text/plain": [
       " 0  0  0 \n",
       " 0  0  0 \n",
       " 0  0  0 \n",
       "\n",
       "    0  0  0 \n",
       "    0  0  0 \n",
       "    0  0  0 \n",
       "\n",
       "       0  0  0 \n",
       "       0  0  0 \n",
       "       0  0  0 \n"
      ]
     },
     "execution_count": 2,
     "metadata": {},
     "output_type": "execute_result"
    }
   ],
   "source": [
    "state=Board(3,3,3)\n",
    "state"
   ]
  },
  {
   "cell_type": "code",
   "execution_count": 3,
   "id": "76cfe9f4-4f45-4ef9-856f-a5eb483bdd2c",
   "metadata": {},
   "outputs": [
    {
     "name": "stdout",
     "output_type": "stream",
     "text": [
      " 0  1  2 \n",
      " 3  4  5 \n",
      " 6  7  8 \n",
      "\n",
      "    9 10 11 \n",
      "   12 13 14 \n",
      "   15 16 17 \n",
      "\n",
      "      18 19 20 \n",
      "      21 22 23 \n",
      "      24 25 26 \n",
      "\n",
      "\n"
     ]
    }
   ],
   "source": [
    "state.show_locations()"
   ]
  },
  {
   "cell_type": "code",
   "execution_count": 8,
   "id": "d201aeb1-c4a2-4496-a4bf-2dc4a3c526e1",
   "metadata": {},
   "outputs": [],
   "source": [
    "state[9]=1\n",
    "state[10]=1\n",
    "state[11]=1"
   ]
  },
  {
   "cell_type": "code",
   "execution_count": 12,
   "id": "261e6eca-fc30-4c5b-ade8-cd675bd1d77e",
   "metadata": {},
   "outputs": [],
   "source": [
    "def three_in_a_row(state,a,b,c,player):\n",
    "    if state[a]==player and state[b]==player and state[c]==player:\n",
    "        return True\n",
    "    else:\n",
    "        return False"
   ]
  },
  {
   "cell_type": "code",
   "execution_count": 13,
   "id": "5acbf37a-0fe3-472b-b74a-5e6e8d33ca29",
   "metadata": {},
   "outputs": [
    {
     "data": {
      "text/plain": [
       "False"
      ]
     },
     "execution_count": 13,
     "metadata": {},
     "output_type": "execute_result"
    }
   ],
   "source": [
    "three_in_a_row(state,0,1,2,player=1)"
   ]
  },
  {
   "cell_type": "code",
   "execution_count": 14,
   "id": "d6364ce8-698d-4835-8432-9c4682023278",
   "metadata": {},
   "outputs": [
    {
     "data": {
      "text/plain": [
       "True"
      ]
     },
     "execution_count": 14,
     "metadata": {},
     "output_type": "execute_result"
    }
   ],
   "source": [
    "three_in_a_row(state,9,10,11,player=1)"
   ]
  },
  {
   "cell_type": "code",
   "execution_count": 15,
   "id": "972c00cd-2a5e-495d-a0b7-5efaedd606a4",
   "metadata": {},
   "outputs": [],
   "source": [
    "def check_board(board,player):\n",
    "    if three_in_a_row(state,0,1,2,player):\n",
    "        return True\n",
    "    if three_in_a_row(state,3,4,5,player):\n",
    "        return True\n",
    "    if three_in_a_row(state,6,7,8,player):\n",
    "        return True\n",
    "    if three_in_a_row(state,0,3,6,player):\n",
    "        return True\n",
    "    if three_in_a_row(state,1,4,7,player):\n",
    "        return True\n",
    "    if three_in_a_row(state,2,5,8,player):\n",
    "        return True\n",
    "    if three_in_a_row(state,0,4,8,player):\n",
    "        return True\n",
    "    if three_in_a_row(state,2,4,6,player):\n",
    "        return True\n",
    "\n",
    "    else:\n",
    "        return False"
   ]
  },
  {
   "cell_type": "code",
   "execution_count": 16,
   "id": "10dac86c-f008-4331-91e4-b031ab3fc627",
   "metadata": {},
   "outputs": [
    {
     "data": {
      "text/plain": [
       "False"
      ]
     },
     "execution_count": 16,
     "metadata": {},
     "output_type": "execute_result"
    }
   ],
   "source": [
    "check_board(state,player=1)"
   ]
  },
  {
   "cell_type": "code",
   "execution_count": 17,
   "id": "d9d2a0f9-dde7-4ee8-9756-b65c2b4198db",
   "metadata": {},
   "outputs": [
    {
     "data": {
      "text/plain": [
       " 0  0  0 \n",
       " 0  0  0 \n",
       " 0  0  0 \n",
       "\n",
       "    1  1  1 \n",
       "    0  0  0 \n",
       "    0  0  0 \n",
       "\n",
       "       0  0  0 \n",
       "       0  0  0 \n",
       "       0  0  0 \n"
      ]
     },
     "execution_count": 17,
     "metadata": {},
     "output_type": "execute_result"
    }
   ],
   "source": [
    "state"
   ]
  },
  {
   "cell_type": "code",
   "execution_count": null,
   "id": "53f07151-6d38-418f-82e0-351dfd9e48fa",
   "metadata": {},
   "outputs": [],
   "source": [
    "def win_status(state,player):\n",
    "\n",
    "    locations=[9,10,11,12,13,14,15,16,17]\n",
    "    small_board=Board(3,3)\n",
    "    for i in range(9):\n",
    "        small_board[i]=state[locations[i]]\n",
    "\n",
    "    if check_board(small_board,player):\n",
    "        return True\n",
    "    else:\n",
    "        return False\n",
    "\n",
    "        \n",
    "    \n",
    "\n",
    "\n",
    "    "
   ]
  }
 ],
 "metadata": {
  "kernelspec": {
   "display_name": "Python 3 (ipykernel)",
   "language": "python",
   "name": "python3"
  },
  "language_info": {
   "codemirror_mode": {
    "name": "ipython",
    "version": 3
   },
   "file_extension": ".py",
   "mimetype": "text/x-python",
   "name": "python",
   "nbconvert_exporter": "python",
   "pygments_lexer": "ipython3",
   "version": "3.12.6"
  }
 },
 "nbformat": 4,
 "nbformat_minor": 5
}
