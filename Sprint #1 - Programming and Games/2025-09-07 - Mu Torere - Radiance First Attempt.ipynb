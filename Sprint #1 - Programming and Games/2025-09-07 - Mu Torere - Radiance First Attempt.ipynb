{
 "cells": [
  {
   "cell_type": "markdown",
   "id": "f385d415-716f-4cb8-98e8-e230b5b1f919",
   "metadata": {},
   "source": [
    "# Mu Torere (Radiance) (3×3 Grid Version)\n",
    "\n",
    "## Board Numbering\n",
    "```\n",
    "0 | 1 | 2\n",
    "--+---+--\n",
    "3 | 4 | 5\n",
    "--+---+--\n",
    "6 | 7 | 8\n",
    "```\n",
    "\n",
    "- **Center (4)** = hub (*putahi*).  \n",
    "- **Outer (0,1,2,3,5,6,7,8)** = ring.  \n",
    "\n",
    "---\n",
    "\n",
    "## Setup\n",
    "- Two players, each with **4 pieces** (● and ○).  \n",
    "- Pieces are placed **alternately around the ring**.  \n",
    "- Square **4** starts empty.  \n",
    "\n",
    "Example alternating setup:\n",
    "```\n",
    "● | ○ | ●\n",
    "--+---+--\n",
    "○ | ⊙ | ○\n",
    "--+---+--\n",
    "● | ○ | ●\n",
    "```\n",
    "\n",
    "---\n",
    "\n",
    "## Moves\n",
    "1. Players alternate turns.  \n",
    "2. A piece may move into **square 4** if it is empty and adjacent.  \n",
    "3. A piece on the ring may move into an **empty ring square** *only if* it is directly **next to an opponent’s piece**  \n",
    "   (adjacent horizontally, vertically, or diagonally).  \n",
    "4. A piece in **square 4** may move into any **adjacent empty ring square**.  \n",
    "\n",
    "---\n",
    "\n",
    "## Goal\n",
    "- **Win by blocking your opponent** so they cannot make a legal move.  \n",
    "- There is no capturing — victory is achieved through movement and positioning.  \n"
   ]
  },
  {
   "cell_type": "code",
   "execution_count": 3,
   "id": "31e2ec9d-cdfd-4d76-a10f-bac5f48c8168",
   "metadata": {},
   "outputs": [
    {
     "name": "stdout",
     "output_type": "stream",
     "text": [
      "Version:  0.3.14\n"
     ]
    }
   ],
   "source": [
    "from Game import *"
   ]
  },
  {
   "cell_type": "markdown",
   "id": "a5ff6475-a7ee-4075-89e5-921b5815fdbb",
   "metadata": {},
   "source": [
    "- What is the state? (how are they represented?)\n",
    "    - state = board, 0 empty, 1 player 1 piece, 2 player 2 piece\n",
    "- What is a move?\n",
    "    - [integer,integer] start,end"
   ]
  },
  {
   "cell_type": "code",
   "execution_count": 4,
   "id": "1c510869-69fd-4225-a9af-a1f7c1c5f994",
   "metadata": {},
   "outputs": [],
   "source": [
    "def initial_state():\n",
    "    state=Board(3,3)\n",
    "    for location in [0,2,6,8]:\n",
    "        state[location]=1\n",
    "\n",
    "    for location in [1,3,5,7]:\n",
    "        state[location]=2\n",
    "\n",
    "    state.pieces=[\".\" , \"●\" , \"○\" ]\n",
    "    return state"
   ]
  },
  {
   "cell_type": "code",
   "execution_count": 5,
   "id": "70d5b984-b524-4882-8dcf-8c97a1d664dd",
   "metadata": {},
   "outputs": [
    {
     "data": {
      "text/plain": [
       " ●  ○  ● \n",
       " ○  .  ○ \n",
       " ●  ○  ● "
      ]
     },
     "execution_count": 5,
     "metadata": {},
     "output_type": "execute_result"
    }
   ],
   "source": [
    "initial_state()"
   ]
  },
  {
   "cell_type": "code",
   "execution_count": 30,
   "id": "e0a2b2f1-8ff9-4d2a-a8c3-36400772a3f2",
   "metadata": {},
   "outputs": [],
   "source": [
    "def show_state(state,player):\n",
    "    print(\"Player\",player)\n",
    "    print(state)"
   ]
  },
  {
   "cell_type": "code",
   "execution_count": 7,
   "id": "0d1f4c9e-8b9f-4f16-9c28-f74b2671d2bb",
   "metadata": {},
   "outputs": [
    {
     "name": "stdout",
     "output_type": "stream",
     "text": [
      " ●  ○  ● \n",
      " ○  .  ○ \n",
      " ●  ○  ● \n",
      "\n"
     ]
    }
   ],
   "source": [
    "state=initial_state()\n",
    "show_state(state)"
   ]
  },
  {
   "cell_type": "code",
   "execution_count": 8,
   "id": "a657b88c-14fd-4b94-b17c-4c92f84ea98f",
   "metadata": {},
   "outputs": [
    {
     "data": {
      "text/plain": [
       "1"
      ]
     },
     "execution_count": 8,
     "metadata": {},
     "output_type": "execute_result"
    }
   ],
   "source": [
    "state[2]"
   ]
  },
  {
   "cell_type": "markdown",
   "id": "3305cd00-c61a-4ec0-9199-1fe2ced351a9",
   "metadata": {},
   "source": [
    "```\n",
    "0 | 1 | 2\n",
    "--+---+--\n",
    "3 | 4 | 5\n",
    "--+---+--\n",
    "6 | 7 | 8\n",
    "```"
   ]
  },
  {
   "cell_type": "code",
   "execution_count": 9,
   "id": "87c3fcab-32df-438e-96b7-b2c1c65a864f",
   "metadata": {},
   "outputs": [],
   "source": [
    "def adjacent(start,end):\n",
    "\n",
    "    if start==0 and end in [1,3,4]:\n",
    "        return True\n",
    "\n",
    "    if start==1 and end in [0,2,4]:\n",
    "        return True\n",
    "\n",
    "    if start==2 and end in [1,5,4]:\n",
    "        return True\n",
    "\n",
    "    if start==3 and end in [0,6,4]:\n",
    "        return True\n",
    "\n",
    "    if start==4 and end in [0,1,2,3,5,6,7,8]:\n",
    "        return True\n",
    "\n",
    "    if start==5 and end in [2,8,4]:\n",
    "        return True\n",
    "\n",
    "    if start==6 and end in [3,7,4]:\n",
    "        return True\n",
    "\n",
    "    if start==7 and end in [6,8,4]:\n",
    "        return True\n",
    "\n",
    "    if start==8 and end in [5,7,4]:\n",
    "        return True\n",
    "\n",
    "    return False"
   ]
  },
  {
   "cell_type": "code",
   "execution_count": 38,
   "id": "9a43abce-f137-4fc4-85cd-0b2dac5e2ab4",
   "metadata": {},
   "outputs": [],
   "source": [
    "def adjacent_squares(location):\n",
    "\n",
    "    if location==0:\n",
    "        return [1,3,4]\n",
    "\n",
    "    if location==1:\n",
    "        return [0,2,4]\n",
    "\n",
    "    if location==2:\n",
    "        return [1,5,4]\n",
    "\n",
    "    if location==3:\n",
    "        return [0,6,4]\n",
    "    \n",
    "    if location==4:\n",
    "        return [0,1,2,3,5,6,7,8]\n",
    "\n",
    "    if location==5:\n",
    "        return [2,8,4]\n",
    "\n",
    "\n",
    "    if location==6:\n",
    "        return [3,7,4]\n",
    "\n",
    "\n",
    "    if location==7:\n",
    "        return [6,8,4]\n",
    "\n",
    "\n",
    "    if location==8:\n",
    "        return [5,7,4]\n",
    "\n",
    "\n",
    "    raise ValueError(\"You can't get there from here\")"
   ]
  },
  {
   "cell_type": "code",
   "execution_count": 42,
   "id": "3b2d817f-32a4-4198-8dd0-9e0350953b9c",
   "metadata": {},
   "outputs": [
    {
     "data": {
      "text/plain": [
       "[1, 3, 4]"
      ]
     },
     "execution_count": 42,
     "metadata": {},
     "output_type": "execute_result"
    }
   ],
   "source": [
    "adjacent_squares(0)"
   ]
  },
  {
   "cell_type": "code",
   "execution_count": 43,
   "id": "18576c48-f074-47db-8a05-7762528b296b",
   "metadata": {},
   "outputs": [],
   "source": [
    "def valid_moves(state,player):\n",
    "\n",
    "    if player==1:\n",
    "        other_player=2\n",
    "    else:\n",
    "        other_player=1\n",
    "\n",
    "    moves=[]\n",
    "    for start in range(9):\n",
    "        if state[start]!=player:\n",
    "            continue\n",
    "\n",
    "        # this is a location with my piece\n",
    "\n",
    "        for end in range(9):\n",
    "\n",
    "            if state[end]==0 and end in adjacent_squares(start):\n",
    "\n",
    "                # check for opponent in adjacent squares of the end\n",
    "\n",
    "                if start!=4:\n",
    "                    found=False\n",
    "                    for check in adjacent_squares(end):\n",
    "                        if state[check]==other_player:\n",
    "                            found=True\n",
    "                            break\n",
    "                    if not found: # no opponent piece next to the end square\n",
    "                        continue\n",
    "                        \n",
    "                move=[start,end]\n",
    "                moves.append(move)\n",
    "\n",
    "        # todo: check if moving is next to opponent piece\n",
    "\n",
    "        \n",
    "\n",
    "    return moves"
   ]
  },
  {
   "cell_type": "code",
   "execution_count": 47,
   "id": "045e7e24-0882-4878-ae57-10e05ce520ca",
   "metadata": {},
   "outputs": [
    {
     "name": "stdout",
     "output_type": "stream",
     "text": [
      "Player 2\n",
      " ●  ○  ● \n",
      " ○  .  ○ \n",
      " ●  ○  ● \n",
      "\n"
     ]
    },
    {
     "data": {
      "text/plain": [
       "[[1, 4], [3, 4], [5, 4], [7, 4]]"
      ]
     },
     "execution_count": 47,
     "metadata": {},
     "output_type": "execute_result"
    }
   ],
   "source": [
    "state=initial_state()\n",
    "show_state(state,2)\n",
    "valid_moves(state,2)"
   ]
  },
  {
   "cell_type": "code",
   "execution_count": 54,
   "id": "58a9f576-224f-4c98-859e-bbce6f84592d",
   "metadata": {},
   "outputs": [
    {
     "name": "stdout",
     "output_type": "stream",
     "text": [
      "Player 2\n",
      " ●  ●  . \n",
      " .  ○  . \n",
      " ○  .  ○ \n",
      "\n"
     ]
    },
    {
     "data": {
      "text/plain": [
       "[[4, 2], [4, 3], [4, 5], [4, 7], [6, 3]]"
      ]
     },
     "execution_count": 54,
     "metadata": {},
     "output_type": "execute_result"
    }
   ],
   "source": [
    "state=Board(3,3)\n",
    "state.pieces=[\".\" , \"●\" , \"○\" ]\n",
    "state[0]=1\n",
    "state[1]=1\n",
    "state[2]=0\n",
    "state[6]=2\n",
    "state[4]=2\n",
    "state[8]=2\n",
    "show_state(state,2)\n",
    "valid_moves(state,2)"
   ]
  },
  {
   "cell_type": "code",
   "execution_count": 17,
   "id": "aef9f261-9318-41b7-8de9-ed661bcaa1dc",
   "metadata": {},
   "outputs": [
    {
     "name": "stdout",
     "output_type": "stream",
     "text": [
      " .  ○  ● \n",
      " ○  ○  ○ \n",
      " ●  ○  ● \n",
      "\n"
     ]
    },
    {
     "data": {
      "text/plain": [
       "[[1, 0], [3, 0], [4, 0]]"
      ]
     },
     "execution_count": 17,
     "metadata": {},
     "output_type": "execute_result"
    }
   ],
   "source": [
    "state=initial_state()\n",
    "state[0]=0\n",
    "state[4]=2\n",
    "show_state(state)\n",
    "valid_moves(state,2)"
   ]
  },
  {
   "cell_type": "code",
   "execution_count": 18,
   "id": "a840860e-fdc6-4acb-be15-7041e359667c",
   "metadata": {},
   "outputs": [
    {
     "data": {
      "text/plain": [
       "[]"
      ]
     },
     "execution_count": 18,
     "metadata": {},
     "output_type": "execute_result"
    }
   ],
   "source": [
    "valid_moves(state,1)"
   ]
  },
  {
   "cell_type": "code",
   "execution_count": 20,
   "id": "6bb35d63-bbc1-467a-a7f8-a733cb5c7505",
   "metadata": {},
   "outputs": [],
   "source": [
    "def update_state(state,player,move):\n",
    "    start,end=move\n",
    "\n",
    "    new_state=state\n",
    "    new_state[start]=0\n",
    "    new_state[end]=player\n",
    "\n",
    "    return new_state"
   ]
  },
  {
   "cell_type": "code",
   "execution_count": 21,
   "id": "e791a770-864b-476e-a87e-ac463f3b7b66",
   "metadata": {},
   "outputs": [
    {
     "name": "stdout",
     "output_type": "stream",
     "text": [
      " .  ○  ● \n",
      " ○  ○  ○ \n",
      " ●  ○  ● \n",
      "\n"
     ]
    },
    {
     "data": {
      "text/plain": [
       "[[1, 0], [3, 0], [4, 0]]"
      ]
     },
     "execution_count": 21,
     "metadata": {},
     "output_type": "execute_result"
    }
   ],
   "source": [
    "state=initial_state()\n",
    "state[0]=0\n",
    "state[4]=2\n",
    "show_state(state)\n",
    "valid_moves(state,2)"
   ]
  },
  {
   "cell_type": "code",
   "execution_count": 22,
   "id": "b3fc68bc-6996-4e79-9d24-7732089a81d5",
   "metadata": {},
   "outputs": [
    {
     "name": "stdout",
     "output_type": "stream",
     "text": [
      " ○  ○  ● \n",
      " .  ○  ○ \n",
      " ●  ○  ● \n",
      "\n"
     ]
    }
   ],
   "source": [
    "state=update_state(state,2,[3,0])\n",
    "show_state(state)"
   ]
  },
  {
   "cell_type": "code",
   "execution_count": 23,
   "id": "a1efae02-6b7e-42e1-b13d-74277f1bd93f",
   "metadata": {},
   "outputs": [],
   "source": [
    "def win_status(state,player):\n",
    "    # return None if the game is not over\n",
    "    # return 'win' if player has won\n",
    "    # return 'lose' if player has lost\n",
    "    # return 'stalemate' if player has stalemate\n",
    "\n",
    "    if player==1:\n",
    "        other_player=2\n",
    "    else:\n",
    "        other_player=1\n",
    "\n",
    "    if not valid_moves(state,other_player):\n",
    "        return 'win'"
   ]
  },
  {
   "cell_type": "markdown",
   "id": "8ae20772-b053-4981-b5a6-ace78c5eba1a",
   "metadata": {},
   "source": [
    "# Agents"
   ]
  },
  {
   "cell_type": "code",
   "execution_count": 24,
   "id": "e55c17d3-2a5e-44af-9929-fb49f03af828",
   "metadata": {},
   "outputs": [],
   "source": [
    "def human_move(state,player):\n",
    "    moves=valid_moves(state,player)\n",
    "    print(\"Valid moves are: \",moves)\n",
    "    move=None\n",
    "    while move not in moves:\n",
    "        move_input=input(\"Enter your move as start,end: \")\n",
    "        start,end=move_input.split(\",\")\n",
    "        move=[int(start),int(end)]\n",
    "\n",
    "    return move\n",
    "\n",
    "human_agent=Agent(human_move)    "
   ]
  },
  {
   "cell_type": "code",
   "execution_count": 29,
   "id": "1f81cd2c-a472-46df-b7e4-172e0618f07f",
   "metadata": {},
   "outputs": [],
   "source": [
    "def random_move(state,player):\n",
    "    return random.choice(valid_moves(state,player))\n",
    "random_agent=Agent(random_move)    "
   ]
  },
  {
   "cell_type": "code",
   "execution_count": 28,
   "id": "7408e520-c382-4190-98ae-bd2d9bd44d1f",
   "metadata": {},
   "outputs": [
    {
     "data": {
      "text/plain": [
       "[2, 4]"
      ]
     },
     "execution_count": 28,
     "metadata": {},
     "output_type": "execute_result"
    }
   ],
   "source": [
    "random_move(initial_state(),1)"
   ]
  },
  {
   "cell_type": "markdown",
   "id": "e6b8e029-03cc-451b-924a-96064d252997",
   "metadata": {},
   "source": [
    "## Running the Game"
   ]
  },
  {
   "cell_type": "code",
   "execution_count": 31,
   "id": "0ef9dbe1-47da-4880-8e3d-d07e2712a545",
   "metadata": {},
   "outputs": [
    {
     "name": "stdout",
     "output_type": "stream",
     "text": [
      "====\n",
      "Game  1\n",
      "Player 1\n",
      " ●  ○  ● \n",
      " ○  .  ○ \n",
      " ●  ○  ● \n",
      "\n",
      "Valid moves are:  [[0, 4], [2, 4], [6, 4], [8, 4]]\n"
     ]
    },
    {
     "name": "stdin",
     "output_type": "stream",
     "text": [
      "Enter your move as start,end:  0,4\n"
     ]
    },
    {
     "name": "stdout",
     "output_type": "stream",
     "text": [
      "Player 1 moves [0, 4]\n",
      "Player 2\n",
      " .  ○  ● \n",
      " ○  ●  ○ \n",
      " ●  ○  ● \n",
      "\n",
      "Player 2 moves [1, 0]\n",
      "Player 1\n",
      " ○  .  ● \n",
      " ○  ●  ○ \n",
      " ●  ○  ● \n",
      "\n",
      "Valid moves are:  [[2, 1], [4, 1]]\n"
     ]
    },
    {
     "name": "stdin",
     "output_type": "stream",
     "text": [
      "Enter your move as start,end:  2,1\n"
     ]
    },
    {
     "name": "stdout",
     "output_type": "stream",
     "text": [
      "Player 1 moves [2, 1]\n",
      "Player 2\n",
      " ○  ●  . \n",
      " ○  ●  ○ \n",
      " ●  ○  ● \n",
      "\n",
      "Player 2 moves [5, 2]\n",
      "Player 1\n",
      " ○  ●  ○ \n",
      " ○  ●  . \n",
      " ●  ○  ● \n",
      "\n",
      "Valid moves are:  [[4, 5], [8, 5]]\n"
     ]
    },
    {
     "name": "stdin",
     "output_type": "stream",
     "text": [
      "Enter your move as start,end:  \n"
     ]
    },
    {
     "ename": "ValueError",
     "evalue": "not enough values to unpack (expected 2, got 1)",
     "output_type": "error",
     "traceback": [
      "\u001b[31m---------------------------------------------------------------------------\u001b[39m",
      "\u001b[31mValueError\u001b[39m                                Traceback (most recent call last)",
      "\u001b[36mCell\u001b[39m\u001b[36m \u001b[39m\u001b[32mIn[31]\u001b[39m\u001b[32m, line 2\u001b[39m\n\u001b[32m      1\u001b[39m g=Game()\n\u001b[32m----> \u001b[39m\u001b[32m2\u001b[39m \u001b[43mg\u001b[49m\u001b[43m.\u001b[49m\u001b[43mrun\u001b[49m\u001b[43m(\u001b[49m\u001b[43mhuman_agent\u001b[49m\u001b[43m,\u001b[49m\u001b[43mrandom_agent\u001b[49m\u001b[43m)\u001b[49m\n",
      "\u001b[36mFile \u001b[39m\u001b[32m~/venvs/work/lib/python3.12/site-packages/Game/game.py:331\u001b[39m, in \u001b[36mGame.run\u001b[39m\u001b[34m(self, agent1, agent2)\u001b[39m\n\u001b[32m    329\u001b[39m     move=agents[player].move(observation,player,agents[player])\n\u001b[32m    330\u001b[39m \u001b[38;5;28;01melse\u001b[39;00m:\n\u001b[32m--> \u001b[39m\u001b[32m331\u001b[39m     move=\u001b[43magents\u001b[49m\u001b[43m[\u001b[49m\u001b[43mplayer\u001b[49m\u001b[43m]\u001b[49m\u001b[43m.\u001b[49m\u001b[43mmove\u001b[49m\u001b[43m(\u001b[49m\u001b[43mobservation\u001b[49m\u001b[43m,\u001b[49m\u001b[43mplayer\u001b[49m\u001b[43m)\u001b[49m\n\u001b[32m    333\u001b[39m \u001b[38;5;28;01mif\u001b[39;00m move ==\u001b[33m'\u001b[39m\u001b[33m'\u001b[39m:\n\u001b[32m    334\u001b[39m     \u001b[38;5;28;01mraise\u001b[39;00m \u001b[38;5;167;01mValueError\u001b[39;00m(\u001b[33m\"\u001b[39m\u001b[33mEmpty move quits. \u001b[39m\u001b[33m\"\u001b[39m)\n",
      "\u001b[36mCell\u001b[39m\u001b[36m \u001b[39m\u001b[32mIn[24]\u001b[39m\u001b[32m, line 7\u001b[39m, in \u001b[36mhuman_move\u001b[39m\u001b[34m(state, player)\u001b[39m\n\u001b[32m      5\u001b[39m \u001b[38;5;28;01mwhile\u001b[39;00m move \u001b[38;5;129;01mnot\u001b[39;00m \u001b[38;5;129;01min\u001b[39;00m moves:\n\u001b[32m      6\u001b[39m     move_input=\u001b[38;5;28minput\u001b[39m(\u001b[33m\"\u001b[39m\u001b[33mEnter your move as start,end: \u001b[39m\u001b[33m\"\u001b[39m)\n\u001b[32m----> \u001b[39m\u001b[32m7\u001b[39m     start,end=move_input.split(\u001b[33m\"\u001b[39m\u001b[33m,\u001b[39m\u001b[33m\"\u001b[39m)\n\u001b[32m      8\u001b[39m     move=[\u001b[38;5;28mint\u001b[39m(start),\u001b[38;5;28mint\u001b[39m(end)]\n\u001b[32m     10\u001b[39m \u001b[38;5;28;01mreturn\u001b[39;00m move\n",
      "\u001b[31mValueError\u001b[39m: not enough values to unpack (expected 2, got 1)"
     ]
    }
   ],
   "source": [
    "g=Game()\n",
    "g.run(human_agent,random_agent)"
   ]
  },
  {
   "cell_type": "code",
   "execution_count": 32,
   "id": "3a769081-920c-47b0-bf8e-b54ff825f757",
   "metadata": {},
   "outputs": [
    {
     "name": "stdout",
     "output_type": "stream",
     "text": [
      "====\n",
      "Game  1\n",
      "Player 1\n",
      " ●  ○  ● \n",
      " ○  .  ○ \n",
      " ●  ○  ● \n",
      "\n",
      "Player 1 moves [0, 4]\n",
      "Player 2\n",
      " .  ○  ● \n",
      " ○  ●  ○ \n",
      " ●  ○  ● \n",
      "\n",
      "Player 2 moves [1, 0]\n",
      "Player 1\n",
      " ○  .  ● \n",
      " ○  ●  ○ \n",
      " ●  ○  ● \n",
      "\n",
      "Player 1 moves [4, 1]\n",
      "Player 2\n",
      " ○  ●  ● \n",
      " ○  .  ○ \n",
      " ●  ○  ● \n",
      "\n",
      "Player 2 moves [3, 4]\n",
      "Player 1\n",
      " ○  ●  ● \n",
      " .  ○  ○ \n",
      " ●  ○  ● \n",
      "\n",
      "Player 1 moves [6, 3]\n",
      "Player 2\n",
      " ○  ●  ● \n",
      " ●  ○  ○ \n",
      " .  ○  ● \n",
      "\n",
      "Player 2 moves [7, 6]\n",
      "Player 1\n",
      " ○  ●  ● \n",
      " ●  ○  ○ \n",
      " ○  .  ● \n",
      "\n",
      "Player 1 moves [8, 7]\n",
      "Player 2\n",
      " ○  ●  ● \n",
      " ●  ○  ○ \n",
      " ○  ●  . \n",
      "\n",
      "Player 2 moves [5, 8]\n",
      "Player 1\n",
      " ○  ●  ● \n",
      " ●  ○  . \n",
      " ○  ●  ○ \n",
      "\n",
      "Player 1 moves [2, 5]\n",
      "Player 2\n",
      " ○  ●  . \n",
      " ●  ○  ● \n",
      " ○  ●  ○ \n",
      "\n",
      "Player 2 moves [4, 2]\n",
      "Player 1\n",
      " ○  ●  ○ \n",
      " ●  .  ● \n",
      " ○  ●  ○ \n",
      "\n",
      "Player 1 moves [3, 4]\n",
      "Player 2\n",
      " ○  ●  ○ \n",
      " .  ●  ● \n",
      " ○  ●  ○ \n",
      "\n",
      "Player 2 moves [6, 3]\n",
      "Player 1\n",
      " ○  ●  ○ \n",
      " ○  ●  ● \n",
      " .  ●  ○ \n",
      "\n",
      "Player 1 moves [7, 6]\n",
      "Player 2\n",
      " ○  ●  ○ \n",
      " ○  ●  ● \n",
      " ●  .  ○ \n",
      "\n",
      "Player 2 moves [8, 7]\n",
      "Player 1\n",
      " ○  ●  ○ \n",
      " ○  ●  ● \n",
      " ●  ○  . \n",
      "\n",
      "Player 1 moves [4, 8]\n",
      "Player 2\n",
      " ○  ●  ○ \n",
      " ○  .  ● \n",
      " ●  ○  ● \n",
      "\n",
      "Player 2 moves [2, 4]\n",
      "Player 1\n",
      " ○  ●  . \n",
      " ○  ○  ● \n",
      " ●  ○  ● \n",
      "\n",
      "Player 1 moves [5, 2]\n",
      "Player 2\n",
      " ○  ●  ● \n",
      " ○  ○  . \n",
      " ●  ○  ● \n",
      "\n",
      "Player 2 moves [4, 5]\n",
      "Player 1\n",
      " ○  ●  ● \n",
      " ○  .  ○ \n",
      " ●  ○  ● \n",
      "\n",
      "Player 1 moves [8, 4]\n",
      "Player 2\n",
      " ○  ●  ● \n",
      " ○  ●  ○ \n",
      " ●  ○  . \n",
      "\n",
      "Player 2 moves [7, 8]\n",
      "Player 1\n",
      " ○  ●  ● \n",
      " ○  ●  ○ \n",
      " ●  .  ○ \n",
      "\n",
      "Player 1 moves [6, 7]\n",
      "Player 2\n",
      " ○  ●  ● \n",
      " ○  ●  ○ \n",
      " .  ●  ○ \n",
      "\n",
      "Player 2 moves [3, 6]\n",
      "Player 1\n",
      " ○  ●  ● \n",
      " .  ●  ○ \n",
      " ○  ●  ○ \n",
      "\n",
      "Player 1 moves [4, 3]\n",
      "Player 2\n",
      " ○  ●  ● \n",
      " ●  .  ○ \n",
      " ○  ●  ○ \n",
      "\n",
      "Player 2 moves [6, 4]\n",
      "Player 1\n",
      " ○  ●  ● \n",
      " ●  ○  ○ \n",
      " .  ●  ○ \n",
      "\n",
      "Player 1 moves [3, 6]\n",
      "Player 2\n",
      " ○  ●  ● \n",
      " .  ○  ○ \n",
      " ●  ●  ○ \n",
      "\n",
      "Player 2 moves [0, 3]\n",
      "Player 1\n",
      " .  ●  ● \n",
      " ○  ○  ○ \n",
      " ●  ●  ○ \n",
      "\n",
      "Player 1 moves [1, 0]\n",
      "Player 2\n",
      " ●  .  ● \n",
      " ○  ○  ○ \n",
      " ●  ●  ○ \n",
      "\n",
      "Player 2 moves [4, 1]\n",
      "Player 1\n",
      " ●  ○  ● \n",
      " ○  .  ○ \n",
      " ●  ●  ○ \n",
      "\n",
      "Player 1 moves [6, 4]\n",
      "Player 2\n",
      " ●  ○  ● \n",
      " ○  ●  ○ \n",
      " .  ●  ○ \n",
      "\n",
      "Player 2 moves [3, 6]\n",
      "Player 1\n",
      " ●  ○  ● \n",
      " .  ●  ○ \n",
      " ○  ●  ○ \n",
      "\n",
      "Player 1 moves [4, 3]\n",
      "Player 2\n",
      " ●  ○  ● \n",
      " ●  .  ○ \n",
      " ○  ●  ○ \n",
      "\n",
      "Player 2 moves [1, 4]\n",
      "Player 1\n",
      " ●  .  ● \n",
      " ●  ○  ○ \n",
      " ○  ●  ○ \n",
      "\n",
      "Player 1 moves [0, 1]\n",
      "Player 2\n",
      " .  ●  ● \n",
      " ●  ○  ○ \n",
      " ○  ●  ○ \n",
      "\n",
      "Player 2 moves [4, 0]\n",
      "Player 1\n",
      " ○  ●  ● \n",
      " ●  .  ○ \n",
      " ○  ●  ○ \n",
      "\n",
      "Player 1 moves [2, 4]\n",
      "Player 2\n",
      " ○  ●  . \n",
      " ●  ●  ○ \n",
      " ○  ●  ○ \n",
      "\n",
      "Player 2 moves [5, 2]\n",
      "Player 1\n",
      " ○  ●  ○ \n",
      " ●  ●  . \n",
      " ○  ●  ○ \n",
      "\n",
      "Player 1 moves [4, 5]\n",
      "Player 2\n",
      " ○  ●  ○ \n",
      " ●  .  ● \n",
      " ○  ●  ○ \n",
      "\n",
      "Player 2 moves [8, 4]\n",
      "Player 1\n",
      " ○  ●  ○ \n",
      " ●  ○  ● \n",
      " ○  ●  . \n",
      "\n",
      "Player 1 moves [5, 8]\n",
      "Player 2\n",
      " ○  ●  ○ \n",
      " ●  ○  . \n",
      " ○  ●  ● \n",
      "\n",
      "Player 2 moves [4, 5]\n",
      "Player 1\n",
      " ○  ●  ○ \n",
      " ●  .  ○ \n",
      " ○  ●  ● \n",
      "\n",
      "Player 1 moves [1, 4]\n",
      "Player 2\n",
      " ○  .  ○ \n",
      " ●  ●  ○ \n",
      " ○  ●  ● \n",
      "\n",
      "Player 2 moves [2, 1]\n",
      "Player 1\n",
      " ○  ○  . \n",
      " ●  ●  ○ \n",
      " ○  ●  ● \n",
      "\n",
      "Player 1 moves [4, 2]\n",
      "Player 2\n",
      " ○  ○  ● \n",
      " ●  .  ○ \n",
      " ○  ●  ● \n",
      "\n",
      "Player 2 moves [1, 4]\n",
      "Player 1\n",
      " ○  .  ● \n",
      " ●  ○  ○ \n",
      " ○  ●  ● \n",
      "\n",
      "Player 1 moves [2, 1]\n",
      "Player 2\n",
      " ○  ●  . \n",
      " ●  ○  ○ \n",
      " ○  ●  ● \n",
      "\n",
      "Player 2 moves [5, 2]\n",
      "Player 1\n",
      " ○  ●  ○ \n",
      " ●  ○  . \n",
      " ○  ●  ● \n",
      "\n",
      "Player 1 moves [8, 5]\n",
      "Player 2\n",
      " ○  ●  ○ \n",
      " ●  ○  ● \n",
      " ○  ●  . \n",
      "\n",
      "Player 2 moves [4, 8]\n",
      "Player 1\n",
      " ○  ●  ○ \n",
      " ●  .  ● \n",
      " ○  ●  ○ \n",
      "\n",
      "Player 1 moves [3, 4]\n",
      "Player 2\n",
      " ○  ●  ○ \n",
      " .  ●  ● \n",
      " ○  ●  ○ \n",
      "\n",
      "Player 2 moves [6, 3]\n",
      "Player 1\n",
      " ○  ●  ○ \n",
      " ○  ●  ● \n",
      " .  ●  ○ \n",
      "\n",
      "Player 1 moves [7, 6]\n",
      "Player 2\n",
      " ○  ●  ○ \n",
      " ○  ●  ● \n",
      " ●  .  ○ \n",
      "\n",
      "Player 2 moves [8, 7]\n",
      "Player 1\n",
      " ○  ●  ○ \n",
      " ○  ●  ● \n",
      " ●  ○  . \n",
      "\n",
      "Player 1 moves [5, 8]\n",
      "Player 2\n",
      " ○  ●  ○ \n",
      " ○  ●  . \n",
      " ●  ○  ● \n",
      "\n",
      "Player 2 moves [2, 5]\n",
      "Player 1\n",
      " ○  ●  . \n",
      " ○  ●  ○ \n",
      " ●  ○  ● \n",
      "\n",
      "Player 1 moves [4, 2]\n",
      "Player 2\n",
      " ○  ●  ● \n",
      " ○  .  ○ \n",
      " ●  ○  ● \n",
      "\n",
      "Player 2 moves [0, 4]\n",
      "Player 1\n",
      " .  ●  ● \n",
      " ○  ○  ○ \n",
      " ●  ○  ● \n",
      "\n",
      "Player 1 moves [1, 0]\n",
      "Player 2\n",
      " ●  .  ● \n",
      " ○  ○  ○ \n",
      " ●  ○  ● \n",
      "\n",
      "Player 2 moves [4, 1]\n",
      "Player 1\n",
      " ●  ○  ● \n",
      " ○  .  ○ \n",
      " ●  ○  ● \n",
      "\n",
      "Player 1 moves [6, 4]\n",
      "Player 2\n",
      " ●  ○  ● \n",
      " ○  ●  ○ \n",
      " .  ○  ● \n",
      "\n",
      "Player 2 moves [3, 6]\n",
      "Player 1\n",
      " ●  ○  ● \n",
      " .  ●  ○ \n",
      " ○  ○  ● \n",
      "\n",
      "Player 1 moves [4, 3]\n",
      "Player 2\n",
      " ●  ○  ● \n",
      " ●  .  ○ \n",
      " ○  ○  ● \n",
      "\n",
      "Player 2 moves [6, 4]\n",
      "Player 1\n",
      " ●  ○  ● \n",
      " ●  ○  ○ \n",
      " .  ○  ● \n",
      "\n",
      "Player 1 moves [3, 6]\n",
      "Player 2\n",
      " ●  ○  ● \n",
      " .  ○  ○ \n",
      " ●  ○  ● \n",
      "\n",
      "Player 2 moves [4, 3]\n",
      "Player 1\n",
      " ●  ○  ● \n",
      " ○  .  ○ \n",
      " ●  ○  ● \n",
      "\n",
      "Player 1 moves [8, 4]\n",
      "Player 2\n",
      " ●  ○  ● \n",
      " ○  ●  ○ \n",
      " ●  ○  . \n",
      "\n",
      "Player 2 moves [7, 8]\n",
      "Player 1\n",
      " ●  ○  ● \n",
      " ○  ●  ○ \n",
      " ●  .  ○ \n",
      "\n",
      "Player 1 moves [4, 7]\n",
      "Player 2\n",
      " ●  ○  ● \n",
      " ○  .  ○ \n",
      " ●  ●  ○ \n",
      "\n",
      "Player 2 moves [1, 4]\n",
      "Player 1\n",
      " ●  .  ● \n",
      " ○  ○  ○ \n",
      " ●  ●  ○ \n",
      "\n",
      "Player 1 moves [2, 1]\n",
      "Player 2\n",
      " ●  ●  . \n",
      " ○  ○  ○ \n",
      " ●  ●  ○ \n",
      "\n",
      "Player 2 moves [5, 2]\n",
      "Player 2\n",
      " ●  ●  ○ \n",
      " ○  ○  . \n",
      " ●  ●  ○ \n",
      "\n",
      "Player  2 won.\n"
     ]
    },
    {
     "data": {
      "text/plain": [
       "[2]"
      ]
     },
     "execution_count": 32,
     "metadata": {},
     "output_type": "execute_result"
    }
   ],
   "source": [
    "g.run(random_agent,random_agent)"
   ]
  },
  {
   "cell_type": "code",
   "execution_count": null,
   "id": "b6c6b931-ee52-49fa-a53f-f32e9ceb6799",
   "metadata": {},
   "outputs": [],
   "source": []
  }
 ],
 "metadata": {
  "kernelspec": {
   "display_name": "Python 3 (ipykernel)",
   "language": "python",
   "name": "python3"
  },
  "language_info": {
   "codemirror_mode": {
    "name": "ipython",
    "version": 3
   },
   "file_extension": ".py",
   "mimetype": "text/x-python",
   "name": "python",
   "nbconvert_exporter": "python",
   "pygments_lexer": "ipython3",
   "version": "3.12.6"
  }
 },
 "nbformat": 4,
 "nbformat_minor": 5
}
