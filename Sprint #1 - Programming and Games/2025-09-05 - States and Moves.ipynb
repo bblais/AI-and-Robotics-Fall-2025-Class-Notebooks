{
 "cells": [
  {
   "cell_type": "markdown",
   "id": "e760db2b-9e13-40fe-a8ae-154273183ac3",
   "metadata": {},
   "source": [
    "- Nim\n",
    "- Tic Tac Toe - TTT\n",
    "- Checkers"
   ]
  },
  {
   "cell_type": "markdown",
   "id": "afadea92-1b91-4240-9c77-2088366f808a",
   "metadata": {},
   "source": [
    "## State\n",
    "\n",
    "- Everything that specified the current situation of the game. (e.g., board configuration, current player, etc.)\n",
    "\n",
    "## Move\n",
    "\n",
    "- Way of specifying a player's action. (e.g., removing sticks, placing symbols, moving pieces, etc.)"
   ]
  },
  {
   "cell_type": "code",
   "execution_count": null,
   "id": "d56b0810-b5ad-472a-9891-b5bf8e1d0b6f",
   "metadata": {},
   "outputs": [],
   "source": []
  },
  {
   "cell_type": "code",
   "execution_count": null,
   "id": "ef05c649-1dec-4ba8-880e-c6f4df9ebfaa",
   "metadata": {},
   "outputs": [],
   "source": []
  },
  {
   "cell_type": "markdown",
   "id": "f4c5983a-33a8-47c7-a96f-6d676d2318d0",
   "metadata": {},
   "source": [
    "## Nim\n",
    "\n",
    "- Start with some number of sticks (e.g., 21).\n",
    "- Players take turns removing 1, 2, or 3 sticks.\n",
    "- The player who takes the last stick loses.\n",
    "\n",
    "Example:\n",
    "\n",
    "- Initial sticks: 21\n",
    "- Player 1 takes 3 sticks (remaining: 18)\n",
    "- Player 2 takes 2 sticks (remaining: 16)\n",
    "- Player 1 takes 1 stick (remaining: 15)\n",
    "- Player 2 takes 3 sticks (remaining: 12)\n",
    "- Player 1 takes 2 sticks (remaining: 10)\n",
    "- Player 2 takes 1 stick (remaining: 9)\n",
    "- Player 1 takes 3 sticks (remaining: 6)\n",
    "- Player 2 takes 2 sticks (remaining: 4)\n",
    "- Player 1 takes 1 stick (remaining: 3)\n",
    "- Player 2 takes 2 sticks (remaining: 1) --> Player 1 loses"
   ]
  },
  {
   "cell_type": "markdown",
   "id": "2b6ed723-973d-4d82-90fe-b124d8541b3a",
   "metadata": {},
   "source": [
    "- State = number of remaining sticks. (integer)\n",
    "- Move = number of sticks to remove (integer)\n",
    "- A single valid move in Nim is a number from 1, 2, or 3 (provided that the number of remaining sticks is greater than or equal to the number of sticks being removed.)"
   ]
  },
  {
   "cell_type": "code",
   "execution_count": null,
   "id": "12d8e223-c673-4e8d-87b2-4ffee5ebadb9",
   "metadata": {},
   "outputs": [],
   "source": []
  },
  {
   "cell_type": "markdown",
   "id": "5dfaa422-39dd-4175-a389-0cd3caf1adfe",
   "metadata": {},
   "source": [
    "### Tic Tac Toe (TTT)\n",
    "\n",
    "- Played on a 3x3 grid.\n",
    "- Players take turns placing their symbol (X or O) in an empty cell.\n",
    "- The first player to get 3 of their symbols in a row (horizontally, vertically, or diagonally) wins."
   ]
  },
  {
   "cell_type": "markdown",
   "id": "655ca76e-c636-4221-b9f7-2a71a9cba50d",
   "metadata": {},
   "source": [
    "- State = 3x3 grid (Board from Game library) with values 0, 1 or 2 (0 = empty, 1 = X, 2 = O)\n",
    "- move = location (integer)\n",
    "- single valid move in TTT is an integer from 0 to 8 (representing the locations of the 9 cells in the grid) - provided that the board[move]==0 (empty)"
   ]
  },
  {
   "cell_type": "code",
   "execution_count": null,
   "id": "1854b52b-7c03-4acb-b26d-72ac4b06db52",
   "metadata": {},
   "outputs": [],
   "source": []
  },
  {
   "cell_type": "markdown",
   "id": "ee250bd5-d4d8-4b00-95c0-cbee4b998e0b",
   "metadata": {},
   "source": [
    "## Checkers"
   ]
  },
  {
   "cell_type": "markdown",
   "id": "97a5b800-be26-4966-ad27-32cf47f8c82d",
   "metadata": {},
   "source": [
    "- State is an 8x8 grid (Board from Game library) with values 0, 1, 2, 3 or 4 (0 = empty, 1 = player 1's piece, 2 = player 2's piece, 3 = player 1's king, 4 = player 2's king)\n",
    "- Move is small length-2 list of [start location, end location] (both integers) (e.g. [12, 16] means move piece from location 12 to location 16)\n",
    "- Single valid move in Checkers is a length-2 list of integers [start, end] where:\n",
    "  - start and end are both integers from 0 to 63 (representing the locations of the 64 cells in the 8x8 grid)\n",
    "  - board[start] is either 1 or 3 if it's player 1's turn, or either 2 or 4 if it's player 2's turn (indicating that the piece being moved belongs to the current player)\n",
    "  - The move follows the rules of Checkers (e.g., moving diagonally, capturing opponent's pieces, etc.)\n",
    "  - board[end] == 0 (indicating that the destination cell is empty)"
   ]
  },
  {
   "cell_type": "markdown",
   "id": "a9b3c9a0-d23b-4f61-bc0b-21cdc3890cc3",
   "metadata": {},
   "source": [
    "## Game Library\n",
    "\n",
    "- initial_state: function that returns the initial state of the game.\n",
    "- valid_moves: function that takes a state and a player and returns a **list** of every single valid move for that state.\n",
    "- update_state: function that takes a state, a move, and a player and returns the new state after applying the move.\n",
    "- win_status: function that takes a state and player returns:\n",
    "  - None if the game is ongoing,\n",
    "  - 'win' if player has won,\n",
    "  - 'lose' if player has lost,\n",
    "  - 'stalemate' if the game is a draw.\n",
    "- show_state: function that takes a state and prints it in a human-readable format."
   ]
  },
  {
   "cell_type": "markdown",
   "id": "7a55fad3-8a47-4e2a-a3de-6956244e705d",
   "metadata": {},
   "source": [
    "### Nim"
   ]
  },
  {
   "cell_type": "markdown",
   "id": "8eeea3dd-cd98-49c8-93ae-667205567485",
   "metadata": {},
   "source": [
    "- initial_state: return 21 (or any other starting number of sticks).\n",
    "- valid_moves: return [1, 2, 3] \n",
    "- update_state: new_state=state-move ;  return new_state\n",
    "- win_status: check if the state is 0 (current player loses), otherwise None.\n",
    "  - None if the game is ongoing,\n",
    "  - 'win' if player has won,\n",
    "  - 'lose' if player has lost,\n",
    "  - 'stalemate' if the game is a draw.\n",
    "- show_state: print(state)"
   ]
  },
  {
   "cell_type": "markdown",
   "id": "3ddb9889-413d-46ed-a8f2-09653b3e445a",
   "metadata": {},
   "source": [
    "### Tic Tac Toe (TTT)"
   ]
  },
  {
   "cell_type": "markdown",
   "id": "3a4db2de-b79e-494c-80f7-81ff5d8590bd",
   "metadata": {},
   "source": [
    "- initial_state: state=Board(3,3) return state\n",
    "- valid_moves: moves=[];  loop through board, if board[locations]==0 then moves.append(location).  e.g. [1,4,5,6,8] \n",
    "- update_state: new_state=state;  new_state[move]=player ;  return new_state\n",
    "- win_status: run through all the winning combinations, if any is filled with player's symbol then 'win', if any is filled with opponent's symbol then 'lose', if no empty cells left then 'stalemate', else None.\n",
    "  - None if the game is ongoing,\n",
    "  - 'win' if player has won,\n",
    "  - 'lose' if player has lost,\n",
    "  - 'stalemate' if the game is a draw.\n",
    "- show_state: print(state)"
   ]
  },
  {
   "cell_type": "markdown",
   "id": "9b290352-c7d6-4a49-bcc8-914f1b8ab5ae",
   "metadata": {},
   "source": [
    "### Checkers"
   ]
  },
  {
   "cell_type": "markdown",
   "id": "b370c4fa-81b5-45fe-991e-1bac5e1f426f",
   "metadata": {},
   "source": [
    "- initial_state: state=Board(8,8); go through certain locations board[location]=1 or board[location]=2; return state\n",
    "- valid_moves: moves=[];  loop through board, if board[location]==player; check for various move directions for all end points,  then moves.append([start,end]).  e.g. [ [3,5], [3,7], [10,12], ] \n",
    "- update_state: new_state=state; start,end=move new_state[start]=0  new_state[end]=player ;  return new_state\n",
    "- win_status: if not(valid_moves(state,other_player)) return 'win',if one player has no pieces left or no valid moves, they lose; if both players have pieces and valid moves, None; if neither player can move, 'stalemate'.\n",
    "  - None if the game is ongoing,\n",
    "  - 'win' if player has won,\n",
    "  - 'lose' if player has lost,\n",
    "  - 'stalemate' if the game is a draw.\n",
    "- show_state: print(state)"
   ]
  },
  {
   "cell_type": "code",
   "execution_count": 1,
   "id": "356ff654-beba-4fb5-b022-b07965773a59",
   "metadata": {},
   "outputs": [
    {
     "data": {
      "text/plain": [
       "[[5, 3]]"
      ]
     },
     "execution_count": 1,
     "metadata": {},
     "output_type": "execute_result"
    }
   ],
   "source": [
    "start=5\n",
    "end=3\n",
    "\n",
    "move=[start,end]\n",
    "\n",
    "moves=[]\n",
    "moves.append(move)\n",
    "\n",
    "moves"
   ]
  },
  {
   "cell_type": "code",
   "execution_count": null,
   "id": "c2e62272-7565-428b-8baa-f3a1e29381af",
   "metadata": {},
   "outputs": [],
   "source": []
  }
 ],
 "metadata": {
  "kernelspec": {
   "display_name": "Python 3 (ipykernel)",
   "language": "python",
   "name": "python3"
  },
  "language_info": {
   "codemirror_mode": {
    "name": "ipython",
    "version": 3
   },
   "file_extension": ".py",
   "mimetype": "text/x-python",
   "name": "python",
   "nbconvert_exporter": "python",
   "pygments_lexer": "ipython3",
   "version": "3.12.6"
  }
 },
 "nbformat": 4,
 "nbformat_minor": 5
}
