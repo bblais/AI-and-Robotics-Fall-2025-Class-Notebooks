{
 "cells": [
  {
   "cell_type": "markdown",
   "id": "f2807521-333c-4508-8b4f-60f70fe30b6d",
   "metadata": {},
   "source": [
    "# Nim (21 Sticks Variant)\n",
    "\n",
    "## Setup\n",
    "- Start with **21 sticks** (or counters, stones, matches, etc.).  \n",
    "- Two players take turns.  \n",
    "\n",
    "---\n",
    "\n",
    "## Rules\n",
    "1. On your turn, you must take **1, 2, or 3 sticks** from the pile.  \n",
    "2. Players alternate turns.  \n",
    "3. **The player forced to take the last stick loses.**  \n",
    "\n",
    "---\n",
    "\n",
    "## Example Play\n",
    "- Start: 21 sticks.  \n",
    "- Player A takes 2 → 19 left.  \n",
    "- Player B takes 3 → 16 left.  \n",
    "- Player A takes 1 → 15 left.  \n",
    "- … and so on, until one player is forced to take the last stick and loses.  \n",
    "\n"
   ]
  },
  {
   "cell_type": "code",
   "execution_count": 1,
   "id": "bb7140b7-9d70-45f0-af44-9d47f6062d83",
   "metadata": {},
   "outputs": [
    {
     "name": "stdout",
     "output_type": "stream",
     "text": [
      "Version:  0.3.14\n"
     ]
    }
   ],
   "source": [
    "from Game import *"
   ]
  },
  {
   "cell_type": "markdown",
   "id": "46d5558f-45b4-4b03-8b1d-9495523907dd",
   "metadata": {},
   "source": [
    "- What is the state? (how are they represented?)\n",
    "    - state = number of sticks remaining (integer)\n",
    "- What is a move?\n",
    "    - (integer) number of sticks taken (1, 2, or 3)"
   ]
  },
  {
   "cell_type": "code",
   "execution_count": 2,
   "id": "9fe9cce8-4448-4d8f-9a6c-6789dddb0396",
   "metadata": {},
   "outputs": [],
   "source": [
    "def initial_state():\n",
    "    return 21"
   ]
  },
  {
   "cell_type": "code",
   "execution_count": 3,
   "id": "167b7076-be14-4298-bd54-907c085f643a",
   "metadata": {},
   "outputs": [
    {
     "data": {
      "text/plain": [
       "21"
      ]
     },
     "execution_count": 3,
     "metadata": {},
     "output_type": "execute_result"
    }
   ],
   "source": [
    "initial_state()"
   ]
  },
  {
   "cell_type": "code",
   "execution_count": 4,
   "id": "0ec4c183-9dba-4496-bcae-ab78f3ac73c9",
   "metadata": {},
   "outputs": [],
   "source": [
    "def show_state(state,player):\n",
    "    print(\"Player\",player)\n",
    "    print(f\"Sticks remaining: {state}\")"
   ]
  },
  {
   "cell_type": "code",
   "execution_count": 5,
   "id": "d23359e5-f0bd-47dd-b577-1d9acb54aefd",
   "metadata": {},
   "outputs": [
    {
     "name": "stdout",
     "output_type": "stream",
     "text": [
      "Player 1\n",
      "Sticks remaining: 21\n"
     ]
    }
   ],
   "source": [
    "state=initial_state()\n",
    "show_state(state,1)"
   ]
  },
  {
   "cell_type": "code",
   "execution_count": 6,
   "id": "26f0af29-b1d3-4142-821c-e2196259aed7",
   "metadata": {},
   "outputs": [],
   "source": [
    "def valid_moves(state,player):\n",
    "    # return a **list** of moves that are valid\n",
    "\n",
    "    if state==1:\n",
    "        return [1]\n",
    "    elif state==2:\n",
    "        return [1,2]\n",
    "    else:\n",
    "        return [1,2,3]\n",
    "    "
   ]
  },
  {
   "cell_type": "code",
   "execution_count": 7,
   "id": "6bc2e85b-2833-4548-87a5-6efce8e39d99",
   "metadata": {},
   "outputs": [
    {
     "data": {
      "text/plain": [
       "[1, 2, 3]"
      ]
     },
     "execution_count": 7,
     "metadata": {},
     "output_type": "execute_result"
    }
   ],
   "source": [
    "valid_moves(4,1)"
   ]
  },
  {
   "cell_type": "code",
   "execution_count": 8,
   "id": "cf23e21b-d0ac-4e02-88da-246477c903a5",
   "metadata": {},
   "outputs": [],
   "source": [
    "def update_state(state,player,move):\n",
    "    new_state = state - move\n",
    "    return new_state"
   ]
  },
  {
   "cell_type": "code",
   "execution_count": 9,
   "id": "84927401-ab04-41b1-823f-461f8463dc9b",
   "metadata": {},
   "outputs": [
    {
     "data": {
      "text/plain": [
       "7"
      ]
     },
     "execution_count": 9,
     "metadata": {},
     "output_type": "execute_result"
    }
   ],
   "source": [
    "update_state(10,1,3)"
   ]
  },
  {
   "cell_type": "code",
   "execution_count": 10,
   "id": "f554ef41-6888-4712-bc2a-9dccc07e2831",
   "metadata": {},
   "outputs": [],
   "source": [
    "def win_status(state,player):\n",
    "    # return None if the game is not over\n",
    "    # return 'win' if player has won\n",
    "    # return 'lose' if player has lost\n",
    "    # return 'stalemate' if player has stalemate\n",
    "\n",
    "    if player==1:\n",
    "        other_player=2\n",
    "    else:\n",
    "        other_player=1\n",
    "\n",
    "    if state==0:\n",
    "        return 'lose'\n",
    "    else:\n",
    "        return None"
   ]
  },
  {
   "cell_type": "code",
   "execution_count": 11,
   "id": "44da8f62-8808-49bd-beae-cbdc3cb903bd",
   "metadata": {},
   "outputs": [],
   "source": [
    "win_status(3,1)"
   ]
  },
  {
   "cell_type": "markdown",
   "id": "0ce7b473-7d66-45cb-9c64-47a164e058ea",
   "metadata": {},
   "source": [
    "## Agents"
   ]
  },
  {
   "cell_type": "code",
   "execution_count": 12,
   "id": "858f4f23-d5f3-49db-939f-c2a0fe6c831e",
   "metadata": {},
   "outputs": [],
   "source": [
    "def human_move(state,player):\n",
    "    move = int(input(\"Enter your move (1, 2, or 3): \"))\n",
    "    while move not in valid_moves(state,player):\n",
    "        print(\"Invalid move. Try again.\")\n",
    "        move = int(input(\"Enter your move (1, 2, or 3): \"))\n",
    "    return move\n",
    "\n",
    "human_agent=Agent(human_move)"
   ]
  },
  {
   "cell_type": "code",
   "execution_count": 13,
   "id": "9476bf4c-bd9e-4714-aa88-f61cc73f0b9c",
   "metadata": {},
   "outputs": [],
   "source": [
    "def random_move(state,player):\n",
    "    return random.choice(valid_moves(state,player))\n",
    "\n",
    "random_agent=Agent(random_move)"
   ]
  },
  {
   "cell_type": "code",
   "execution_count": 14,
   "id": "7a54bf65-5cd2-40f1-959d-8140a2224ec3",
   "metadata": {},
   "outputs": [],
   "source": [
    "from Game.minimax import *"
   ]
  },
  {
   "cell_type": "code",
   "execution_count": 18,
   "id": "3af9d763-89e8-4f5a-92b8-418c5cb45ff5",
   "metadata": {},
   "outputs": [
    {
     "data": {
      "text/plain": [
       "([1, -1, -1], [2, 3, 1])"
      ]
     },
     "execution_count": 18,
     "metadata": {},
     "output_type": "execute_result"
    }
   ],
   "source": [
    "state=7\n",
    "minimax_values(state,1,display=False)"
   ]
  },
  {
   "cell_type": "code",
   "execution_count": 21,
   "id": "85b59d60-c336-4b4d-9010-1a033ca249b3",
   "metadata": {},
   "outputs": [],
   "source": [
    "def minimax_move(state,player):\n",
    "    values,actions = minimax_values(state,player,display=False)\n",
    "    return top_choice(actions,values)\n",
    "minimax_agent=Agent(minimax_move)"
   ]
  },
  {
   "cell_type": "code",
   "execution_count": null,
   "id": "a8315c94-48e4-4959-9be6-e1fe45d627d6",
   "metadata": {},
   "outputs": [],
   "source": []
  },
  {
   "cell_type": "code",
   "execution_count": null,
   "id": "3de4876e-661b-40d6-8a7d-68733ac621a3",
   "metadata": {},
   "outputs": [],
   "source": []
  },
  {
   "cell_type": "markdown",
   "id": "db0640a0-d241-41f3-9b0c-2536eb24979c",
   "metadata": {},
   "source": [
    "## Running the Game"
   ]
  },
  {
   "cell_type": "code",
   "execution_count": 22,
   "id": "a33568a2-0e8b-4090-b1fb-7d0036f10d9d",
   "metadata": {},
   "outputs": [
    {
     "name": "stdout",
     "output_type": "stream",
     "text": [
      "====\n",
      "Game  1\n",
      "Player 1\n",
      "Sticks remaining: 21\n",
      "Player 1 moves 1\n",
      "Player 2\n",
      "Sticks remaining: 20\n",
      "Player 2 moves 3\n",
      "Player 1\n",
      "Sticks remaining: 17\n",
      "Player 1 moves 2\n",
      "Player 2\n",
      "Sticks remaining: 15\n",
      "Player 2 moves 2\n",
      "Player 1\n",
      "Sticks remaining: 13\n",
      "Player 1 moves 1\n",
      "Player 2\n",
      "Sticks remaining: 12\n",
      "Player 2 moves 2\n",
      "Player 1\n",
      "Sticks remaining: 10\n",
      "Player 1 moves 1\n",
      "Player 2\n",
      "Sticks remaining: 9\n",
      "Player 2 moves 2\n",
      "Player 1\n",
      "Sticks remaining: 7\n",
      "Player 1 moves 2\n",
      "Player 2\n",
      "Sticks remaining: 5\n",
      "Player 2 moves 3\n",
      "Player 1\n",
      "Sticks remaining: 2\n",
      "Player 1 moves 1\n",
      "Player 2\n",
      "Sticks remaining: 1\n",
      "Player 2 moves 1\n",
      "Player 2\n",
      "Sticks remaining: 0\n",
      "Player  1 won.\n"
     ]
    },
    {
     "data": {
      "text/plain": [
       "[1]"
      ]
     },
     "execution_count": 22,
     "metadata": {},
     "output_type": "execute_result"
    }
   ],
   "source": [
    "g=Game()\n",
    "g.run(minimax_agent,random_agent)"
   ]
  },
  {
   "cell_type": "code",
   "execution_count": null,
   "id": "0ff692cb-da16-46f1-88df-89ad720cac4a",
   "metadata": {},
   "outputs": [],
   "source": []
  }
 ],
 "metadata": {
  "kernelspec": {
   "display_name": "Python 3 (ipykernel)",
   "language": "python",
   "name": "python3"
  },
  "language_info": {
   "codemirror_mode": {
    "name": "ipython",
    "version": 3
   },
   "file_extension": ".py",
   "mimetype": "text/x-python",
   "name": "python",
   "nbconvert_exporter": "python",
   "pygments_lexer": "ipython3",
   "version": "3.12.6"
  }
 },
 "nbformat": 4,
 "nbformat_minor": 5
}
