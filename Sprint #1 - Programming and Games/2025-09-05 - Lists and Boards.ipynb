{
 "cells": [
  {
   "cell_type": "code",
   "execution_count": 5,
   "id": "80ed3f4c-eeb2-4552-8e1c-35be5e5bf620",
   "metadata": {},
   "outputs": [],
   "source": [
    "a=5  # integer\n",
    "b=5.4 # floating point\n",
    "c=\"Hello\" # string"
   ]
  },
  {
   "cell_type": "markdown",
   "id": "7a86b816-6497-482f-b76b-b5e63bddd29f",
   "metadata": {},
   "source": [
    "## Lists"
   ]
  },
  {
   "cell_type": "markdown",
   "id": "cd3b570c-e343-4765-8cc7-d3548195d4a8",
   "metadata": {},
   "source": [
    "- List is a collection which is ordered and changeable. Allows duplicate members."
   ]
  },
  {
   "cell_type": "code",
   "execution_count": 6,
   "id": "b3d14548-a5b2-4ac7-bfb3-9469cea977ff",
   "metadata": {},
   "outputs": [],
   "source": [
    "L=[1, 2.2, \"Hello\", 5, \"World\"]"
   ]
  },
  {
   "cell_type": "code",
   "execution_count": 7,
   "id": "250df228-a3f2-4e31-962b-ad74acec9968",
   "metadata": {},
   "outputs": [
    {
     "data": {
      "text/plain": [
       "[1, 2.2, 'Hello', 5, 'World']"
      ]
     },
     "execution_count": 7,
     "metadata": {},
     "output_type": "execute_result"
    }
   ],
   "source": [
    "L"
   ]
  },
  {
   "cell_type": "code",
   "execution_count": 8,
   "id": "8f595e32-fb96-4cd4-93c8-6f956bbb573b",
   "metadata": {},
   "outputs": [
    {
     "data": {
      "text/plain": [
       "1"
      ]
     },
     "execution_count": 8,
     "metadata": {},
     "output_type": "execute_result"
    }
   ],
   "source": [
    "L[0] # first element"
   ]
  },
  {
   "cell_type": "code",
   "execution_count": 9,
   "id": "36af9d26-9a7e-4820-bf2b-69ffe4cdee59",
   "metadata": {},
   "outputs": [
    {
     "data": {
      "text/plain": [
       "5"
      ]
     },
     "execution_count": 9,
     "metadata": {},
     "output_type": "execute_result"
    }
   ],
   "source": [
    "L[3] # fourth element"
   ]
  },
  {
   "cell_type": "code",
   "execution_count": 10,
   "id": "9e21c687-b4aa-413e-bc34-2dc62ab15b36",
   "metadata": {},
   "outputs": [
    {
     "data": {
      "text/plain": [
       "5"
      ]
     },
     "execution_count": 10,
     "metadata": {},
     "output_type": "execute_result"
    }
   ],
   "source": [
    "len(L)"
   ]
  },
  {
   "cell_type": "code",
   "execution_count": 11,
   "id": "b3015951-733f-41c1-aa11-5f10e7d8b63b",
   "metadata": {},
   "outputs": [],
   "source": [
    "L[1]='something here' # change second element"
   ]
  },
  {
   "cell_type": "code",
   "execution_count": 12,
   "id": "e6d23725-19f0-4bc7-83d2-8992c1072410",
   "metadata": {},
   "outputs": [
    {
     "data": {
      "text/plain": [
       "[1, 'something here', 'Hello', 5, 'World']"
      ]
     },
     "execution_count": 12,
     "metadata": {},
     "output_type": "execute_result"
    }
   ],
   "source": [
    "L"
   ]
  },
  {
   "cell_type": "code",
   "execution_count": 13,
   "id": "9562e92d-1853-4db7-a85c-4ec3f10b3bca",
   "metadata": {},
   "outputs": [],
   "source": [
    "L.append(\"another thing\")\n"
   ]
  },
  {
   "cell_type": "code",
   "execution_count": 14,
   "id": "0b1e4fb0-eef5-415b-b990-ccbafaa8a9ca",
   "metadata": {},
   "outputs": [
    {
     "data": {
      "text/plain": [
       "[1, 'something here', 'Hello', 5, 'World', 'another thing']"
      ]
     },
     "execution_count": 14,
     "metadata": {},
     "output_type": "execute_result"
    }
   ],
   "source": [
    "L"
   ]
  },
  {
   "cell_type": "code",
   "execution_count": 15,
   "id": "e39b6ec2-1fe3-4e72-b565-00f37d0830f3",
   "metadata": {},
   "outputs": [],
   "source": [
    "L.append(100)"
   ]
  },
  {
   "cell_type": "code",
   "execution_count": 16,
   "id": "854c1bb7-4c6c-49ee-8979-e51bf4799035",
   "metadata": {},
   "outputs": [
    {
     "data": {
      "text/plain": [
       "[1, 'something here', 'Hello', 5, 'World', 'another thing', 100]"
      ]
     },
     "execution_count": 16,
     "metadata": {},
     "output_type": "execute_result"
    }
   ],
   "source": [
    "L"
   ]
  },
  {
   "cell_type": "code",
   "execution_count": 18,
   "id": "8adc78aa-efbf-4e40-90a7-8cdd1c24aede",
   "metadata": {},
   "outputs": [
    {
     "name": "stdout",
     "output_type": "stream",
     "text": [
      "Item 1\n",
      "Item something here\n",
      "Item Hello\n",
      "Item 5\n",
      "Item World\n",
      "Item another thing\n",
      "Item 100\n"
     ]
    }
   ],
   "source": [
    "for item in L:\n",
    "    print(\"Item\",item)"
   ]
  },
  {
   "cell_type": "code",
   "execution_count": 19,
   "id": "8c2cfb84-eddf-4d89-b0b3-068dd8ade660",
   "metadata": {},
   "outputs": [
    {
     "name": "stdout",
     "output_type": "stream",
     "text": [
      "Item 0 1\n",
      "Item 1 something here\n",
      "Item 2 Hello\n",
      "Item 3 5\n",
      "Item 4 World\n",
      "Item 5 another thing\n",
      "Item 6 100\n"
     ]
    }
   ],
   "source": [
    "for i in range(len(L)):\n",
    "    print(\"Item\",i,L[i])"
   ]
  },
  {
   "cell_type": "markdown",
   "id": "8732989e-ccfb-4a25-b1db-f55630ecf146",
   "metadata": {},
   "source": [
    "## Boards"
   ]
  },
  {
   "cell_type": "code",
   "execution_count": 2,
   "id": "103e921a-4bef-430e-8bb5-a871147b727d",
   "metadata": {},
   "outputs": [
    {
     "name": "stdout",
     "output_type": "stream",
     "text": [
      "Version:  0.3.14\n"
     ]
    }
   ],
   "source": [
    "from Game import *"
   ]
  },
  {
   "cell_type": "code",
   "execution_count": 3,
   "id": "0f899544-7624-4eef-90ed-173285a2c357",
   "metadata": {},
   "outputs": [
    {
     "data": {
      "text/plain": [
       " 0  0  0 \n",
       " 0  0  0 \n",
       " 0  0  0 "
      ]
     },
     "execution_count": 3,
     "metadata": {},
     "output_type": "execute_result"
    }
   ],
   "source": [
    "Board(3,3)"
   ]
  },
  {
   "cell_type": "code",
   "execution_count": 4,
   "id": "8f291e16-4031-4974-9d3d-45ce47313919",
   "metadata": {},
   "outputs": [],
   "source": [
    "board=Board(3,3)"
   ]
  },
  {
   "cell_type": "code",
   "execution_count": 5,
   "id": "756013f9-e70b-4f42-b887-181aaa975dd7",
   "metadata": {},
   "outputs": [
    {
     "name": "stdout",
     "output_type": "stream",
     "text": [
      " 0  1  2 \n",
      " 3  4  5 \n",
      " 6  7  8 \n",
      "\n"
     ]
    }
   ],
   "source": [
    "board.show_locations()"
   ]
  },
  {
   "cell_type": "code",
   "execution_count": 6,
   "id": "cc98a3b0-468d-42fc-94b4-4e3480da6d32",
   "metadata": {},
   "outputs": [],
   "source": [
    "board[3]=2"
   ]
  },
  {
   "cell_type": "code",
   "execution_count": 7,
   "id": "1195c312-3a8d-44d2-8bf5-32ca202dc25b",
   "metadata": {},
   "outputs": [],
   "source": [
    "board[5]=1"
   ]
  },
  {
   "cell_type": "code",
   "execution_count": 8,
   "id": "4ab2919e-c019-4293-8e5f-4293d3cba95c",
   "metadata": {},
   "outputs": [
    {
     "data": {
      "text/plain": [
       " 0  0  0 \n",
       " 2  0  1 \n",
       " 0  0  0 "
      ]
     },
     "execution_count": 8,
     "metadata": {},
     "output_type": "execute_result"
    }
   ],
   "source": [
    "board"
   ]
  },
  {
   "cell_type": "code",
   "execution_count": 11,
   "id": "f51b89be-594c-4c59-9fd3-85ad5e53eaff",
   "metadata": {},
   "outputs": [
    {
     "name": "stdout",
     "output_type": "stream",
     "text": [
      "Location already taken\n"
     ]
    }
   ],
   "source": [
    "location=5\n",
    "if board[location]==0:\n",
    "    print(\"Empty\")\n",
    "else:\n",
    "    print(\"Location already taken\")"
   ]
  },
  {
   "cell_type": "code",
   "execution_count": 13,
   "id": "ebcac7d8-23ca-4b56-ab35-d7238bac77c4",
   "metadata": {},
   "outputs": [
    {
     "name": "stdout",
     "output_type": "stream",
     "text": [
      "Location 0 is empty\n",
      "Location 1 is empty\n",
      "Location 2 is empty\n",
      "Location 3 is taken by player 2\n",
      "Location 4 is empty\n",
      "Location 5 is taken by player 1\n",
      "Location 6 is empty\n",
      "Location 7 is empty\n",
      "Location 8 is empty\n"
     ]
    }
   ],
   "source": [
    "for location in range(9):\n",
    "    if board[location]==0:\n",
    "        print(\"Location\",location,\"is empty\")\n",
    "    else:\n",
    "        print(\"Location\",location,\"is taken by player\",board[location])"
   ]
  },
  {
   "cell_type": "code",
   "execution_count": 14,
   "id": "4ac7c3cf-6c4a-4961-ba96-175880fdc62b",
   "metadata": {},
   "outputs": [],
   "source": [
    "# make a list of all of the empty locations\n",
    "empty_locations=[]\n",
    "for location in range(9):\n",
    "    if board[location]==0:\n",
    "        empty_locations.append(location)\n",
    "    else:\n",
    "        pass\n",
    "    "
   ]
  },
  {
   "cell_type": "code",
   "execution_count": 15,
   "id": "17d08be1-5b77-4567-9fb4-cd0cf714b0dc",
   "metadata": {},
   "outputs": [
    {
     "data": {
      "text/plain": [
       "[0, 1, 2, 4, 6, 7, 8]"
      ]
     },
     "execution_count": 15,
     "metadata": {},
     "output_type": "execute_result"
    }
   ],
   "source": [
    "empty_locations"
   ]
  },
  {
   "cell_type": "code",
   "execution_count": 16,
   "id": "9d3a6e87-cc28-48ab-a3d1-85940c85c3d2",
   "metadata": {},
   "outputs": [],
   "source": [
    "board[0]=1"
   ]
  },
  {
   "cell_type": "code",
   "execution_count": 17,
   "id": "8b13bd0e-e597-41b5-a810-da54a76f3f7f",
   "metadata": {},
   "outputs": [],
   "source": [
    "# make a list of all of the empty locations\n",
    "empty_locations=[]\n",
    "for location in range(9):\n",
    "    if board[location]==0:\n",
    "        empty_locations.append(location)\n",
    "    else:\n",
    "        pass\n",
    "    "
   ]
  },
  {
   "cell_type": "code",
   "execution_count": 18,
   "id": "53243395-da4e-412b-8f5f-1e1fdbf04202",
   "metadata": {},
   "outputs": [
    {
     "data": {
      "text/plain": [
       "[1, 2, 4, 6, 7, 8]"
      ]
     },
     "execution_count": 18,
     "metadata": {},
     "output_type": "execute_result"
    }
   ],
   "source": [
    "empty_locations"
   ]
  },
  {
   "cell_type": "code",
   "execution_count": 19,
   "id": "6eebc2ab-f0b4-4933-abf5-b95f06b294c6",
   "metadata": {},
   "outputs": [
    {
     "data": {
      "text/plain": [
       " 0  0  0  0  0 \n",
       " 0  0  0  0  0 \n",
       " 0  0  0  0  0 \n",
       " 0  0  0  0  0 \n",
       " 0  0  0  0  0 "
      ]
     },
     "execution_count": 19,
     "metadata": {},
     "output_type": "execute_result"
    }
   ],
   "source": [
    "board=Board(5,5)\n",
    "board"
   ]
  },
  {
   "cell_type": "code",
   "execution_count": 20,
   "id": "e5334c3a-6512-4049-a4f5-ae077b7b885a",
   "metadata": {},
   "outputs": [
    {
     "name": "stdout",
     "output_type": "stream",
     "text": [
      " 0  1  2  3  4 \n",
      " 5  6  7  8  9 \n",
      "10 11 12 13 14 \n",
      "15 16 17 18 19 \n",
      "20 21 22 23 24 \n",
      "\n"
     ]
    }
   ],
   "source": [
    "board.show_locations()"
   ]
  },
  {
   "cell_type": "code",
   "execution_count": 23,
   "id": "68645378-f6f9-4feb-9c70-83771b75885b",
   "metadata": {},
   "outputs": [
    {
     "name": "stdout",
     "output_type": "stream",
     "text": [
      " 0  1  0  1  0 \n",
      " 1  0  1  0  1 \n",
      " 0  0  0  0  0 \n",
      " 0  0  0  0  0 \n",
      " 0  0  0  0  0 \n",
      "\n"
     ]
    }
   ],
   "source": [
    "board=Board(5,5)\n",
    "#board.pieces=['.','X','O']  # optional\n",
    "board[1]=1\n",
    "board[3]=1\n",
    "board[5]=1\n",
    "board[7]=1\n",
    "board[9]=1\n",
    "print(board)"
   ]
  },
  {
   "cell_type": "code",
   "execution_count": 25,
   "id": "5ca982a3-6b97-4f3f-a9e3-09a99c5a3d88",
   "metadata": {},
   "outputs": [
    {
     "name": "stdout",
     "output_type": "stream",
     "text": [
      " 0  1  0  1  0 \n",
      " 1  0  1  0  1 \n",
      " 0  0  0  0  0 \n",
      " 2  0  2  0  2 \n",
      " 0  2  0  2  0 \n",
      "\n"
     ]
    }
   ],
   "source": [
    "board=Board(5,5)\n",
    "#board.pieces=['.','X','O']  # optional\n",
    "\n",
    "for location in [1,3,5,7,9]:\n",
    "    board[location]=1\n",
    "\n",
    "for location in [15,17,19,21,23]:\n",
    "    board[location]=2\n",
    "\n",
    "print(board)"
   ]
  },
  {
   "cell_type": "code",
   "execution_count": null,
   "id": "9114f143-926a-444b-93a6-d239f005e958",
   "metadata": {},
   "outputs": [],
   "source": []
  }
 ],
 "metadata": {
  "kernelspec": {
   "display_name": "Python 3 (ipykernel)",
   "language": "python",
   "name": "python3"
  },
  "language_info": {
   "codemirror_mode": {
    "name": "ipython",
    "version": 3
   },
   "file_extension": ".py",
   "mimetype": "text/x-python",
   "name": "python",
   "nbconvert_exporter": "python",
   "pygments_lexer": "ipython3",
   "version": "3.12.6"
  }
 },
 "nbformat": 4,
 "nbformat_minor": 5
}
