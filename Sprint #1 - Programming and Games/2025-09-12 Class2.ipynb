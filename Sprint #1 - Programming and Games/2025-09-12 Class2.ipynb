{
 "cells": [
  {
   "cell_type": "code",
   "execution_count": 1,
   "id": "115cf379-c460-4222-b774-fa064cd8edf8",
   "metadata": {},
   "outputs": [
    {
     "name": "stdout",
     "output_type": "stream",
     "text": [
      "Version:  0.3.14\n"
     ]
    }
   ],
   "source": [
    "from Game import *"
   ]
  },
  {
   "cell_type": "code",
   "execution_count": 3,
   "id": "c250c032-7c11-4539-a0cb-424580611234",
   "metadata": {},
   "outputs": [
    {
     "data": {
      "text/plain": [
       " 0  0  0  0  0 \n",
       " 0  0  0  0  0 \n",
       " 0  0  0  0  0 \n",
       " 0  0  0  0  0 \n",
       " 0  0  0  0  0 "
      ]
     },
     "execution_count": 3,
     "metadata": {},
     "output_type": "execute_result"
    }
   ],
   "source": [
    "state=Board(5,5)\n",
    "state"
   ]
  },
  {
   "cell_type": "code",
   "execution_count": 4,
   "id": "b192d03e-94ce-48e2-ba3e-569983b980aa",
   "metadata": {},
   "outputs": [
    {
     "name": "stdout",
     "output_type": "stream",
     "text": [
      " 0  1  2  3  4 \n",
      " 5  6  7  8  9 \n",
      "10 11 12 13 14 \n",
      "15 16 17 18 19 \n",
      "20 21 22 23 24 \n",
      "\n"
     ]
    }
   ],
   "source": [
    "state.show_locations()"
   ]
  },
  {
   "cell_type": "code",
   "execution_count": 5,
   "id": "09ac0b4d-28b0-4da8-8191-2ff385b7ea18",
   "metadata": {},
   "outputs": [],
   "source": [
    "def valid_moves(state,player):\n",
    "    moves=[]\n",
    "\n",
    "\n",
    "    if player==1:\n",
    "        for location in [0,1,2,3,4,5,6,7,8,9,\n",
    "                         10,11,12,13,14,15,16,17,18,19]:\n",
    "            if state[location]==1 and state[location+5]==0:\n",
    "                moves.append((location,location+5))\n",
    "\n",
    "\n",
    "    return moves"
   ]
  },
  {
   "cell_type": "code",
   "execution_count": 6,
   "id": "086678c2-b581-4fc8-b613-ffaf1a696a7d",
   "metadata": {},
   "outputs": [
    {
     "data": {
      "text/plain": [
       "[(0, 5), (1, 6), (2, 7), (3, 8), (4, 9)]"
      ]
     },
     "execution_count": 6,
     "metadata": {},
     "output_type": "execute_result"
    }
   ],
   "source": [
    "state=Board(5,5)\n",
    "for i in range(5):\n",
    "    state[i]=1\n",
    "\n",
    "valid_moves(state,1)"
   ]
  },
  {
   "cell_type": "code",
   "execution_count": 7,
   "id": "e06029dc-3bea-4904-be23-07849341be26",
   "metadata": {},
   "outputs": [],
   "source": [
    "def Kdiag(start):\n",
    "\n",
    "    return [start-6,start-4,start+4,start+6]"
   ]
  },
  {
   "cell_type": "code",
   "execution_count": 8,
   "id": "ae85048d-37b2-48f8-b5d3-d9adf97f8eef",
   "metadata": {},
   "outputs": [],
   "source": [
    "def valid_moves(state,player):\n",
    "    moves=[]\n",
    "\n",
    "    for start in range(25):\n",
    "        if state[start]==player:\n",
    "            end_locations=Kdiag(start)\n",
    "\n",
    "            for end in end_locations:\n",
    "                if state[end]==0:\n",
    "                    moves.append((start,end))\n",
    "\n",
    "    return moves"
   ]
  },
  {
   "cell_type": "code",
   "execution_count": null,
   "id": "6ad087cf-ef35-4ee3-8de3-748b17cf2e0b",
   "metadata": {},
   "outputs": [],
   "source": []
  }
 ],
 "metadata": {
  "kernelspec": {
   "display_name": "Python 3 (ipykernel)",
   "language": "python",
   "name": "python3"
  },
  "language_info": {
   "codemirror_mode": {
    "name": "ipython",
    "version": 3
   },
   "file_extension": ".py",
   "mimetype": "text/x-python",
   "name": "python",
   "nbconvert_exporter": "python",
   "pygments_lexer": "ipython3",
   "version": "3.12.6"
  }
 },
 "nbformat": 4,
 "nbformat_minor": 5
}
