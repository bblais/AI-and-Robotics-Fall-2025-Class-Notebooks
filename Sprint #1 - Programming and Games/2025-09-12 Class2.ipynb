{
 "cells": [
  {
   "cell_type": "code",
   "execution_count": 1,
   "id": "115cf379-c460-4222-b774-fa064cd8edf8",
   "metadata": {},
   "outputs": [
    {
     "name": "stdout",
     "output_type": "stream",
     "text": [
      "Version:  0.3.14\n"
     ]
    }
   ],
   "source": [
    "from Game import *"
   ]
  },
  {
   "cell_type": "code",
   "execution_count": 3,
   "id": "c250c032-7c11-4539-a0cb-424580611234",
   "metadata": {},
   "outputs": [
    {
     "data": {
      "text/plain": [
       " 0  0  0  0  0 \n",
       " 0  0  0  0  0 \n",
       " 0  0  0  0  0 \n",
       " 0  0  0  0  0 \n",
       " 0  0  0  0  0 "
      ]
     },
     "execution_count": 3,
     "metadata": {},
     "output_type": "execute_result"
    }
   ],
   "source": [
    "state=Board(5,5)\n",
    "state"
   ]
  },
  {
   "cell_type": "code",
   "execution_count": 4,
   "id": "b192d03e-94ce-48e2-ba3e-569983b980aa",
   "metadata": {},
   "outputs": [
    {
     "name": "stdout",
     "output_type": "stream",
     "text": [
      " 0  1  2  3  4 \n",
      " 5  6  7  8  9 \n",
      "10 11 12 13 14 \n",
      "15 16 17 18 19 \n",
      "20 21 22 23 24 \n",
      "\n"
     ]
    }
   ],
   "source": [
    "state.show_locations()"
   ]
  },
  {
   "cell_type": "code",
   "execution_count": 5,
   "id": "09ac0b4d-28b0-4da8-8191-2ff385b7ea18",
   "metadata": {},
   "outputs": [],
   "source": [
    "def valid_moves(state,player):\n",
    "    moves=[]\n",
    "\n",
    "\n",
    "    if player==1:\n",
    "        for location in [0,1,2,3,4,5,6,7,8,9,\n",
    "                         10,11,12,13,14,15,16,17,18,19]:\n",
    "            if state[location]==1 and state[location+5]==0:\n",
    "                moves.append((location,location+5))\n",
    "\n",
    "\n",
    "    return moves"
   ]
  },
  {
   "cell_type": "code",
   "execution_count": 6,
   "id": "086678c2-b581-4fc8-b613-ffaf1a696a7d",
   "metadata": {},
   "outputs": [
    {
     "data": {
      "text/plain": [
       "[(0, 5), (1, 6), (2, 7), (3, 8), (4, 9)]"
      ]
     },
     "execution_count": 6,
     "metadata": {},
     "output_type": "execute_result"
    }
   ],
   "source": [
    "state=Board(5,5)\n",
    "for i in range(5):\n",
    "    state[i]=1\n",
    "\n",
    "valid_moves(state,1)"
   ]
  },
  {
   "cell_type": "code",
   "execution_count": 7,
   "id": "e06029dc-3bea-4904-be23-07849341be26",
   "metadata": {},
   "outputs": [],
   "source": [
    "def Kdiag(start):\n",
    "\n",
    "    return [start-6,start-4,start+4,start+6]"
   ]
  },
  {
   "cell_type": "code",
   "execution_count": 8,
   "id": "ae85048d-37b2-48f8-b5d3-d9adf97f8eef",
   "metadata": {},
   "outputs": [],
   "source": [
    "def valid_moves(state,player):\n",
    "    moves=[]\n",
    "\n",
    "    for start in range(25):\n",
    "        if state[start]==player:\n",
    "            end_locations=Kdiag(start)\n",
    "\n",
    "            for end in end_locations:\n",
    "                if state[end]==0:\n",
    "                    moves.append((start,end))\n",
    "\n",
    "    return moves"
   ]
  },
  {
   "cell_type": "code",
   "execution_count": 12,
   "id": "6ad087cf-ef35-4ee3-8de3-748b17cf2e0b",
   "metadata": {},
   "outputs": [],
   "source": [
    "def valid_moves(state,player):\n",
    "\n",
    "    moves=[]\n",
    "\n",
    "    for location in range(9):\n",
    "        if state[location]==0: \n",
    "            move=[\"S\",location]\n",
    "            moves.append(move)\n",
    "            \n",
    "\n",
    "\n",
    "    return moves"
   ]
  },
  {
   "cell_type": "code",
   "execution_count": 13,
   "id": "cc3d74c7-05c4-41fc-a1c3-be2ce005b842",
   "metadata": {},
   "outputs": [
    {
     "data": {
      "text/plain": [
       " 0  0  1 \n",
       " 0  2  0 \n",
       " 0  0  0 "
      ]
     },
     "execution_count": 13,
     "metadata": {},
     "output_type": "execute_result"
    }
   ],
   "source": [
    "state=Board(3,3)\n",
    "state[2]=1\n",
    "state[4]=2\n",
    "state"
   ]
  },
  {
   "cell_type": "code",
   "execution_count": 14,
   "id": "415fead8-8a81-4811-a26b-889712647e49",
   "metadata": {},
   "outputs": [
    {
     "data": {
      "text/plain": [
       "[['S', 0], ['S', 1], ['S', 3], ['S', 5], ['S', 6], ['S', 7], ['S', 8]]"
      ]
     },
     "execution_count": 14,
     "metadata": {},
     "output_type": "execute_result"
    }
   ],
   "source": [
    "valid_moves(state,1)"
   ]
  },
  {
   "cell_type": "code",
   "execution_count": 18,
   "id": "fa857a5b-210e-4367-b313-30dff3fef8c3",
   "metadata": {},
   "outputs": [
    {
     "name": "stdout",
     "output_type": "stream",
     "text": [
      "0 1 2 3 4 "
     ]
    }
   ],
   "source": [
    "for i in range(9):\n",
    "    if i==5:\n",
    "        break\n",
    "    print(i,end=\" \")"
   ]
  },
  {
   "cell_type": "code",
   "execution_count": 19,
   "id": "09c8d2be-3ff2-4593-99bc-3bb73a794579",
   "metadata": {},
   "outputs": [
    {
     "name": "stdout",
     "output_type": "stream",
     "text": [
      "0 1 2 3 4 6 7 8 "
     ]
    }
   ],
   "source": [
    "for i in range(9):\n",
    "    if i==5:\n",
    "        continue\n",
    "    print(i,end=\" \")"
   ]
  },
  {
   "cell_type": "code",
   "execution_count": null,
   "id": "beeee56a-97da-47ae-b4d8-c5bc5095bf4a",
   "metadata": {},
   "outputs": [],
   "source": [
    "def win_status(state,player):\n",
    "\n",
    "\n",
    "    if player==1:\n",
    "        for location in [0,1,2,3,4,5,6,7,8,9,\n",
    "                         10,11,12,13,14,15,16,17,18,19]:\n",
    "            if state[location]==1 and state[location+5]==1 and state[location+10]==1 and state[location+15]==1:\n",
    "                return \"win\"\n",
    "\n",
    "\n",
    "    return moves"
   ]
  }
 ],
 "metadata": {
  "kernelspec": {
   "display_name": "Python 3 (ipykernel)",
   "language": "python",
   "name": "python3"
  },
  "language_info": {
   "codemirror_mode": {
    "name": "ipython",
    "version": 3
   },
   "file_extension": ".py",
   "mimetype": "text/x-python",
   "name": "python",
   "nbconvert_exporter": "python",
   "pygments_lexer": "ipython3",
   "version": "3.12.6"
  }
 },
 "nbformat": 4,
 "nbformat_minor": 5
}
