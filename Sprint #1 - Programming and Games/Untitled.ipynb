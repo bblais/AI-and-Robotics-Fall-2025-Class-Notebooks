{
 "cells": [
  {
   "cell_type": "code",
   "execution_count": 1,
   "id": "e116a0b7-99ab-46cb-84e7-1d314ff909bc",
   "metadata": {},
   "outputs": [
    {
     "name": "stdout",
     "output_type": "stream",
     "text": [
      "Version:  0.3.14\n"
     ]
    }
   ],
   "source": [
    "from Game import *"
   ]
  },
  {
   "cell_type": "code",
   "execution_count": 2,
   "id": "41b743cb-bfc8-4de3-983b-11598bd38575",
   "metadata": {},
   "outputs": [],
   "source": [
    "def initial_state():\n",
    "\n",
    "    board=Board(5,5)\n",
    "    capture_count=0\n",
    "\n",
    "    return board,capture_count"
   ]
  },
  {
   "cell_type": "code",
   "execution_count": null,
   "id": "56bb0a93-d983-4feb-a234-9d786295e507",
   "metadata": {},
   "outputs": [],
   "source": [
    "def valid_moves(state,player):\n",
    "    board,capture_count=state\n",
    "\n",
    "    "
   ]
  },
  {
   "cell_type": "code",
   "execution_count": 3,
   "id": "6b0c0f7e-d410-4198-8f57-8a794f3ee554",
   "metadata": {},
   "outputs": [],
   "source": [
    "def update_state(state,player,move):\n",
    "    board,capture_count=state\n",
    "\n",
    "    capture_count+=1\n",
    "    \n",
    "    new_state=board,capture_count\n",
    "    \n",
    "    return new_state"
   ]
  },
  {
   "cell_type": "code",
   "execution_count": 5,
   "id": "5641ecaf-9cee-4a84-877e-6a39f2997e83",
   "metadata": {},
   "outputs": [
    {
     "name": "stdout",
     "output_type": "stream",
     "text": [
      " 0  1  2  3  4  5  6 \n",
      " 7  8  9 10 11 12 13 \n",
      "14 15 16 17 18 19 20 \n",
      "21 22 23 24 25 26 27 \n",
      "28 29 30 31 32 33 34 \n",
      "35 36 37 38 39 40 41 \n",
      "\n"
     ]
    },
    {
     "data": {
      "text/plain": [
       " 0  0  0  0  0  0  0 \n",
       " 0  0  0  0  0  0  0 \n",
       " 0  0  0  0  0  0  0 \n",
       " 0  0  0  0  0  0  0 \n",
       " 0  0  0  0  0  0  0 \n",
       " 0  0  0  0  0  0  0 "
      ]
     },
     "execution_count": 5,
     "metadata": {},
     "output_type": "execute_result"
    }
   ],
   "source": [
    "state=Board(6,7)\n",
    "state.show_locations()\n",
    "state\n"
   ]
  },
  {
   "cell_type": "code",
   "execution_count": null,
   "id": "bee14d23-1718-45b3-bf03-bd9e0580ec5a",
   "metadata": {},
   "outputs": [],
   "source": [
    "player=1\n",
    "for start in [0,1,2,3,...20]:  # 4 down\n",
    "    if state[start]==player and state[start+7]==player and state[start+14]==player and state[start+21]==player:\n",
    "        return \"win\"\n"
   ]
  },
  {
   "cell_type": "code",
   "execution_count": null,
   "id": "3fffa265-410a-46e4-a6e3-d2473ea7e648",
   "metadata": {},
   "outputs": [],
   "source": []
  },
  {
   "cell_type": "code",
   "execution_count": null,
   "id": "42a50f3c-c411-4efb-bfd2-6af3f530d004",
   "metadata": {},
   "outputs": [],
   "source": [
    "move_input=input(\"Enter your move as a location or start,end: \")\n",
    "parts=move_input.split(\",\")\n",
    "if len(parts)==1:\n",
    "    move=int(parts[0])\n",
    "else:\n",
    "    move=(int(parts[0]),int(parts[1]))\n"
   ]
  },
  {
   "cell_type": "code",
   "execution_count": 7,
   "id": "5a9f7ef7-70a1-45fb-8616-9da9fd04a697",
   "metadata": {},
   "outputs": [
    {
     "name": "stdout",
     "output_type": "stream",
     "text": [
      " 0  1  2  3  4 \n",
      " 5  6  7  8  9 \n",
      "10 11 12 13 14 \n",
      "15 16 17 18 19 \n",
      "\n"
     ]
    },
    {
     "data": {
      "text/plain": [
       " 0  0  0  0  0 \n",
       " 0  0  0  0  0 \n",
       " 0  0  0  0  0 \n",
       " 0  0  0  0  0 "
      ]
     },
     "execution_count": 7,
     "metadata": {},
     "output_type": "execute_result"
    }
   ],
   "source": [
    "state=Board(4,5)\n",
    "state.show_locations()\n",
    "state"
   ]
  },
  {
   "cell_type": "code",
   "execution_count": 11,
   "id": "5842cc06-e7f4-4d81-9e20-1caf03f3a720",
   "metadata": {},
   "outputs": [
    {
     "data": {
      "text/plain": [
       " 0  0  0  0  0 \n",
       " 0  0  0  0  0 \n",
       " 0  0  0  0  0 \n",
       " 0  0  1  0  0 "
      ]
     },
     "execution_count": 11,
     "metadata": {},
     "output_type": "execute_result"
    }
   ],
   "source": [
    "state=Board(4,5)\n",
    "move=2\n",
    "player=1\n",
    "new_state=state\n",
    "\n",
    "if state[move+15]==0:\n",
    "    new_state[move+15]=player\n",
    "elif state[move+10]==0:\n",
    "    new_state[move+10]=player\n",
    "elif state[move+5]==0:\n",
    "    new_state[move+5]=player\n",
    "elif state[move]==0:\n",
    "    new_state[move]=player\n",
    "else:\n",
    "    raise ValueError(\"You can't get there from here\")\n",
    "\n",
    "new_state"
   ]
  },
  {
   "cell_type": "code",
   "execution_count": null,
   "id": "64645b30-07c5-4e1b-ab40-35e07d85b9ea",
   "metadata": {},
   "outputs": [],
   "source": []
  }
 ],
 "metadata": {
  "kernelspec": {
   "display_name": "Python 3 (ipykernel)",
   "language": "python",
   "name": "python3"
  },
  "language_info": {
   "codemirror_mode": {
    "name": "ipython",
    "version": 3
   },
   "file_extension": ".py",
   "mimetype": "text/x-python",
   "name": "python",
   "nbconvert_exporter": "python",
   "pygments_lexer": "ipython3",
   "version": "3.12.6"
  }
 },
 "nbformat": 4,
 "nbformat_minor": 5
}
