{
 "cells": [
  {
   "cell_type": "code",
   "execution_count": 1,
   "id": "7dca7a8e-7219-42da-bb80-067cd3c965e3",
   "metadata": {},
   "outputs": [
    {
     "name": "stdout",
     "output_type": "stream",
     "text": [
      "Version  0.0.2\n"
     ]
    }
   ],
   "source": [
    "from mplturtle import *"
   ]
  },
  {
   "cell_type": "code",
   "execution_count": 8,
   "id": "54ffcb21-c05a-45f8-9f0a-f76e60be0361",
   "metadata": {},
   "outputs": [
    {
     "data": {
      "text/plain": [
       "(-120.0, 20.0)"
      ]
     },
     "execution_count": 8,
     "metadata": {},
     "output_type": "execute_result"
    },
    {
     "data": {
      "image/png": "[encoded data removed]",
      "text/plain": [
       "<Figure size 500x500 with 1 Axes>"
      ]
     },
     "metadata": {},
     "output_type": "display_data"
    }
   ],
   "source": [
    "reset()\n",
    "for i in range(4):\n",
    "    forward(100)\n",
    "    right(90)\n",
    "\n",
    "py.xlim([-50,110])\n",
    "py.ylim([-120,20])"
   ]
  },
  {
   "cell_type": "code",
   "execution_count": 10,
   "id": "4ac8e618-a916-4dac-b109-7431a0148177",
   "metadata": {},
   "outputs": [
    {
     "name": "stdout",
     "output_type": "stream",
     "text": [
      "Version:  0.3.14\n"
     ]
    }
   ],
   "source": [
    "from Game import *"
   ]
  },
  {
   "cell_type": "code",
   "execution_count": 11,
   "id": "2042ca00-93ba-468f-bdfb-fa73a38175d3",
   "metadata": {},
   "outputs": [
    {
     "name": "stdout",
     "output_type": "stream",
     "text": [
      " 0  1  2  3  4 \n",
      " 5  6  7  8  9 \n",
      "10 11 12 13 14 \n",
      "15 16 17 18 19 \n",
      "\n"
     ]
    }
   ],
   "source": [
    "state=Board(4,5)\n",
    "state.show_locations()"
   ]
  },
  {
   "cell_type": "code",
   "execution_count": null,
   "id": "7212df0d-e3dc-44e4-aab2-b8d25b333d12",
   "metadata": {},
   "outputs": [],
   "source": [
    "player=1\n",
    "if state[0]==player and state[1]==player and state[2]==player:\n",
    "    return 'win'\n",
    "\n",
    "    "
   ]
  },
  {
   "cell_type": "code",
   "execution_count": 15,
   "id": "5a31c96e-818c-4f4b-be1e-d72250b30543",
   "metadata": {},
   "outputs": [],
   "source": [
    "state=Board(4,5)\n",
    "state[0]=1\n",
    "state[3]=1\n",
    "state[6]=1"
   ]
  },
  {
   "cell_type": "code",
   "execution_count": 16,
   "id": "b13a413f-dff4-4a0d-9c0c-c650f9555b9b",
   "metadata": {},
   "outputs": [
    {
     "name": "stdout",
     "output_type": "stream",
     "text": [
      "win\n"
     ]
    }
   ],
   "source": [
    "player=1\n",
    "for a,b,c in [[0,1,2],[3,4,5],[6,7,8],  # first 2 rows\n",
    "              [0,3,6],[1,4,7],[2,5,8],\n",
    "              [0,4,8],[2,4,6]  \n",
    "             ]:\n",
    "    if state[a]==player and state[b]==player and state[c]==player:\n",
    "        print('win')"
   ]
  },
  {
   "cell_type": "code",
   "execution_count": null,
   "id": "15b7d94b-4f5a-42cf-85aa-35028a1beace",
   "metadata": {},
   "outputs": [],
   "source": [
    "def valid_moves(state,player):\n",
    "\n",
    "    for location in range(16):\n",
    "\n",
    "        pieces=state[location]\n",
    "\n",
    "        "
   ]
  },
  {
   "cell_type": "code",
   "execution_count": null,
   "id": "631cf352-373e-4779-8aba-7b4e3baf8f03",
   "metadata": {},
   "outputs": [],
   "source": []
  },
  {
   "cell_type": "code",
   "execution_count": null,
   "id": "41a72c8f-baac-4095-a357-0fb4a68f4867",
   "metadata": {},
   "outputs": [],
   "source": []
  },
  {
   "cell_type": "code",
   "execution_count": null,
   "id": "7f8f0c11-2fc3-4bb6-bee8-5639aa936d4f",
   "metadata": {},
   "outputs": [],
   "source": []
  },
  {
   "cell_type": "code",
   "execution_count": null,
   "id": "7e7d0fa9-0d90-4ed2-b798-da32f2712af0",
   "metadata": {},
   "outputs": [],
   "source": [
    "def update_state(state,player,move):\n",
    "\n",
    "    piece,location=move\n",
    "\n",
    "    new_state=state\n",
    "\n",
    "    \n",
    "\n",
    "\n",
    "    return new_state"
   ]
  },
  {
   "cell_type": "code",
   "execution_count": 1,
   "id": "6e8432cc-dbac-4d02-ba6c-182b4847ef9b",
   "metadata": {},
   "outputs": [
    {
     "name": "stdout",
     "output_type": "stream",
     "text": [
      "4 end 5\n",
      "6 end 7\n"
     ]
    }
   ],
   "source": [
    "for start,end in [[4,5],[6,7]]:\n",
    "    print(start,\"end\",end)"
   ]
  },
  {
   "cell_type": "code",
   "execution_count": null,
   "id": "71f8b44f-9d76-486f-a39d-9fe57de948ed",
   "metadata": {},
   "outputs": [],
   "source": [
    "state=initial_state()\n",
    "player=2\n",
    "move=[\"S\",2]\n",
    "update_state(state,player,move)"
   ]
  },
  {
   "cell_type": "code",
   "execution_count": null,
   "id": "a1d84c67-ba1f-42f7-8abc-b1063e4b5381",
   "metadata": {},
   "outputs": [],
   "source": [
    "if state[0]==1 and state[4]==2 and state[8]==1:\n",
    "    return \"win\"\n",
    "\n",
    "if not valid_moves(state,player):\n",
    "    return \"stalemate\""
   ]
  },
  {
   "cell_type": "code",
   "execution_count": null,
   "id": "ef9fcbc4-fc3f-4a0c-b423-44df19170af5",
   "metadata": {},
   "outputs": [],
   "source": []
  },
  {
   "cell_type": "code",
   "execution_count": null,
   "id": "42ef0963-ef2d-4ad0-8ab5-e34ee18560bd",
   "metadata": {},
   "outputs": [],
   "source": [
    "if player==1:\n",
    "    other_player=2\n",
    "else:\n",
    "    other_player=1\n",
    "    \n",
    "for a,b,c in [[0,1,2],[3,4,5],[6,7,8],  # first 2 rows\n",
    "              [0,3,6],[1,4,7],[2,5,8],\n",
    "              [0,4,8],[2,4,6]  \n",
    "             ]:\n",
    "    if state[a]==0 and state[b]==other_player and state[c]==player:\n",
    "        moves.append([c,a])\n",
    "    if state[c]==0 and state[b]==other_player and state[a]==player:\n",
    "        moves.append([a,c])\n",
    "\n",
    "                     "
   ]
  },
  {
   "cell_type": "code",
   "execution_count": 3,
   "id": "65842ba0-ec02-4133-9495-5014902e310f",
   "metadata": {},
   "outputs": [
    {
     "name": "stdout",
     "output_type": "stream",
     "text": [
      "Version:  0.3.14\n"
     ]
    }
   ],
   "source": [
    "from Game import *"
   ]
  },
  {
   "cell_type": "code",
   "execution_count": 5,
   "id": "f599b96e-fd06-43d0-9584-9ef6c3a2e92c",
   "metadata": {},
   "outputs": [
    {
     "data": {
      "text/plain": [
       " .  .  . \n",
       " .  .  . \n",
       " .  .  . "
      ]
     },
     "execution_count": 5,
     "metadata": {},
     "output_type": "execute_result"
    }
   ],
   "source": [
    "state=Board(3,3)\n",
    "state.pieces=[\".\",\"S\",\"O\"]\n",
    "\n",
    "state"
   ]
  },
  {
   "cell_type": "code",
   "execution_count": 6,
   "id": "7967e1b4-1cab-4503-b5e2-b96b1ed66ef8",
   "metadata": {},
   "outputs": [],
   "source": [
    "state[2]=1"
   ]
  },
  {
   "cell_type": "code",
   "execution_count": 7,
   "id": "3f53804d-08ef-4ee4-803b-265434cf702f",
   "metadata": {},
   "outputs": [
    {
     "data": {
      "text/plain": [
       " .  .  S \n",
       " .  .  . \n",
       " .  .  . "
      ]
     },
     "execution_count": 7,
     "metadata": {},
     "output_type": "execute_result"
    }
   ],
   "source": [
    "state"
   ]
  },
  {
   "cell_type": "code",
   "execution_count": null,
   "id": "ef1ee233-a5f2-427d-b667-44238363e0bf",
   "metadata": {},
   "outputs": [],
   "source": []
  }
 ],
 "metadata": {
  "kernelspec": {
   "display_name": "Python 3 (ipykernel)",
   "language": "python",
   "name": "python3"
  },
  "language_info": {
   "codemirror_mode": {
    "name": "ipython",
    "version": 3
   },
   "file_extension": ".py",
   "mimetype": "text/x-python",
   "name": "python",
   "nbconvert_exporter": "python",
   "pygments_lexer": "ipython3",
   "version": "3.12.6"
  }
 },
 "nbformat": 4,
 "nbformat_minor": 5
}
