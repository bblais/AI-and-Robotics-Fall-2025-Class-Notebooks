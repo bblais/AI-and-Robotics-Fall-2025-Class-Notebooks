{
 "cells": [
  {
   "cell_type": "code",
   "execution_count": 1,
   "id": "bad63749-3e04-488c-a15e-1243e9d3b7e1",
   "metadata": {},
   "outputs": [
    {
     "name": "stdout",
     "output_type": "stream",
     "text": [
      "hello world\n"
     ]
    }
   ],
   "source": [
    "print(\"hello world\")"
   ]
  },
  {
   "cell_type": "markdown",
   "id": "800c5fbc-86cc-42b4-801e-1f0aa253c374",
   "metadata": {},
   "source": [
    "\n",
    "- this\n",
    "- is\n",
    "- a \n",
    "- bulletted\n",
    "- list\n",
    "- "
   ]
  },
  {
   "cell_type": "markdown",
   "id": "86fb97f6-4ea7-4911-9f3e-d1769f26259d",
   "metadata": {},
   "source": [
    "1. enumerate\n",
    "2. something\n",
    "3. here\n",
    "6. doesn't\n",
    "7. matter\n",
    "8. what\n",
    "9. number"
   ]
  },
  {
   "cell_type": "code",
   "execution_count": null,
   "id": "1e276aff-ed15-4e6c-9c06-2d7208962659",
   "metadata": {},
   "outputs": [],
   "source": []
  }
 ],
 "metadata": {
  "kernelspec": {
   "display_name": "Python 3 (ipykernel)",
   "language": "python",
   "name": "python3"
  },
  "language_info": {
   "codemirror_mode": {
    "name": "ipython",
    "version": 3
   },
   "file_extension": ".py",
   "mimetype": "text/x-python",
   "name": "python",
   "nbconvert_exporter": "python",
   "pygments_lexer": "ipython3",
   "version": "3.12.6"
  }
 },
 "nbformat": 4,
 "nbformat_minor": 5
}
