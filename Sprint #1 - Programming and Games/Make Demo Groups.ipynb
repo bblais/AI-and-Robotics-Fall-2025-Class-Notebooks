{
 "cells": [
  {
   "cell_type": "code",
   "execution_count": 1,
   "id": "b75c5d56-b33e-446c-97ae-4a8a336ea388",
   "metadata": {},
   "outputs": [],
   "source": [
    "names=\"\"\"\n",
    "Mariah\n",
    "Will\n",
    "Owen\n",
    "Toby\n",
    "Jacob\n",
    "Mitchel\n",
    "Gabrielle\n",
    "Arielle\n",
    "Zachary\n",
    "Brandon\n",
    "Alexis\n",
    "Olin\n",
    "Daniel\n",
    "Hung\n",
    "Ashish\n",
    "Nicholas\n",
    "Ryan\n",
    "Benjamin\n",
    "Jason\n",
    "Nathan\n",
    "Jacob\n",
    "Emily\n",
    "Riley\n",
    "\"\"\".strip().split()"
   ]
  },
  {
   "cell_type": "code",
   "execution_count": 2,
   "id": "7ad7d92b-9fc7-4ac0-88c3-2e1b07ae9657",
   "metadata": {},
   "outputs": [
    {
     "data": {
      "text/plain": [
       "['Mariah',\n",
       " 'Will',\n",
       " 'Owen',\n",
       " 'Toby',\n",
       " 'Jacob',\n",
       " 'Mitchel',\n",
       " 'Gabrielle',\n",
       " 'Arielle',\n",
       " 'Zachary',\n",
       " 'Brandon',\n",
       " 'Alexis',\n",
       " 'Olin',\n",
       " 'Daniel',\n",
       " 'Hung',\n",
       " 'Ashish',\n",
       " 'Nicholas',\n",
       " 'Ryan',\n",
       " 'Benjamin',\n",
       " 'Jason',\n",
       " 'Nathan',\n",
       " 'Jacob',\n",
       " 'Emily',\n",
       " 'Riley']"
      ]
     },
     "execution_count": 2,
     "metadata": {},
     "output_type": "execute_result"
    }
   ],
   "source": [
    "names"
   ]
  },
  {
   "cell_type": "code",
   "execution_count": 3,
   "id": "488f0c31-d943-45b2-a2ca-8ac39cfa76c4",
   "metadata": {},
   "outputs": [],
   "source": [
    "from random import choice"
   ]
  },
  {
   "cell_type": "code",
   "execution_count": 4,
   "id": "c6a8c929-7523-4f46-b55e-31977a1a84a6",
   "metadata": {},
   "outputs": [],
   "source": [
    "names_orig=names.copy()"
   ]
  },
  {
   "cell_type": "code",
   "execution_count": 5,
   "id": "9c31b00b-6afd-46fa-a2da-b7ea4b73c2b4",
   "metadata": {},
   "outputs": [],
   "source": [
    "names=names_orig.copy()\n",
    "pairs=[]\n",
    "extra=None\n",
    "while names:\n",
    "    name1=choice(names)\n",
    "    names.remove(name1)\n",
    "    \n",
    "    try:\n",
    "        name2=choice(names)\n",
    "        names.remove(name2)\n",
    "    except IndexError:\n",
    "        extra=name1\n",
    "        continue\n",
    "    \n",
    "    pairs.append( [name1,name2])"
   ]
  },
  {
   "cell_type": "code",
   "execution_count": 6,
   "id": "5a72d571-4bb8-4fe2-b59c-6a79dd7a1b85",
   "metadata": {},
   "outputs": [
    {
     "data": {
      "text/plain": [
       "[['Nicholas', 'Benjamin'],\n",
       " ['Olin', 'Hung'],\n",
       " ['Emily', 'Jason'],\n",
       " ['Riley', 'Brandon'],\n",
       " ['Zachary', 'Ryan'],\n",
       " ['Ashish', 'Alexis'],\n",
       " ['Owen', 'Mitchel'],\n",
       " ['Daniel', 'Mariah'],\n",
       " ['Gabrielle', 'Nathan'],\n",
       " ['Arielle', 'Jacob'],\n",
       " ['Toby', 'Will']]"
      ]
     },
     "execution_count": 6,
     "metadata": {},
     "output_type": "execute_result"
    }
   ],
   "source": [
    "pairs"
   ]
  },
  {
   "cell_type": "code",
   "execution_count": 7,
   "id": "5c0394a0-6a6a-40df-a92d-410de206306e",
   "metadata": {},
   "outputs": [
    {
     "data": {
      "text/plain": [
       "'Jacob'"
      ]
     },
     "execution_count": 7,
     "metadata": {},
     "output_type": "execute_result"
    }
   ],
   "source": [
    "extra"
   ]
  },
  {
   "cell_type": "code",
   "execution_count": 8,
   "id": "fca2f062-90b1-4247-88af-806d77472a88",
   "metadata": {},
   "outputs": [
    {
     "name": "stdout",
     "output_type": "stream",
     "text": [
      "# Demo Pairs\n",
      "-  Alexis  -  Benjamin\n",
      "-  Jason  -  Will\n",
      "-  Ashish  -  Olin\n",
      "-  Jacob  -  Mitchel\n",
      "-  Jacob  -  Toby\n",
      "-  Hung  -  Owen\n",
      "-  Nathan  -  Zachary\n",
      "-  Nicholas  -  Ryan\n",
      "-  Arielle  -  Riley\n",
      "-  Brandon  -  Mariah\n",
      "-  Emily  -  Gabrielle\n",
      "Extra Daniel\n",
      "\n",
      "------\n",
      "\n",
      "-  Daniel  -  Ryan\n",
      "-  Alexis  -  Hung\n",
      "-  Jason  -  Owen\n",
      "-  Emily  -  Jacob\n",
      "-  Arielle  -  Toby\n",
      "-  Benjamin  -  Olin\n",
      "-  Brandon  -  Mitchel\n",
      "-  Mariah  -  Zachary\n",
      "-  Gabrielle  -  Nicholas\n",
      "-  Jacob  -  Nathan\n",
      "-  Riley  -  Will\n",
      "Extra Ashish\n",
      "\n",
      "------\n",
      "\n",
      "-  Arielle  -  Ashish\n",
      "-  Gabrielle  -  Ryan\n",
      "-  Benjamin  -  Olin\n",
      "('Benjamin', 'Olin') duplicate\n",
      "-  Nicholas  -  Owen\n",
      "-  Jacob  -  Will\n",
      "-  Brandon  -  Nathan\n",
      "-  Jason  -  Zachary\n",
      "-  Alexis  -  Mariah\n",
      "-  Daniel  -  Hung\n",
      "-  Jacob  -  Mitchel\n",
      "-  Emily  -  Toby\n",
      "Extra Riley\n",
      "\n",
      "------\n",
      "\n",
      "# Demo Pairs\n",
      "-  Ryan  -  Will\n",
      "-  Olin  -  Toby\n",
      "-  Mariah  -  Mitchel\n",
      "-  Emily  -  Hung\n",
      "-  Gabrielle  -  Owen\n",
      "-  Alexis  -  Benjamin\n",
      "-  Arielle  -  Jacob\n",
      "-  Jason  -  Nicholas\n",
      "-  Jacob  -  Riley\n",
      "-  Ashish  -  Daniel\n",
      "-  Nathan  -  Zachary\n",
      "Extra Brandon\n",
      "\n",
      "------\n",
      "\n",
      "-  Brandon  -  Daniel\n",
      "-  Jacob  -  Jason\n",
      "-  Alexis  -  Mariah\n",
      "-  Nicholas  -  Will\n",
      "-  Hung  -  Olin\n",
      "-  Owen  -  Ryan\n",
      "-  Gabrielle  -  Zachary\n",
      "-  Ashish  -  Nathan\n",
      "-  Benjamin  -  Jacob\n",
      "-  Emily  -  Mitchel\n",
      "-  Arielle  -  Toby\n",
      "Extra Riley\n",
      "\n",
      "------\n",
      "\n",
      "-  Riley  -  Zachary\n",
      "-  Arielle  -  Olin\n",
      "-  Nathan  -  Will\n",
      "-  Hung  -  Mariah\n",
      "-  Alexis  -  Daniel\n",
      "-  Ashish  -  Benjamin\n",
      "-  Jason  -  Mitchel\n",
      "-  Emily  -  Ryan\n",
      "-  Gabrielle  -  Owen\n",
      "-  Jacob  -  Toby\n",
      "-  Brandon  -  Nicholas\n",
      "Extra Jacob\n",
      "\n",
      "------\n",
      "\n"
     ]
    }
   ],
   "source": [
    "found_duplicate=True\n",
    "while found_duplicate:\n",
    "    print(\"# Demo Pairs\")\n",
    "    extra=None\n",
    "    found_duplicate=False\n",
    "    all_pairs=[]\n",
    "    for i in range(3):\n",
    "        names=names_orig.copy()\n",
    "        pairs=[]\n",
    "\n",
    "        while names:\n",
    "            \n",
    "            if extra:\n",
    "                name1=extra\n",
    "                extra=None\n",
    "            else:\n",
    "                name1=choice(names)\n",
    "                \n",
    "            names.remove(name1)\n",
    "\n",
    "            try:\n",
    "                name2=choice(names)\n",
    "                names.remove(name2)\n",
    "            except IndexError:\n",
    "                extra=name1\n",
    "                continue\n",
    "\n",
    "            if name2<name1:\n",
    "                name1,name2=name2,name1\n",
    "                \n",
    "            pairs.append( (name1,name2) )\n",
    "            \n",
    "        for p in pairs:\n",
    "            print(\"- \",p[0],\" - \",p[1])\n",
    "            if all_pairs:\n",
    "                if p in all_pairs[-1]:\n",
    "                    print(p,\"duplicate\")\n",
    "                    found_duplicate=True\n",
    "        print(\"Extra\",extra)\n",
    "\n",
    "        print(\"\\n------\\n\")\n",
    "        all_pairs.append(pairs)\n",
    "                        \n",
    "                        \n"
   ]
  },
  {
   "cell_type": "markdown",
   "id": "485e085b-3c8d-475b-b364-4ca6a8669e84",
   "metadata": {},
   "source": [
    "# Demo Pairs\n",
    "-  Jeff  -  Rubin\n",
    "-  Alyssa  -  Trevor_C\n",
    "-  Aiden  -  Jared\n",
    "-  Jacob  -  Trevor_F\n",
    "-  Andrew  -  Danny\n",
    "-  Marcus  -  Timothy\n",
    "-  Bobby  -  Patrick\n",
    "\n",
    "------\n",
    "\n",
    "-  Andrew  -  Jared\n",
    "-  Bobby  -  Trevor_C\n",
    "-  Jeff  -  Marcus\n",
    "-  Patrick  -  Rubin\n",
    "-  Timothy  -  Trevor_F\n",
    "-  Alyssa  -  Danny\n",
    "-  Aiden  -  Jacob\n",
    "\n",
    "------\n",
    "\n",
    "-  Bobby  -  Rubin\n",
    "-  Jared  -  Trevor_C\n",
    "-  Jacob  -  Marcus\n",
    "-  Aiden  -  Jeff\n",
    "-  Danny  -  Trevor_F\n",
    "-  Andrew  -  Patrick\n",
    "-  Alyssa  -  Timothy"
   ]
  },
  {
   "cell_type": "code",
   "execution_count": null,
   "id": "76af92bc-3083-4557-8a49-addbf7c1b2be",
   "metadata": {},
   "outputs": [
    {
     "data": {
      "text/plain": [
       "'Ethan'"
      ]
     },
     "execution_count": null,
     "metadata": {},
     "output_type": "execute_result"
    }
   ],
   "source": [
    "name1"
   ]
  },
  {
   "cell_type": "code",
   "execution_count": null,
   "id": "8de79f2e-1057-4624-8106-6f7d2c1bc66d",
   "metadata": {},
   "outputs": [
    {
     "data": {
      "text/plain": [
       "'Griffin'"
      ]
     },
     "execution_count": null,
     "metadata": {},
     "output_type": "execute_result"
    }
   ],
   "source": [
    "name2"
   ]
  },
  {
   "cell_type": "code",
   "execution_count": null,
   "id": "ddc37e6e-a349-4ddb-b423-efb27257a493",
   "metadata": {},
   "outputs": [],
   "source": []
  }
 ],
 "metadata": {
  "kernelspec": {
   "display_name": "work",
   "language": "python",
   "name": "python3"
  },
  "language_info": {
   "codemirror_mode": {
    "name": "ipython",
    "version": 3
   },
   "file_extension": ".py",
   "mimetype": "text/x-python",
   "name": "python",
   "nbconvert_exporter": "python",
   "pygments_lexer": "ipython3",
   "version": "3.12.6"
  }
 },
 "nbformat": 4,
 "nbformat_minor": 5
}
