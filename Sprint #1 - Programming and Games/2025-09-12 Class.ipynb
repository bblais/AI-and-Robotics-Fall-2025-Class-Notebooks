{
 "cells": [
  {
   "cell_type": "code",
   "execution_count": 1,
   "id": "6ca6a5ff-9217-4357-9476-09034c19149c",
   "metadata": {},
   "outputs": [
    {
     "name": "stdout",
     "output_type": "stream",
     "text": [
      "Version:  0.3.14\n"
     ]
    }
   ],
   "source": [
    "from Game import *"
   ]
  },
  {
   "cell_type": "code",
   "execution_count": 2,
   "id": "8caa72a4-3875-4b81-8d8b-a13be715b8c6",
   "metadata": {},
   "outputs": [],
   "source": [
    "def initial_state():\n",
    "    state=Board(4,5)\n",
    "    return state"
   ]
  },
  {
   "cell_type": "code",
   "execution_count": 3,
   "id": "3ef2d32c-e7cd-42ca-8f73-17e0dee006d2",
   "metadata": {},
   "outputs": [
    {
     "data": {
      "text/plain": [
       " 0  0  0  0  0 \n",
       " 0  0  0  0  0 \n",
       " 0  0  0  0  0 \n",
       " 0  0  0  0  0 "
      ]
     },
     "execution_count": 3,
     "metadata": {},
     "output_type": "execute_result"
    }
   ],
   "source": [
    "state=initial_state()\n",
    "state"
   ]
  },
  {
   "cell_type": "code",
   "execution_count": 4,
   "id": "471d8154-f313-48c9-95d4-ff3218faf15c",
   "metadata": {},
   "outputs": [],
   "source": [
    "s='●'"
   ]
  },
  {
   "cell_type": "code",
   "execution_count": 8,
   "id": "c051d3d7-c0df-4e5d-b00c-95f20d7f7eae",
   "metadata": {},
   "outputs": [
    {
     "data": {
      "text/plain": [
       "9679"
      ]
     },
     "execution_count": 8,
     "metadata": {},
     "output_type": "execute_result"
    }
   ],
   "source": [
    "ord(s[0])"
   ]
  },
  {
   "cell_type": "code",
   "execution_count": 9,
   "id": "182af326-95c6-4767-aca5-5a58bab7c078",
   "metadata": {},
   "outputs": [
    {
     "data": {
      "text/plain": [
       "'●'"
      ]
     },
     "execution_count": 9,
     "metadata": {},
     "output_type": "execute_result"
    }
   ],
   "source": [
    "chr(9679)"
   ]
  },
  {
   "cell_type": "code",
   "execution_count": 10,
   "id": "0ad4ce97-3509-44d4-ad23-122ee5abaeb5",
   "metadata": {},
   "outputs": [
    {
     "data": {
      "text/plain": [
       "9675"
      ]
     },
     "execution_count": 10,
     "metadata": {},
     "output_type": "execute_result"
    }
   ],
   "source": [
    "ord('○')"
   ]
  },
  {
   "cell_type": "code",
   "execution_count": 2,
   "id": "9a0bcd1b-daf9-4e74-86cb-3a5f2eb0101e",
   "metadata": {},
   "outputs": [
    {
     "data": {
      "text/plain": [
       " 0  0  0  0  0 \n",
       " 0  0  0  0  0 \n",
       " 0  0  0  0  0 \n",
       " 0  0  0  0  0 \n",
       " 0  0  0  0  0 "
      ]
     },
     "execution_count": 2,
     "metadata": {},
     "output_type": "execute_result"
    }
   ],
   "source": [
    "state=Board(5,5)\n",
    "state"
   ]
  },
  {
   "cell_type": "code",
   "execution_count": 3,
   "id": "c3642c4e-201d-4227-bb9b-95e72be5c7c0",
   "metadata": {},
   "outputs": [
    {
     "name": "stdout",
     "output_type": "stream",
     "text": [
      " 0  1  2  3  4 \n",
      " 5  6  7  8  9 \n",
      "10 11 12 13 14 \n",
      "15 16 17 18 19 \n",
      "20 21 22 23 24 \n",
      "\n"
     ]
    }
   ],
   "source": [
    "state.show_locations()"
   ]
  },
  {
   "cell_type": "code",
   "execution_count": null,
   "id": "46702738-e501-4c1f-b080-1fab56bcd0fa",
   "metadata": {},
   "outputs": [],
   "source": []
  }
 ],
 "metadata": {
  "kernelspec": {
   "display_name": "Python 3 (ipykernel)",
   "language": "python",
   "name": "python3"
  },
  "language_info": {
   "codemirror_mode": {
    "name": "ipython",
    "version": 3
   },
   "file_extension": ".py",
   "mimetype": "text/x-python",
   "name": "python",
   "nbconvert_exporter": "python",
   "pygments_lexer": "ipython3",
   "version": "3.12.6"
  }
 },
 "nbformat": 4,
 "nbformat_minor": 5
}
