{
 "cells": [
  {
   "cell_type": "markdown",
   "id": "a08331f3-ad68-4b88-9346-945cb1f8dcc2",
   "metadata": {},
   "source": [
    "# Nim (21 Sticks Variant)\n",
    "\n",
    "## Setup\n",
    "- Start with **21 sticks** (or counters, stones, matches, etc.).  \n",
    "- Two players take turns.  \n",
    "\n",
    "---\n",
    "\n",
    "## Rules\n",
    "1. On your turn, you must take **1, 2, or 3 sticks** from the pile.  \n",
    "2. Players alternate turns.  \n",
    "3. **The player forced to take the last stick loses.**  \n",
    "\n",
    "---\n",
    "\n",
    "## Example Play\n",
    "- Start: 21 sticks.  \n",
    "- Player A takes 2 → 19 left.  \n",
    "- Player B takes 3 → 16 left.  \n",
    "- Player A takes 1 → 15 left.  \n",
    "- … and so on, until one player is forced to take the last stick and loses.  \n",
    "\n"
   ]
  },
  {
   "cell_type": "code",
   "execution_count": 7,
   "id": "704da284-8129-43b0-a46c-fa57e816406d",
   "metadata": {},
   "outputs": [],
   "source": [
    "from Game import *"
   ]
  },
  {
   "cell_type": "code",
   "execution_count": 8,
   "id": "724fd135-c663-4a22-aee6-387dc9f9374e",
   "metadata": {},
   "outputs": [],
   "source": [
    "def initial_state():\n",
    "    return 21"
   ]
  },
  {
   "cell_type": "code",
   "execution_count": 9,
   "id": "8fb2bf0d-b6c7-4d7a-b077-fbfefe82cfe3",
   "metadata": {},
   "outputs": [],
   "source": [
    "def show_state(state,player):\n",
    "    print(\"Player\",player)\n",
    "    print(f\"Sticks remaining: {state}\")"
   ]
  },
  {
   "cell_type": "code",
   "execution_count": 10,
   "id": "376beea4-7f3b-41fa-8079-9ee55203a89b",
   "metadata": {},
   "outputs": [],
   "source": [
    "def valid_moves(state,player):\n",
    "    # return a **list** of moves that are valid\n",
    "\n",
    "    if state==1:\n",
    "        return [1]\n",
    "    elif state==2:\n",
    "        return [1,2]\n",
    "    else:\n",
    "        return [1,2,3]\n",
    "    "
   ]
  },
  {
   "cell_type": "code",
   "execution_count": 11,
   "id": "3812a130-f239-4ec5-8ec2-9dd1047bfec2",
   "metadata": {},
   "outputs": [],
   "source": [
    "def update_state(state,player,move):\n",
    "    new_state = state - move\n",
    "    return new_state"
   ]
  },
  {
   "cell_type": "code",
   "execution_count": 12,
   "id": "e38073f2-cc73-499c-a0e5-25d3fa4b1bdc",
   "metadata": {},
   "outputs": [],
   "source": [
    "def win_status(state,player):\n",
    "    # return None if the game is not over\n",
    "    # return 'win' if player has won\n",
    "    # return 'lose' if player has lost\n",
    "    # return 'stalemate' if player has stalemate\n",
    "\n",
    "    if player==1:\n",
    "        other_player=2\n",
    "    else:\n",
    "        other_player=1\n",
    "\n",
    "    if state==0:\n",
    "        return 'lose'\n",
    "    else:\n",
    "        return None"
   ]
  },
  {
   "cell_type": "markdown",
   "id": "6957956e-8dfc-423d-a4d8-72aa28a05199",
   "metadata": {},
   "source": [
    "## Agents"
   ]
  },
  {
   "cell_type": "code",
   "execution_count": 13,
   "id": "65ca12a7-7c1b-4836-996f-5fe458cf8004",
   "metadata": {},
   "outputs": [],
   "source": [
    "def human_move(state,player):\n",
    "    move = int(input(\"Enter your move (1, 2, or 3): \"))\n",
    "    while move not in valid_moves(state,player):\n",
    "        print(\"Invalid move. Try again.\")\n",
    "        move = int(input(\"Enter your move (1, 2, or 3): \"))\n",
    "    return move\n",
    "\n",
    "human_agent=Agent(human_move)"
   ]
  },
  {
   "cell_type": "code",
   "execution_count": 14,
   "id": "81ba1c4c-51a3-4c66-8efa-c53ae9d545da",
   "metadata": {},
   "outputs": [],
   "source": [
    "def random_move(state,player):\n",
    "    return random.choice(valid_moves(state,player))\n",
    "\n",
    "random_agent=Agent(random_move)"
   ]
  },
  {
   "cell_type": "markdown",
   "id": "4fbaaf92-c231-4e8b-be57-a270c0f20c3c",
   "metadata": {},
   "source": [
    "## Running the Game"
   ]
  },
  {
   "cell_type": "code",
   "execution_count": 15,
   "id": "a33568a2-0e8b-4090-b1fb-7d0036f10d9d",
   "metadata": {},
   "outputs": [
    {
     "name": "stdout",
     "output_type": "stream",
     "text": [
      "====\n",
      "Game  1\n",
      "Player 1\n",
      "Sticks remaining: 21\n",
      "Player 1 moves 1\n",
      "Player 2\n",
      "Sticks remaining: 20\n",
      "Player 2 moves 2\n",
      "Player 1\n",
      "Sticks remaining: 18\n",
      "Player 1 moves 2\n",
      "Player 2\n",
      "Sticks remaining: 16\n",
      "Player 2 moves 2\n",
      "Player 1\n",
      "Sticks remaining: 14\n",
      "Player 1 moves 1\n",
      "Player 2\n",
      "Sticks remaining: 13\n",
      "Player 2 moves 1\n",
      "Player 1\n",
      "Sticks remaining: 12\n",
      "Player 1 moves 1\n",
      "Player 2\n",
      "Sticks remaining: 11\n",
      "Player 2 moves 3\n",
      "Player 1\n",
      "Sticks remaining: 8\n",
      "Player 1 moves 2\n",
      "Player 2\n",
      "Sticks remaining: 6\n",
      "Player 2 moves 1\n",
      "Player 1\n",
      "Sticks remaining: 5\n",
      "Player 1 moves 1\n",
      "Player 2\n",
      "Sticks remaining: 4\n",
      "Player 2 moves 3\n",
      "Player 1\n",
      "Sticks remaining: 1\n",
      "Player 1 moves 1\n",
      "Player 1\n",
      "Sticks remaining: 0\n",
      "Player  2 won.\n"
     ]
    },
    {
     "data": {
      "text/plain": [
       "[2]"
      ]
     },
     "execution_count": 15,
     "metadata": {},
     "output_type": "execute_result"
    }
   ],
   "source": [
    "g=Game()\n",
    "g.run(random_agent,random_agent)"
   ]
  },
  {
   "cell_type": "code",
   "execution_count": null,
   "id": "b8658bcb-c406-452c-94e5-804f01a38cb1",
   "metadata": {},
   "outputs": [],
   "source": []
  }
 ],
 "metadata": {
  "kernelspec": {
   "display_name": "Python 3 (ipykernel)",
   "language": "python",
   "name": "python3"
  },
  "language_info": {
   "codemirror_mode": {
    "name": "ipython",
    "version": 3
   },
   "file_extension": ".py",
   "mimetype": "text/x-python",
   "name": "python",
   "nbconvert_exporter": "python",
   "pygments_lexer": "ipython3",
   "version": "3.12.6"
  }
 },
 "nbformat": 4,
 "nbformat_minor": 5
}
