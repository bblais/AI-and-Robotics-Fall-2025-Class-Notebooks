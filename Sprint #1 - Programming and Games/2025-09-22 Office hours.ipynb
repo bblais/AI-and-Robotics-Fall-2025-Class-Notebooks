{
 "cells": [
  {
   "cell_type": "code",
   "execution_count": 1,
   "id": "85504c27-6b65-404e-aaa5-b035231c0655",
   "metadata": {},
   "outputs": [
    {
     "name": "stdout",
     "output_type": "stream",
     "text": [
      "Version:  0.3.15\n"
     ]
    }
   ],
   "source": [
    "from Game import *"
   ]
  },
  {
   "cell_type": "code",
   "execution_count": 2,
   "id": "953fd4e7-e968-494d-8d77-9486cd8160c7",
   "metadata": {},
   "outputs": [
    {
     "data": {
      "text/plain": [
       " 0  1  2  1 \n",
       " 1  2  0  0 \n",
       " 0  0  0  0 \n",
       " 0  0  0  0 "
      ]
     },
     "execution_count": 2,
     "metadata": {},
     "output_type": "execute_result"
    }
   ],
   "source": [
    "state=Board(4,4)\n",
    "state[1]=1\n",
    "state[2]=2\n",
    "state[3]=1\n",
    "state[4]=1\n",
    "state[5]=2\n",
    "state"
   ]
  },
  {
   "cell_type": "code",
   "execution_count": 5,
   "id": "0babf2fb-36f1-4065-ae72-6379be436a05",
   "metadata": {},
   "outputs": [
    {
     "name": "stdout",
     "output_type": "stream",
     "text": [
      "11\n"
     ]
    }
   ],
   "source": [
    "# count all the player 0 pieces\n",
    "count=0\n",
    "for location in range(16):\n",
    "    if state[location]==0:\n",
    "        count=count+1\n",
    "\n",
    "print(count)"
   ]
  },
  {
   "cell_type": "code",
   "execution_count": null,
   "id": "00ca07a1-5d6b-447a-94a2-603f5f651ac2",
   "metadata": {},
   "outputs": [],
   "source": []
  }
 ],
 "metadata": {
  "kernelspec": {
   "display_name": "Python 3 (ipykernel)",
   "language": "python",
   "name": "python3"
  },
  "language_info": {
   "codemirror_mode": {
    "name": "ipython",
    "version": 3
   },
   "file_extension": ".py",
   "mimetype": "text/x-python",
   "name": "python",
   "nbconvert_exporter": "python",
   "pygments_lexer": "ipython3",
   "version": "3.12.6"
  }
 },
 "nbformat": 4,
 "nbformat_minor": 5
}
