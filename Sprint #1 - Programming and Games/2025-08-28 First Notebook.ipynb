{
 "cells": [
  {
   "cell_type": "code",
   "execution_count": 1,
   "id": "a1920e0a-6d05-4440-9b1c-8bef004b0f59",
   "metadata": {},
   "outputs": [
    {
     "name": "stdout",
     "output_type": "stream",
     "text": [
      "hello world\n"
     ]
    }
   ],
   "source": [
    "print(\"hello world\")"
   ]
  },
  {
   "cell_type": "code",
   "execution_count": 2,
   "id": "7ebf2e10-eb37-4485-8025-0511f950eafb",
   "metadata": {},
   "outputs": [
    {
     "data": {
      "text/plain": [
       "4961106069420212888"
      ]
     },
     "execution_count": 2,
     "metadata": {},
     "output_type": "execute_result"
    }
   ],
   "source": [
    "7364653736*673637383"
   ]
  },
  {
   "cell_type": "code",
   "execution_count": 3,
   "id": "3c6d2051-3d07-4bc1-aeb5-02a7923fea60",
   "metadata": {},
   "outputs": [
    {
     "ename": "NameError",
     "evalue": "name 'cos' is not defined",
     "output_type": "error",
     "traceback": [
      "\u001b[31m---------------------------------------------------------------------------\u001b[39m",
      "\u001b[31mNameError\u001b[39m                                 Traceback (most recent call last)",
      "\u001b[36mCell\u001b[39m\u001b[36m \u001b[39m\u001b[32mIn[3]\u001b[39m\u001b[32m, line 1\u001b[39m\n\u001b[32m----> \u001b[39m\u001b[32m1\u001b[39m \u001b[43mcos\u001b[49m(\u001b[32m90\u001b[39m)\n",
      "\u001b[31mNameError\u001b[39m: name 'cos' is not defined"
     ]
    }
   ],
   "source": [
    "cos(90)"
   ]
  },
  {
   "cell_type": "code",
   "execution_count": 4,
   "id": "87db85e8-f968-4adc-a12f-026e6dbcfef7",
   "metadata": {},
   "outputs": [],
   "source": [
    "from numpy import cos"
   ]
  },
  {
   "cell_type": "code",
   "execution_count": 5,
   "id": "ab9fcd65-ad28-4cac-adc2-df0a87ac16a9",
   "metadata": {},
   "outputs": [
    {
     "data": {
      "text/plain": [
       "-0.4480736161291702"
      ]
     },
     "execution_count": 5,
     "metadata": {},
     "output_type": "execute_result"
    }
   ],
   "source": [
    "cos(90)"
   ]
  },
  {
   "cell_type": "code",
   "execution_count": 6,
   "id": "de1d024a-2d60-4f2d-9cb8-d417456694d9",
   "metadata": {},
   "outputs": [
    {
     "data": {
      "text/plain": [
       "4.489659216976159e-11"
      ]
     },
     "execution_count": 6,
     "metadata": {},
     "output_type": "execute_result"
    }
   ],
   "source": [
    "cos(90 * 3.1415926535/180)"
   ]
  },
  {
   "cell_type": "code",
   "execution_count": 7,
   "id": "52d4ffcf-5406-45da-82e5-10c8a2b430ee",
   "metadata": {},
   "outputs": [],
   "source": [
    "from numpy import radians"
   ]
  },
  {
   "cell_type": "code",
   "execution_count": 8,
   "id": "fe53a961-c91d-46a5-a0b9-3804961e6ea0",
   "metadata": {},
   "outputs": [
    {
     "data": {
      "text/plain": [
       "6.123233995736766e-17"
      ]
     },
     "execution_count": 8,
     "metadata": {},
     "output_type": "execute_result"
    }
   ],
   "source": [
    "cos(radians(90))"
   ]
  },
  {
   "cell_type": "code",
   "execution_count": 9,
   "id": "2cec394c-93c2-40d7-976b-bd002ab26390",
   "metadata": {},
   "outputs": [],
   "source": [
    "a=5\n",
    "b=10\n",
    "c=a*b+b**2"
   ]
  },
  {
   "cell_type": "code",
   "execution_count": 10,
   "id": "bce82c16-4a74-4612-b307-e65ddad386ef",
   "metadata": {},
   "outputs": [
    {
     "data": {
      "text/plain": [
       "150"
      ]
     },
     "execution_count": 10,
     "metadata": {},
     "output_type": "execute_result"
    }
   ],
   "source": [
    "c"
   ]
  },
  {
   "cell_type": "markdown",
   "id": "8e48de46-c082-445e-b3be-ed4af6fe50dd",
   "metadata": {},
   "source": [
    "This is some text."
   ]
  },
  {
   "cell_type": "code",
   "execution_count": 11,
   "id": "2309b27f-534b-40fe-aef5-8b83bbe7c5e9",
   "metadata": {},
   "outputs": [
    {
     "ename": "SyntaxError",
     "evalue": "invalid syntax (2555058215.py, line 1)",
     "output_type": "error",
     "traceback": [
      "  \u001b[36mCell\u001b[39m\u001b[36m \u001b[39m\u001b[32mIn[11]\u001b[39m\u001b[32m, line 1\u001b[39m\n\u001b[31m    \u001b[39m\u001b[31mThis is some text in a code block.\u001b[39m\n                 ^\n\u001b[31mSyntaxError\u001b[39m\u001b[31m:\u001b[39m invalid syntax\n"
     ]
    }
   ],
   "source": [
    "This is some text in a code block."
   ]
  },
  {
   "cell_type": "markdown",
   "id": "8674b62c-2bde-43fa-aabc-9e95dc181058",
   "metadata": {},
   "source": [
    "Any text and notes I want.\n",
    "\n",
    "Multiple lines of text.\n",
    "\n",
    "I can do **bold** and *italic*.  \n",
    "\n",
    "I can do headers like:\n",
    "\n",
    "# heading 1\n",
    "\n",
    "some text\n",
    "\n",
    "## subheading \n",
    "\n",
    "and equations in LaTeX format:\n",
    "\n",
    "$$\n",
    "E=mc^2\\times \\sqrt{1-\\frac{v^2}{c^2}}\n",
    "$$"
   ]
  },
  {
   "cell_type": "code",
   "execution_count": null,
   "id": "d9ec5569-c46e-4c05-87fa-d5fbd9ca91b5",
   "metadata": {},
   "outputs": [],
   "source": []
  }
 ],
 "metadata": {
  "kernelspec": {
   "display_name": "Python 3 (ipykernel)",
   "language": "python",
   "name": "python3"
  },
  "language_info": {
   "codemirror_mode": {
    "name": "ipython",
    "version": 3
   },
   "file_extension": ".py",
   "mimetype": "text/x-python",
   "name": "python",
   "nbconvert_exporter": "python",
   "pygments_lexer": "ipython3",
   "version": "3.12.6"
  }
 },
 "nbformat": 4,
 "nbformat_minor": 5
}
